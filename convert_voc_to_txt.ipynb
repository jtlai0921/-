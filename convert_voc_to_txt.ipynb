{
  "nbformat": 4,
  "nbformat_minor": 0,
  "metadata": {
    "kernelspec": {
      "display_name": "Python 3",
      "language": "python",
      "name": "python3"
    },
    "language_info": {
      "codemirror_mode": {
        "name": "ipython",
        "version": 3
      },
      "file_extension": ".py",
      "mimetype": "text/x-python",
      "name": "python",
      "nbconvert_exporter": "python",
      "pygments_lexer": "ipython3",
      "version": "3.6.6"
    },
    "colab": {
      "name": "convert_voc_to_txt.ipynb",
      "provenance": [],
      "collapsed_sections": [],
      "toc_visible": true,
      "include_colab_link": true
    }
  },
  "cells": [
    {
      "cell_type": "markdown",
      "metadata": {
        "id": "view-in-github",
        "colab_type": "text"
      },
      "source": [
        "<a href=\"https://colab.research.google.com/github/jtlai0921/-/blob/master/convert_voc_to_txt.ipynb\" target=\"_parent\"><img src=\"https://colab.research.google.com/assets/colab-badge.svg\" alt=\"Open In Colab\"/></a>"
      ]
    },
    {
      "cell_type": "markdown",
      "metadata": {
        "id": "RVix_FBXwJWJ"
      },
      "source": [
        "# convert .xml to .txt"
      ]
    },
    {
      "cell_type": "code",
      "metadata": {
        "id": "IZPqNSpMg-qS",
        "colab": {
          "base_uri": "https://localhost:8080/"
        },
        "outputId": "d90243d4-08fa-4223-8f4d-649b31890bcd"
      },
      "source": [
        "from google.colab import drive\n",
        "drive.mount('/content/drive/')"
      ],
      "execution_count": 8,
      "outputs": [
        {
          "output_type": "stream",
          "text": [
            "Drive already mounted at /content/drive/; to attempt to forcibly remount, call drive.mount(\"/content/drive/\", force_remount=True).\n"
          ],
          "name": "stdout"
        }
      ]
    },
    {
      "cell_type": "code",
      "metadata": {
        "id": "6GEHkFEBwVcv"
      },
      "source": [
        "import xml.etree.ElementTree as ET\n",
        "import os\n",
        "from os import getcwd\n",
        "from glob import glob"
      ],
      "execution_count": 9,
      "outputs": []
    },
    {
      "cell_type": "code",
      "metadata": {
        "id": "dljdmXhowXi1"
      },
      "source": [
        "FOLDER_PATH = 'drive/My Drive/class/緯育AI瑕疵檢測/Day3/keras-yolo3'\n",
        "classes = ['crazing', 'inclusion', 'patches', 'pitted_surface', 'rolled-in_scale', 'scratches']\n",
        "TXT_PATH = 'drive/My Drive/anno.txt'"
      ],
      "execution_count": 10,
      "outputs": []
    },
    {
      "cell_type": "code",
      "metadata": {
        "id": "OUI242-Lg0L9"
      },
      "source": [
        "# output file\n",
        "list_file = open(TXT_PATH, 'w')\n",
        "\n",
        "for path in glob(os.path.join(FOLDER_PATH, 'dataset/train_anno/*.xml')):\n",
        "    file_id = ''.join(path.split('/')[-1].split('.')[:-1])\n",
        "    print(file_id)\n",
        "    in_file = open(path)\n",
        "\n",
        "    # Parse .xml file\n",
        "    tree=ET.parse(in_file)\n",
        "    root = tree.getroot()\n",
        "    # Write object information to .txt file\n",
        "    list_file.write(f'dataset/train_img/{file_id}.jpg') # path\n",
        "    for obj in root.iter('object'):\n",
        "        cls = obj.find('name').text \n",
        "        cls_id = classes.index(cls)\n",
        "        xmlbox = obj.find('bndbox')\n",
        "        b = (int(xmlbox.find('xmin').text), int(xmlbox.find('ymin').text), int(xmlbox.find('xmax').text), int(xmlbox.find('ymax').text))\n",
        "        list_file.write(\" \" + \",\".join([str(a) for a in b]) + ',' + str(cls_id))\n",
        "    list_file.write('\\n')\n",
        "list_file.close()\n",
        "    \n",
        "    "
      ],
      "execution_count": 11,
      "outputs": []
    },
    {
      "cell_type": "code",
      "metadata": {
        "id": "SFP-9ZN_g0MA",
        "outputId": "fd7c40a5-86ba-4a55-8cc0-9fd3a615c7ea",
        "colab": {
          "base_uri": "https://localhost:8080/"
        }
      },
      "source": [
        "# number of .xml file\n",
        "len(glob(os.path.join(FOLDER_PATH, 'dataset/train_anno/*.xml')))"
      ],
      "execution_count": 12,
      "outputs": [
        {
          "output_type": "execute_result",
          "data": {
            "text/plain": [
              "0"
            ]
          },
          "metadata": {
            "tags": []
          },
          "execution_count": 12
        }
      ]
    },
    {
      "cell_type": "code",
      "metadata": {
        "id": "O26uFkmVg0MC",
        "outputId": "0d3838e9-71f1-40bd-d55b-e9a47b627022",
        "colab": {
          "base_uri": "https://localhost:8080/"
        }
      },
      "source": [
        "# number of lines in .txt file\n",
        "lines = 0\n",
        "with open(TXT_PATH) as f:\n",
        "    for line in f:\n",
        "        lines = lines + 1\n",
        "print(lines)"
      ],
      "execution_count": 14,
      "outputs": [
        {
          "output_type": "stream",
          "text": [
            "0\n"
          ],
          "name": "stdout"
        }
      ]
    }
  ]
}
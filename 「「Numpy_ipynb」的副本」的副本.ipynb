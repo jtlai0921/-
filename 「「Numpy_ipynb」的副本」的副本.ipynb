{
  "nbformat": 4,
  "nbformat_minor": 0,
  "metadata": {
    "kernelspec": {
      "display_name": "Python 3",
      "language": "python",
      "name": "python3"
    },
    "language_info": {
      "codemirror_mode": {
        "name": "ipython",
        "version": 3
      },
      "file_extension": ".py",
      "mimetype": "text/x-python",
      "name": "python",
      "nbconvert_exporter": "python",
      "pygments_lexer": "ipython3",
      "version": "3.6.3"
    },
    "colab": {
      "name": "「「Numpy.ipynb」的副本」的副本",
      "provenance": [],
      "collapsed_sections": [],
      "include_colab_link": true
    },
    "accelerator": "GPU"
  },
  "cells": [
    {
      "cell_type": "markdown",
      "metadata": {
        "id": "view-in-github",
        "colab_type": "text"
      },
      "source": [
        "<a href=\"https://colab.research.google.com/github/jtlai0921/-/blob/master/%E3%80%8C%E3%80%8CNumpy_ipynb%E3%80%8D%E7%9A%84%E5%89%AF%E6%9C%AC%E3%80%8D%E7%9A%84%E5%89%AF%E6%9C%AC.ipynb\" target=\"_parent\"><img src=\"https://colab.research.google.com/assets/colab-badge.svg\" alt=\"Open In Colab\"/></a>"
      ]
    },
    {
      "cell_type": "markdown",
      "metadata": {
        "id": "eg11qiMEITCE"
      },
      "source": [
        "## Numpy"
      ]
    },
    {
      "cell_type": "code",
      "metadata": {
        "id": "x5_S6IzFITCG",
        "colab": {
          "base_uri": "https://localhost:8080/"
        },
        "outputId": "c842ad68-f45b-4ae1-b924-73ef69e16b1c"
      },
      "source": [
        "# 1 axis\n",
        "[0, 1, 2, 3]  # 4 elements, length is 4\n",
        "\n",
        "# 2 axes\n",
        "[[0, 1, 2, 3],\n",
        " [4, 5, 6, 7]]  \n",
        " # The length of first axis is 2, \n",
        " # the length of second axis is 4"
      ],
      "execution_count": null,
      "outputs": [
        {
          "output_type": "execute_result",
          "data": {
            "text/plain": [
              "[[0, 1, 2, 3], [4, 5, 6, 7]]"
            ]
          },
          "metadata": {
            "tags": []
          },
          "execution_count": 1
        }
      ]
    },
    {
      "cell_type": "markdown",
      "metadata": {
        "id": "Iojmj0q1ITCL"
      },
      "source": [
        "### Create Numpy ndarray"
      ]
    },
    {
      "cell_type": "code",
      "metadata": {
        "id": "MU-ShrXjITCM",
        "colab": {
          "base_uri": "https://localhost:8080/"
        },
        "outputId": "0b5e31fa-4036-4ac1-fea7-b517842b0c41"
      },
      "source": [
        "import numpy as np\n",
        "\n",
        "# create 1 axis array from 0 to 3 (not included)\n",
        "x = np.arange(3)\n",
        "\n",
        "print(x) # [0, 1, 2]\n",
        "print(type(x))  # <class 'numpy.ndarray'>\n",
        "\n",
        "# Specify a float data type\n",
        "y = np.arange(5, dtype='float64')  \n",
        "print(y) # [0. 1. 2. 3. 4.]"
      ],
      "execution_count": null,
      "outputs": [
        {
          "output_type": "stream",
          "text": [
            "[0 1 2]\n",
            "<class 'numpy.ndarray'>\n",
            "[0. 1. 2. 3. 4.]\n"
          ],
          "name": "stdout"
        }
      ]
    },
    {
      "cell_type": "markdown",
      "metadata": {
        "id": "dRXPSU_59yZg"
      },
      "source": [
        "### Create numpy.ndarray from Python List"
      ]
    },
    {
      "cell_type": "code",
      "metadata": {
        "id": "FJmcfQt_ITCO",
        "colab": {
          "base_uri": "https://localhost:8080/"
        },
        "outputId": "2993d1ba-83a2-4359-9639-dc1b621167cb"
      },
      "source": [
        "import numpy as np\n",
        "\n",
        "python_list = [55, 66]\n",
        "\n",
        "numpy_array = np.array(python_list)\n",
        "\n",
        "print(python_list, type(python_list)) # [55, 66] <class 'list'>\n",
        "print(numpy_array, type(numpy_array)) # [55 66] <class 'numpy.ndarray'>"
      ],
      "execution_count": null,
      "outputs": [
        {
          "output_type": "stream",
          "text": [
            "[55, 66] <class 'list'>\n",
            "[55 66] <class 'numpy.ndarray'>\n"
          ],
          "name": "stdout"
        }
      ]
    },
    {
      "cell_type": "markdown",
      "metadata": {
        "id": "zF3ZndACITCQ"
      },
      "source": [
        "### Attributes of  ndarray"
      ]
    },
    {
      "cell_type": "code",
      "metadata": {
        "id": "Yh0gkOmqITCQ",
        "colab": {
          "base_uri": "https://localhost:8080/"
        },
        "outputId": "bd0cad3e-66d9-4edf-fb49-3436e698f002"
      },
      "source": [
        "# 1D\n",
        "\n",
        "import numpy as np\n",
        "\n",
        "x = np.arange(3)\n",
        "print(x) # [0, 1, 2]\n",
        "\n",
        "# ndim - number of axes (dimensions)\n",
        "print(x.ndim)  # 1 dim\n",
        "\n",
        "# shape - dimensions of the array\n",
        "print(x.shape)  # (3, )\n",
        "\n",
        "# size - the total number of elements\n",
        "print(x.size)  # 3\n",
        "\n",
        "# dtype - the type of the elements\n",
        "print(x.dtype)  # int64"
      ],
      "execution_count": null,
      "outputs": [
        {
          "output_type": "stream",
          "text": [
            "[0 1 2]\n",
            "1\n",
            "(3,)\n",
            "3\n",
            "int64\n"
          ],
          "name": "stdout"
        }
      ]
    },
    {
      "cell_type": "code",
      "metadata": {
        "id": "HPmZ6HE0DG48",
        "colab": {
          "base_uri": "https://localhost:8080/"
        },
        "outputId": "fe51cd53-17ff-4ddf-a553-375740e49ced"
      },
      "source": [
        "# 2D\n",
        "import numpy as np\n",
        "\n",
        "x = np.array([[0, 1, 2], [3, 4, 5]])\n",
        "print(x)\n",
        "# [[0 1 2]\n",
        "#  [3 4 5]]\n",
        "\n",
        "# ndim - number of axes (dimensions)\n",
        "print(x.ndim)  # 2\n",
        "\n",
        "# shape - dimensions of the array\n",
        "print(x.shape)  # (2, 3)\n",
        "\n",
        "# size - the total number of elements\n",
        "print(x.size)  # 6"
      ],
      "execution_count": null,
      "outputs": [
        {
          "output_type": "stream",
          "text": [
            "[[0 1 2]\n",
            " [3 4 5]]\n",
            "2\n",
            "(2, 3)\n",
            "6\n"
          ],
          "name": "stdout"
        }
      ]
    },
    {
      "cell_type": "markdown",
      "metadata": {
        "id": "7Gb2y6CuITCS"
      },
      "source": [
        "### Numpy Array reshape"
      ]
    },
    {
      "cell_type": "code",
      "metadata": {
        "id": "1qr0IG_8ITCT",
        "colab": {
          "base_uri": "https://localhost:8080/"
        },
        "outputId": "1343a5b7-3c52-46b3-e747-eb53fdc2a353"
      },
      "source": [
        "# reshape\n",
        "x = np.arange(6)\n",
        "print(x)  # [0 1 2 3 4 5]\n",
        "\n",
        "# Method 1\n",
        "new_shape = x.reshape(3, 2)\n",
        "print(new_shape)\n",
        "# [[0 1]\n",
        "#  [2 3]\n",
        "#  [4 5]]\n",
        "\n",
        "# Method 2\n",
        "new_shape = np.reshape(x, (3, 2))    \n",
        "    \n",
        "# All in 1 line\n",
        "y = np.arange(6).reshape(2, 3)"
      ],
      "execution_count": null,
      "outputs": [
        {
          "output_type": "stream",
          "text": [
            "[0 1 2 3 4 5]\n",
            "[[0 1]\n",
            " [2 3]\n",
            " [4 5]]\n"
          ],
          "name": "stdout"
        }
      ]
    },
    {
      "cell_type": "markdown",
      "metadata": {
        "id": "s-9JOwjFITCV"
      },
      "source": [
        "### Initialize with Value"
      ]
    },
    {
      "cell_type": "code",
      "metadata": {
        "id": "qAgafKzDITCV",
        "colab": {
          "base_uri": "https://localhost:8080/"
        },
        "outputId": "f6db3d5a-706b-4ba6-8b1a-ae192d36abeb"
      },
      "source": [
        "# np.zeros: filled with 0\n",
        "np.zeros(2)  # array([ 0.,  0.,  0.])\n",
        "np.zeros((2, 3))  \n",
        "# array([[ 0.,  0.,  0.],                  \n",
        "#        [ 0.,  0.,  0.]])\n",
        "\n",
        "# np.ones: filled with 1\n",
        "np.ones((2,3))  \n",
        "# array([[ 1.,  1.,  1.],\n",
        "#        [ 1.,  1.,  1.]])\n",
        "\n",
        "# np.full: filled with given value\n",
        "np.full(shape=(2, 3), fill_value=5566)\n",
        "# array([[5566, 5566, 5566],\n",
        "#        [5566, 5566, 5566]])\n",
        "\n",
        "np.random.random((3,3))"
      ],
      "execution_count": null,
      "outputs": [
        {
          "output_type": "execute_result",
          "data": {
            "text/plain": [
              "array([[0.99560506, 0.33922047, 0.20031045],\n",
              "       [0.82664041, 0.33273371, 0.1209027 ],\n",
              "       [0.5791665 , 0.70642018, 0.63932936]])"
            ]
          },
          "metadata": {
            "tags": []
          },
          "execution_count": 7
        }
      ]
    },
    {
      "cell_type": "markdown",
      "metadata": {
        "id": "BnGklLPIQgjH"
      },
      "source": [
        "### Initialize with Random Value"
      ]
    },
    {
      "cell_type": "code",
      "metadata": {
        "id": "QlqmmYd_Qlui",
        "colab": {
          "base_uri": "https://localhost:8080/"
        },
        "outputId": "9b6d46e2-32f6-4e37-d1af-ddf4479294c5"
      },
      "source": [
        "# uniform distribution: [0, 1)\n",
        "np.random.random(size=(3))\n",
        "\n",
        "# Normal distributution\n",
        "np.random.normal(loc=0.0, scale=1.0, size=(2,2))\n",
        "\n",
        "# Random integer\n",
        "np.random.randint(low=1, high=10, size=(2,2))"
      ],
      "execution_count": null,
      "outputs": [
        {
          "output_type": "execute_result",
          "data": {
            "text/plain": [
              "array([[1, 2],\n",
              "       [5, 3]])"
            ]
          },
          "metadata": {
            "tags": []
          },
          "execution_count": 8
        }
      ]
    },
    {
      "cell_type": "markdown",
      "metadata": {
        "id": "rgc6D7k9ITCX"
      },
      "source": [
        "### Array Index"
      ]
    },
    {
      "cell_type": "code",
      "metadata": {
        "id": "z1OUwo-_ITCY",
        "colab": {
          "base_uri": "https://localhost:8080/"
        },
        "outputId": "906530bf-a869-4641-d8de-97eb86803d88"
      },
      "source": [
        "import numpy as np\n",
        "\n",
        "# 1D array\n",
        "x = np.arange(6)  # array([0, 1, 2, 3, 4, 5])\n",
        "x[1]   # 1\n",
        "x[-3]  # 3\n",
        "\n",
        "# 2D array\n",
        "x = np.arange(6).reshape(2, 3)  #[[0, 1, 2],\n",
        "                                # [3, 4, 5]])\n",
        "x[0, 1]   # 1\n",
        "x[1, -2]  # 4"
      ],
      "execution_count": null,
      "outputs": [
        {
          "output_type": "execute_result",
          "data": {
            "text/plain": [
              "4"
            ]
          },
          "metadata": {
            "tags": []
          },
          "execution_count": 9
        }
      ]
    },
    {
      "cell_type": "markdown",
      "metadata": {
        "collapsed": true,
        "id": "6mD8Id1jITCg"
      },
      "source": [
        "### Array Slice & Stride"
      ]
    },
    {
      "cell_type": "code",
      "metadata": {
        "id": "g6a0EPO0ITCg",
        "colab": {
          "base_uri": "https://localhost:8080/"
        },
        "outputId": "e9b1d373-8cad-4361-9bef-eab283d11db3"
      },
      "source": [
        "import numpy as np\n",
        "\n",
        "# 1D array\n",
        "x = np.arange(6)  # array([0, 1, 2, 3, 4, 5])\n",
        "x[1:5]   # [1, 2, 3, 4]\n",
        "x[1:6]   # x[1:],  [1, 2, 3, 4, 5]\n",
        "x[:3]    # x[0:3] , [0, 1, 2]\n",
        "x[1:4:2] # [1, 3]\n",
        "\n",
        "# 2D array\n",
        "x = np.arange(6).reshape(2, 3)  #[[0, 1, 2],\n",
        "                                # [3, 4, 5]])\n",
        "x[0, 0:2]    #  [0, 1]\n",
        "x[:, 1:]     # [[1, 2],\n",
        "             #  [4, 5]]\n",
        "x[::1, ::2]  # [[0, 2],\n",
        "             #  [3, 5]]\n",
        "\n",
        "# reverse\n",
        "x[:, ::-1] # [[2, 1, 0],\n",
        "           #  [5, 4, 3]]"
      ],
      "execution_count": null,
      "outputs": [
        {
          "output_type": "execute_result",
          "data": {
            "text/plain": [
              "array([[2, 1, 0],\n",
              "       [5, 4, 3]])"
            ]
          },
          "metadata": {
            "tags": []
          },
          "execution_count": 10
        }
      ]
    },
    {
      "cell_type": "markdown",
      "metadata": {
        "id": "L2KFNoh4ITCi"
      },
      "source": [
        "### Boolean / Mask Index "
      ]
    },
    {
      "cell_type": "code",
      "metadata": {
        "id": "OAblzWoFITCj",
        "colab": {
          "base_uri": "https://localhost:8080/"
        },
        "outputId": "6530e767-f6cd-46a9-bf39-81934d2038fd"
      },
      "source": [
        "import numpy as np\n",
        "\n",
        "x = np.arange(6)  # array([0, 1, 2, 3, 4, 5])\n",
        "condition = x<4\n",
        "x[condition] # [0, 1, 2, 3]\n",
        "\n",
        "x[condition] = 0\n",
        "x # [0, 0, 0, 0, 4, 5]\n",
        "\n",
        "# Mask\n",
        "# original x      # [ 0, 1, 2, 3, 4, 5]\n",
        "# if <4, assign 0\n",
        "print(condition)  # [ True  True  True True  False False]\n",
        "x                 # [ 0,    0,    0,   0,    4,    5]"
      ],
      "execution_count": null,
      "outputs": [
        {
          "output_type": "stream",
          "text": [
            "[ True  True  True  True False False]\n"
          ],
          "name": "stdout"
        },
        {
          "output_type": "execute_result",
          "data": {
            "text/plain": [
              "array([0, 0, 0, 0, 4, 5])"
            ]
          },
          "metadata": {
            "tags": []
          },
          "execution_count": 11
        }
      ]
    },
    {
      "cell_type": "markdown",
      "metadata": {
        "id": "SEpbCvXaITCk"
      },
      "source": [
        "### Concatenate\n",
        "Join a sequence of arrays along an existing axis.\n",
        "\n"
      ]
    },
    {
      "cell_type": "code",
      "metadata": {
        "id": "3zgjhlZOITCl",
        "colab": {
          "base_uri": "https://localhost:8080/"
        },
        "outputId": "a59c70de-ecb1-428c-ef5a-1e14284235c2"
      },
      "source": [
        "import numpy as np\n",
        "\n",
        "x = np.array([[0, 1, 2], [3, 4, 5]])\n",
        "y = np.array([[6, 7, 8]])\n",
        "\n",
        "np.concatenate((x, y), axis=0)  # [[0, 1, 2],\n",
        "                                #  [3, 4, 5],\n",
        "                                #  [6, 7, 8]]\n",
        "\n",
        "z = [[55], [66]]       \n",
        "np.concatenate((x, z), axis=1)  # [[0, 1, 2, 55],\n",
        "                                #  [3, 4, 5, 66]]"
      ],
      "execution_count": null,
      "outputs": [
        {
          "output_type": "execute_result",
          "data": {
            "text/plain": [
              "array([[ 0,  1,  2, 55],\n",
              "       [ 3,  4,  5, 66]])"
            ]
          },
          "metadata": {
            "tags": []
          },
          "execution_count": 12
        }
      ]
    },
    {
      "cell_type": "markdown",
      "metadata": {
        "id": "D5Al-1voITCn"
      },
      "source": [
        "### Basic Operations"
      ]
    },
    {
      "cell_type": "code",
      "metadata": {
        "id": "XSZdcFBaITCn",
        "colab": {
          "base_uri": "https://localhost:8080/"
        },
        "outputId": "4070e9f6-8f46-4b44-c12e-e231a6d612fb"
      },
      "source": [
        "import numpy as np\n",
        "a = np.array([[0, 1], [2, 3]])\n",
        "b = np.array([[4, 5], [6, 7]])\n",
        "\n",
        "print(a + b)  # array([[4, 6], [8, 10]])\n",
        "print(a - b)  # array([[-4, -4], [-4, -4]])\n",
        "print(a * b)  # array([[0, 5], [12, 21]])\n",
        "print(a / b)  # array([[0, 0.2], [0.3333, 0.42857143]]\n",
        "\n",
        "print(a - 3)  # array([[-3, -2], [-1, 0]])\n",
        "print(a * 2)  # array([[0, 2], [4, 6]])"
      ],
      "execution_count": null,
      "outputs": [
        {
          "output_type": "stream",
          "text": [
            "[[ 4  6]\n",
            " [ 8 10]]\n",
            "[[-4 -4]\n",
            " [-4 -4]]\n",
            "[[ 0  5]\n",
            " [12 21]]\n",
            "[[0.         0.2       ]\n",
            " [0.33333333 0.42857143]]\n",
            "[[-3 -2]\n",
            " [-1  0]]\n",
            "[[0 2]\n",
            " [4 6]]\n"
          ],
          "name": "stdout"
        }
      ]
    },
    {
      "cell_type": "markdown",
      "metadata": {
        "id": "fmuFiBguSY-F"
      },
      "source": [
        "### Basic Statistics"
      ]
    },
    {
      "cell_type": "code",
      "metadata": {
        "id": "_qwUYLDjScpw",
        "colab": {
          "base_uri": "https://localhost:8080/"
        },
        "outputId": "c9608cde-b474-4552-e633-39e5bba602eb"
      },
      "source": [
        "x = np.arange(10) # [0, 1, 2, 3, 4, 5, 6, 7, 8, 9]\n",
        "print(np.min(x), x.min())\n",
        "print(np.max(x), x.max())\n",
        "print(np.mean(x), x.mean())\n",
        "print(np.std(x), x.std())"
      ],
      "execution_count": null,
      "outputs": [
        {
          "output_type": "stream",
          "text": [
            "0 0\n",
            "9 9\n",
            "4.5 4.5\n",
            "2.8722813232690143 2.8722813232690143\n"
          ],
          "name": "stdout"
        }
      ]
    },
    {
      "cell_type": "code",
      "metadata": {
        "id": "8Hlr5Kb0XgkL",
        "colab": {
          "base_uri": "https://localhost:8080/"
        },
        "outputId": "3a57898a-2cdd-4f20-c322-8bdfaf86742f"
      },
      "source": [
        "x = np.arange(10)\n",
        "print(np.argmax(x,), np.argmin(x))\n",
        "x"
      ],
      "execution_count": null,
      "outputs": [
        {
          "output_type": "stream",
          "text": [
            "9 0\n"
          ],
          "name": "stdout"
        },
        {
          "output_type": "execute_result",
          "data": {
            "text/plain": [
              "array([0, 1, 2, 3, 4, 5, 6, 7, 8, 9])"
            ]
          },
          "metadata": {
            "tags": []
          },
          "execution_count": 15
        }
      ]
    },
    {
      "cell_type": "markdown",
      "metadata": {
        "id": "w6N84R3yITCu"
      },
      "source": [
        "## Reference Answers for Exercises"
      ]
    },
    {
      "cell_type": "markdown",
      "metadata": {
        "id": "bm9SS-tPPt4i"
      },
      "source": [
        "#### Q1 Create a 1D array with values from 10 to 19 **(Hint: np.arange)**"
      ]
    },
    {
      "cell_type": "code",
      "metadata": {
        "id": "_G5khonwITCx",
        "colab": {
          "base_uri": "https://localhost:8080/"
        },
        "outputId": "eeb92798-c2de-49fd-ca20-5d35be31c7aa"
      },
      "source": [
        "# 1\n",
        "x = np.arange(10, 20)\n",
        "print(x)"
      ],
      "execution_count": null,
      "outputs": [
        {
          "output_type": "stream",
          "text": [
            "[10 11 12 13 14 15 16 17 18 19]\n"
          ],
          "name": "stdout"
        }
      ]
    },
    {
      "cell_type": "markdown",
      "metadata": {
        "id": "RK78mZjwP4qK"
      },
      "source": [
        "#### Q2: Reverse a verctor\n",
        "ex: [0, 1, 2] -> [2, 1, 0]"
      ]
    },
    {
      "cell_type": "code",
      "metadata": {
        "id": "ECjKJ1glITC5",
        "colab": {
          "base_uri": "https://localhost:8080/"
        },
        "outputId": "f7d16845-abb4-4363-a580-b56c34f348a6"
      },
      "source": [
        "# 2\n",
        "x = np.arange(6)\n",
        "x = x[::-1]\n",
        "print(x)"
      ],
      "execution_count": null,
      "outputs": [
        {
          "output_type": "stream",
          "text": [
            "[5 4 3 2 1 0]\n"
          ],
          "name": "stdout"
        }
      ]
    },
    {
      "cell_type": "markdown",
      "metadata": {
        "id": "TLlkcH7HQD3Z"
      },
      "source": [
        "#### Q3: Create a 3x3x3 array with random values \n",
        "**(Hint: np.random.random or np.random.normal)**"
      ]
    },
    {
      "cell_type": "code",
      "metadata": {
        "id": "lLj04ViHITDA",
        "colab": {
          "base_uri": "https://localhost:8080/"
        },
        "outputId": "c5a037c5-a694-4d0f-87fc-e11a593bf725"
      },
      "source": [
        "# 3\n",
        "x = np.random.random((3, 3, 3))\n",
        "print(x)"
      ],
      "execution_count": null,
      "outputs": [
        {
          "output_type": "stream",
          "text": [
            "[[[0.03371376 0.31426959 0.58143607]\n",
            "  [0.99377945 0.54290089 0.4182975 ]\n",
            "  [0.00349656 0.05777497 0.64547637]]\n",
            "\n",
            " [[0.50500915 0.06261595 0.94750808]\n",
            "  [0.11153347 0.67763259 0.7187007 ]\n",
            "  [0.08215877 0.44831325 0.34343577]]\n",
            "\n",
            " [[0.06264026 0.57037886 0.61003095]\n",
            "  [0.96903756 0.54220809 0.96700396]\n",
            "  [0.01244346 0.73310227 0.3932963 ]]]\n"
          ],
          "name": "stdout"
        }
      ]
    },
    {
      "cell_type": "markdown",
      "metadata": {
        "id": "-J_jz33XT7GS"
      },
      "source": [
        "#### Q4. Create a 5x5 array with random values and find the minimum and maximum \n",
        "**(Hint: np.min, np.max)**"
      ]
    },
    {
      "cell_type": "code",
      "metadata": {
        "id": "6YIs-QB3ITDC",
        "colab": {
          "base_uri": "https://localhost:8080/"
        },
        "outputId": "cdbf0a8f-9aa0-40d5-ef52-9f98812f4cbb"
      },
      "source": [
        "# 4\n",
        "x = np.random.random((5, 5))\n",
        "xmin, xmax = np.min(x), np.max(x) # or x.min(), x.max()\n",
        "print(xmin, xmax)"
      ],
      "execution_count": null,
      "outputs": [
        {
          "output_type": "stream",
          "text": [
            "0.07635247329669614 0.9580964838624587\n"
          ],
          "name": "stdout"
        }
      ]
    },
    {
      "cell_type": "markdown",
      "metadata": {
        "id": "n85CkWNRUOFW"
      },
      "source": [
        "#### Q5 :Add a border (filled with 0's) around an 3 * 3 matrix with width 1 \n",
        "**Hint: np.pad**"
      ]
    },
    {
      "cell_type": "code",
      "metadata": {
        "id": "AzGluiHEITDF",
        "colab": {
          "base_uri": "https://localhost:8080/"
        },
        "outputId": "6146fbcb-fa52-49c4-931f-d5e688aa6353"
      },
      "source": [
        "# 5\n",
        "x = np.ones((3, 3))\n",
        "x = np.pad(x, pad_width=1, mode='constant', constant_values=0)\n",
        "print(x)"
      ],
      "execution_count": null,
      "outputs": [
        {
          "output_type": "stream",
          "text": [
            "[[0. 0. 0. 0. 0.]\n",
            " [0. 1. 1. 1. 0.]\n",
            " [0. 1. 1. 1. 0.]\n",
            " [0. 1. 1. 1. 0.]\n",
            " [0. 0. 0. 0. 0.]]\n"
          ],
          "name": "stdout"
        }
      ]
    },
    {
      "cell_type": "markdown",
      "metadata": {
        "id": "CbPCi3-FVB7B"
      },
      "source": [
        "#### Q6. Normalize a 3x3 random matrix to 0~1 \n",
        "**(Hint: (x - x min) / (x max - x min))**"
      ]
    },
    {
      "cell_type": "code",
      "metadata": {
        "id": "iuCrY9_4ITDH",
        "colab": {
          "base_uri": "https://localhost:8080/"
        },
        "outputId": "9b67e25c-a212-418a-8f9e-62d164622ac2"
      },
      "source": [
        "# 6\n",
        "x = np.random.random((3, 3))\n",
        "x2 = (x - np.min(x)) / (np.max(x) - np.min(x))\n",
        "print(x)\n",
        "print(x2)"
      ],
      "execution_count": null,
      "outputs": [
        {
          "output_type": "stream",
          "text": [
            "[[0.30286892 0.40711281 0.72201119]\n",
            " [0.76900773 0.61865826 0.02056246]\n",
            " [0.31957085 0.90641143 0.9185848 ]]\n",
            "[[0.31436463 0.43044625 0.78110388]\n",
            " [0.83343725 0.66601438 0.        ]\n",
            " [0.33296319 0.98644425 1.        ]]\n"
          ],
          "name": "stdout"
        }
      ]
    },
    {
      "cell_type": "markdown",
      "metadata": {
        "id": "BHCOXG5gVtSS"
      },
      "source": [
        "#### Q7. Given a 1D array (0 ~ 12), negate all elements which are between 2 and 9.\n",
        "ex: [2, 3, 4, 10, 11] -> [-2, -3, -4, 10, 11]"
      ]
    },
    {
      "cell_type": "code",
      "metadata": {
        "id": "BCvj7UjXITDJ",
        "colab": {
          "base_uri": "https://localhost:8080/"
        },
        "outputId": "8f2d1d3d-9ce6-4512-9a77-7d151b68bd46"
      },
      "source": [
        "# 7\n",
        "x = np.arange(2, 12)\n",
        "x[(2 < x) & (x < 9)] *= -1\n",
        "print(x)"
      ],
      "execution_count": null,
      "outputs": [
        {
          "output_type": "stream",
          "text": [
            "[ 2 -3 -4 -5 -6 -7 -8  9 10 11]\n"
          ],
          "name": "stdout"
        }
      ]
    },
    {
      "cell_type": "markdown",
      "metadata": {
        "id": "5lr0Pte2WQC1"
      },
      "source": [
        "Q8. Extract from the array [6, 7, 8, 10, 24, 45, 99,100] by the below conditions\n",
        " 1. which are not divisible by 3 \n",
        " 2. which are divisible by 5 \n",
        " 3. which are divisible by 3 and 5"
      ]
    },
    {
      "cell_type": "code",
      "metadata": {
        "id": "i1XmEwPqITDM",
        "colab": {
          "base_uri": "https://localhost:8080/"
        },
        "outputId": "eaa4b35e-0377-40e5-aeff-92f2bb1df2cc"
      },
      "source": [
        "# 8\n",
        "x = np.array([6, 7, 8, 10, 24, 45, 99,100])\n",
        "div3 = x[x%3 != 0]\n",
        "print(div3)\n",
        "\n",
        "div5 = x[x%5 == 0]\n",
        "print(div5)\n",
        "\n",
        "div15 = x[(x%3 == 0) & (x%5 == 0)]\n",
        "print(div15)"
      ],
      "execution_count": null,
      "outputs": [
        {
          "output_type": "stream",
          "text": [
            "[  7   8  10 100]\n",
            "[ 10  45 100]\n",
            "[45]\n"
          ],
          "name": "stdout"
        }
      ]
    },
    {
      "cell_type": "markdown",
      "metadata": {
        "id": "xjmYl9rTXNmk"
      },
      "source": [
        "#### Q9. Create random vector of size 10 and replace the maximum value by 0\n",
        "**Hint: np.argmax**"
      ]
    },
    {
      "cell_type": "code",
      "metadata": {
        "id": "Qjydb2NJITDQ",
        "colab": {
          "base_uri": "https://localhost:8080/"
        },
        "outputId": "8ac35789-ea8b-4ac6-eef2-0c4e3b09615d"
      },
      "source": [
        "# 9\n",
        "x = np.random.random(10)\n",
        "x[x.argmax()] = 0\n",
        "print(x)"
      ],
      "execution_count": null,
      "outputs": [
        {
          "output_type": "stream",
          "text": [
            "[0.07219059 0.23914082 0.29964045 0.04506654 0.25506128 0.28271752\n",
            " 0.24730079 0.63070725 0.24964245 0.        ]\n"
          ],
          "name": "stdout"
        }
      ]
    },
    {
      "cell_type": "markdown",
      "metadata": {
        "id": "JxyUqTS0Yb3t"
      },
      "source": [
        "#### Q10. Create a 4x4 matrix and the row values are from 0 to 3"
      ]
    },
    {
      "cell_type": "code",
      "metadata": {
        "id": "zTlJ1R3kITDX",
        "colab": {
          "base_uri": "https://localhost:8080/"
        },
        "outputId": "2ed782e6-0a7f-4588-9f48-fcdbaabc4545"
      },
      "source": [
        "# 10\n",
        "x = np.zeros((4, 4))\n",
        "x += np.arange(4)\n",
        "print(x)"
      ],
      "execution_count": null,
      "outputs": [
        {
          "output_type": "stream",
          "text": [
            "[[0. 1. 2. 3.]\n",
            " [0. 1. 2. 3.]\n",
            " [0. 1. 2. 3.]\n",
            " [0. 1. 2. 3.]]\n"
          ],
          "name": "stdout"
        }
      ]
    },
    {
      "cell_type": "code",
      "metadata": {
        "id": "eG8IzJ90Yg9b"
      },
      "source": [
        ""
      ],
      "execution_count": null,
      "outputs": []
    }
  ]
}
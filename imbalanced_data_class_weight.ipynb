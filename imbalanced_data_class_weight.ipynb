{
  "nbformat": 4,
  "nbformat_minor": 0,
  "metadata": {
    "colab": {
      "name": "imbalanced data-class weight.ipynb",
      "provenance": [],
      "collapsed_sections": [],
      "include_colab_link": true
    },
    "kernelspec": {
      "name": "python3",
      "display_name": "Python 3"
    },
    "accelerator": "GPU"
  },
  "cells": [
    {
      "cell_type": "markdown",
      "metadata": {
        "id": "view-in-github",
        "colab_type": "text"
      },
      "source": [
        "<a href=\"https://colab.research.google.com/github/jtlai0921/-/blob/master/imbalanced_data_class_weight.ipynb\" target=\"_parent\"><img src=\"https://colab.research.google.com/assets/colab-badge.svg\" alt=\"Open In Colab\"/></a>"
      ]
    },
    {
      "cell_type": "code",
      "metadata": {
        "colab": {
          "base_uri": "https://localhost:8080/"
        },
        "id": "sY8vYCXueFr0",
        "outputId": "8938020e-e8fb-4768-dde6-e1920274539d"
      },
      "source": [
        "from google.colab import drive\n",
        "drive.mount('/content/drive')"
      ],
      "execution_count": 1,
      "outputs": [
        {
          "output_type": "stream",
          "text": [
            "Mounted at /content/drive\n"
          ],
          "name": "stdout"
        }
      ]
    },
    {
      "cell_type": "code",
      "metadata": {
        "id": "-un9OJrVzWM4"
      },
      "source": [
        "import pandas as pd\n",
        "import tensorflow as tf\n",
        "from tensorflow import keras\n",
        "from glob import glob\n",
        "import numpy as np\n",
        "import os\n",
        "import cv2\n",
        "from sklearn.metrics import classification_report, confusion_matrix"
      ],
      "execution_count": 2,
      "outputs": []
    },
    {
      "cell_type": "code",
      "metadata": {
        "colab": {
          "base_uri": "https://localhost:8080/"
        },
        "id": "4BAcDyYe1F52",
        "outputId": "1d78d0a7-04c1-4526-c17d-0e47d7e4cbda"
      },
      "source": [
        "IMG_SIZE = 128\n",
        "\n",
        "class_names = ['normal', 'bacteria', 'virus']\n",
        "cls_map = {cls: i for i, cls in enumerate(class_names)}\n",
        "print(cls_map)"
      ],
      "execution_count": 3,
      "outputs": [
        {
          "output_type": "stream",
          "text": [
            "{'normal': 0, 'bacteria': 1, 'virus': 2}\n"
          ],
          "name": "stdout"
        }
      ]
    },
    {
      "cell_type": "code",
      "metadata": {
        "id": "T5q9rcpjznJ9"
      },
      "source": [
        "def read_paths(folder_path):\n",
        "    file_paths = glob(os.path.join(folder_path, '*'))\n",
        "    classes = []\n",
        "    for path in file_paths:\n",
        "        filename = path.split('/')[-1].split('.')[0]\n",
        "        cls_name = filename.split('_')[-1]\n",
        "        cls = cls_map[cls_name]\n",
        "        classes.append(cls)\n",
        "    df = pd.DataFrame()\n",
        "    df['path'] = file_paths\n",
        "    df['cls'] = classes\n",
        "    return df\n",
        "df_train = read_paths('/content/drive/MyDrive/imbalanced data/pneumonia/train')\n",
        "df_val = read_paths('/content/drive/MyDrive/imbalanced data/pneumonia/val')"
      ],
      "execution_count": 5,
      "outputs": []
    },
    {
      "cell_type": "code",
      "metadata": {
        "colab": {
          "base_uri": "https://localhost:8080/"
        },
        "id": "UD8kPQwh0qu5",
        "outputId": "661c825d-3dd7-4f09-8511-5bc16e104f74"
      },
      "source": [
        "print(df_train.cls.value_counts(), '\\n', df_val.cls.value_counts())"
      ],
      "execution_count": 6,
      "outputs": [
        {
          "output_type": "stream",
          "text": [
            "0    100\n",
            "1     33\n",
            "2     17\n",
            "Name: cls, dtype: int64 \n",
            " 0    50\n",
            "1    28\n",
            "2    22\n",
            "Name: cls, dtype: int64\n"
          ],
          "name": "stdout"
        }
      ]
    },
    {
      "cell_type": "code",
      "metadata": {
        "id": "20M1iUkc5Vhk"
      },
      "source": [
        "class DataGenerator(keras.utils.Sequence):\n",
        "    def __init__(self, df, bs, img_size, shuffle=True):\n",
        "        self.df = df.copy()\n",
        "        self.bs = bs\n",
        "        self.img_size = img_size\n",
        "        self.shuffle = shuffle\n",
        "        self.on_epoch_end()\n",
        "    \n",
        "    def __len__(self):\n",
        "        return int(np.ceil(len(self.df)/self.bs))\n",
        "    \n",
        "    def __getitem__(self, index):\n",
        "        batch_idxs = self.indexes[index*self.bs: (index+1)*self.bs]\n",
        "        x = np.empty((len(batch_idxs), self.img_size, self.img_size, 3))\n",
        "        y = np.empty((len(batch_idxs)))\n",
        "        for i, df_index in enumerate(batch_idxs):\n",
        "            row = self.df.iloc[df_index, :]\n",
        "            path = row.path\n",
        "            label = row.cls\n",
        "            # img\n",
        "            img = cv2.imread(path) / 255.\n",
        "            img = cv2.resize(img, (self.img_size, self.img_size))\n",
        "            x[i] = img\n",
        "            # label\n",
        "            y[i] = label\n",
        "        y = keras.utils.to_categorical(y, num_classes=len(class_names))\n",
        "        return x, y\n",
        "                   \n",
        "    def on_epoch_end(self):\n",
        "        self.indexes = np.arange(len(self.df))\n",
        "        if self.shuffle: np.random.shuffle(self.indexes)"
      ],
      "execution_count": 7,
      "outputs": []
    },
    {
      "cell_type": "code",
      "metadata": {
        "id": "ES-BZd9Y67nO"
      },
      "source": [
        "gen_train = DataGenerator(df_train, 8, IMG_SIZE)\n",
        "gen_val = DataGenerator(df_val, 8, IMG_SIZE)"
      ],
      "execution_count": 8,
      "outputs": []
    },
    {
      "cell_type": "code",
      "metadata": {
        "id": "PaVOqWh67T1A"
      },
      "source": [
        "model = keras.models.Sequential([\n",
        "    keras.layers.Input((IMG_SIZE, IMG_SIZE, 3)),\n",
        "    keras.layers.Conv2D(16, 3, activation='relu', padding='same'),\n",
        "    keras.layers.Conv2D(16, 3, activation='relu', padding='same'),\n",
        "    keras.layers.MaxPooling2D(),\n",
        "    keras.layers.Conv2D(32, 3, activation='relu', padding='same'),\n",
        "    keras.layers.Conv2D(32, 3, activation='relu', padding='same'),\n",
        "    keras.layers.MaxPooling2D(),\n",
        "    keras.layers.Conv2D(64, 3, activation='relu', padding='same'),\n",
        "    keras.layers.Conv2D(64, 3, activation='relu', padding='same'),\n",
        "    keras.layers.MaxPooling2D(),\n",
        "    keras.layers.GlobalAveragePooling2D(),\n",
        "    keras.layers.Dense(3, activation='softmax'),]\n",
        ")"
      ],
      "execution_count": 10,
      "outputs": []
    },
    {
      "cell_type": "code",
      "metadata": {
        "colab": {
          "base_uri": "https://localhost:8080/"
        },
        "id": "YLQYyh3h8hI_",
        "outputId": "8e456a83-5186-4725-d058-46c6d6d6cfd1"
      },
      "source": [
        "model.summary()"
      ],
      "execution_count": 11,
      "outputs": [
        {
          "output_type": "stream",
          "text": [
            "Model: \"sequential_1\"\n",
            "_________________________________________________________________\n",
            "Layer (type)                 Output Shape              Param #   \n",
            "=================================================================\n",
            "conv2d_6 (Conv2D)            (None, 128, 128, 16)      448       \n",
            "_________________________________________________________________\n",
            "conv2d_7 (Conv2D)            (None, 128, 128, 16)      2320      \n",
            "_________________________________________________________________\n",
            "max_pooling2d_3 (MaxPooling2 (None, 64, 64, 16)        0         \n",
            "_________________________________________________________________\n",
            "conv2d_8 (Conv2D)            (None, 64, 64, 32)        4640      \n",
            "_________________________________________________________________\n",
            "conv2d_9 (Conv2D)            (None, 64, 64, 32)        9248      \n",
            "_________________________________________________________________\n",
            "max_pooling2d_4 (MaxPooling2 (None, 32, 32, 32)        0         \n",
            "_________________________________________________________________\n",
            "conv2d_10 (Conv2D)           (None, 32, 32, 64)        18496     \n",
            "_________________________________________________________________\n",
            "conv2d_11 (Conv2D)           (None, 32, 32, 64)        36928     \n",
            "_________________________________________________________________\n",
            "max_pooling2d_5 (MaxPooling2 (None, 16, 16, 64)        0         \n",
            "_________________________________________________________________\n",
            "global_average_pooling2d_1 ( (None, 64)                0         \n",
            "_________________________________________________________________\n",
            "dense_1 (Dense)              (None, 3)                 195       \n",
            "=================================================================\n",
            "Total params: 72,275\n",
            "Trainable params: 72,275\n",
            "Non-trainable params: 0\n",
            "_________________________________________________________________\n"
          ],
          "name": "stdout"
        }
      ]
    },
    {
      "cell_type": "code",
      "metadata": {
        "id": "q_USSpwf9MrD"
      },
      "source": [
        "model.compile(optimizer=keras.optimizers.Adam(),\n",
        "              loss=keras.losses.categorical_crossentropy,\n",
        "              metrics=[keras.metrics.categorical_accuracy])"
      ],
      "execution_count": 12,
      "outputs": []
    },
    {
      "cell_type": "code",
      "metadata": {
        "colab": {
          "base_uri": "https://localhost:8080/"
        },
        "id": "SAd2kJBGNRVk",
        "outputId": "d2e74ebc-5a8a-4d07-ed93-4f0b03819c48"
      },
      "source": [
        "# Class Weight Calculation\n",
        "data_count = np.unique(df_train.cls, return_counts=True)[1]\n",
        "print('data_count: ', data_count)\n",
        "weights = (1/data_count)*np.sum(data_count)/3\n",
        "class_weight = {i: w for i, w in enumerate(weights)}\n",
        "print('class_weight', class_weight)"
      ],
      "execution_count": 13,
      "outputs": [
        {
          "output_type": "stream",
          "text": [
            "data_count:  [100  33  17]\n",
            "class_weight {0: 0.5, 1: 1.5151515151515154, 2: 2.9411764705882355}\n"
          ],
          "name": "stdout"
        }
      ]
    },
    {
      "cell_type": "code",
      "metadata": {
        "id": "kUR7zORa81lu",
        "colab": {
          "base_uri": "https://localhost:8080/"
        },
        "outputId": "9731b574-fd3f-4fb9-d223-827ec6c0700d"
      },
      "source": [
        "model.fit(gen_train, \n",
        "          epochs=10000,\n",
        "          validation_data=gen_val,\n",
        "          callbacks=[keras.callbacks.EarlyStopping(patience=10),\n",
        "                     keras.callbacks.ModelCheckpoint('cls_weight_model.h5', save_best_only=True)],\n",
        "          class_weight=class_weight # Add class weight\n",
        "          )"
      ],
      "execution_count": 14,
      "outputs": [
        {
          "output_type": "stream",
          "text": [
            "Epoch 1/10000\n",
            "19/19 [==============================] - 128s 7s/step - loss: 1.1205 - categorical_accuracy: 0.2047 - val_loss: 1.0933 - val_categorical_accuracy: 0.5000\n",
            "Epoch 2/10000\n",
            "19/19 [==============================] - 8s 429ms/step - loss: 1.0299 - categorical_accuracy: 0.7113 - val_loss: 1.0605 - val_categorical_accuracy: 0.5000\n",
            "Epoch 3/10000\n",
            "19/19 [==============================] - 8s 423ms/step - loss: 1.1283 - categorical_accuracy: 0.6592 - val_loss: 1.0172 - val_categorical_accuracy: 0.6000\n",
            "Epoch 4/10000\n",
            "19/19 [==============================] - 8s 417ms/step - loss: 1.0828 - categorical_accuracy: 0.6956 - val_loss: 0.7699 - val_categorical_accuracy: 0.5800\n",
            "Epoch 5/10000\n",
            "19/19 [==============================] - 8s 423ms/step - loss: 1.0193 - categorical_accuracy: 0.6531 - val_loss: 0.6945 - val_categorical_accuracy: 0.6300\n",
            "Epoch 6/10000\n",
            "19/19 [==============================] - 8s 420ms/step - loss: 0.9673 - categorical_accuracy: 0.6903 - val_loss: 0.8749 - val_categorical_accuracy: 0.5900\n",
            "Epoch 7/10000\n",
            "19/19 [==============================] - 8s 420ms/step - loss: 0.9390 - categorical_accuracy: 0.6950 - val_loss: 1.0766 - val_categorical_accuracy: 0.4100\n",
            "Epoch 8/10000\n",
            "19/19 [==============================] - 8s 416ms/step - loss: 0.8358 - categorical_accuracy: 0.5756 - val_loss: 0.9069 - val_categorical_accuracy: 0.5100\n",
            "Epoch 9/10000\n",
            "19/19 [==============================] - 8s 423ms/step - loss: 0.8794 - categorical_accuracy: 0.7011 - val_loss: 0.9926 - val_categorical_accuracy: 0.5000\n",
            "Epoch 10/10000\n",
            "19/19 [==============================] - 8s 426ms/step - loss: 0.9012 - categorical_accuracy: 0.6558 - val_loss: 0.8991 - val_categorical_accuracy: 0.5300\n",
            "Epoch 11/10000\n",
            "19/19 [==============================] - 8s 432ms/step - loss: 0.8324 - categorical_accuracy: 0.6731 - val_loss: 0.8069 - val_categorical_accuracy: 0.5800\n",
            "Epoch 12/10000\n",
            "19/19 [==============================] - 8s 423ms/step - loss: 0.8437 - categorical_accuracy: 0.6606 - val_loss: 0.8845 - val_categorical_accuracy: 0.5800\n",
            "Epoch 13/10000\n",
            "19/19 [==============================] - 8s 431ms/step - loss: 0.8371 - categorical_accuracy: 0.7032 - val_loss: 0.5889 - val_categorical_accuracy: 0.7100\n",
            "Epoch 14/10000\n",
            "19/19 [==============================] - 8s 424ms/step - loss: 0.5510 - categorical_accuracy: 0.8355 - val_loss: 0.5323 - val_categorical_accuracy: 0.7300\n",
            "Epoch 15/10000\n",
            "19/19 [==============================] - 8s 429ms/step - loss: 0.6315 - categorical_accuracy: 0.7442 - val_loss: 0.5476 - val_categorical_accuracy: 0.7200\n",
            "Epoch 16/10000\n",
            "19/19 [==============================] - 8s 419ms/step - loss: 0.6143 - categorical_accuracy: 0.7715 - val_loss: 0.5539 - val_categorical_accuracy: 0.6500\n",
            "Epoch 17/10000\n",
            "19/19 [==============================] - 8s 425ms/step - loss: 0.5516 - categorical_accuracy: 0.8007 - val_loss: 0.4840 - val_categorical_accuracy: 0.7300\n",
            "Epoch 18/10000\n",
            "19/19 [==============================] - 8s 417ms/step - loss: 0.6027 - categorical_accuracy: 0.7182 - val_loss: 0.4819 - val_categorical_accuracy: 0.7600\n",
            "Epoch 19/10000\n",
            "19/19 [==============================] - 8s 422ms/step - loss: 0.5873 - categorical_accuracy: 0.8312 - val_loss: 0.7460 - val_categorical_accuracy: 0.5800\n",
            "Epoch 20/10000\n",
            "19/19 [==============================] - 8s 418ms/step - loss: 0.6487 - categorical_accuracy: 0.7309 - val_loss: 0.4745 - val_categorical_accuracy: 0.7000\n",
            "Epoch 21/10000\n",
            "19/19 [==============================] - 8s 419ms/step - loss: 0.6703 - categorical_accuracy: 0.7528 - val_loss: 0.4221 - val_categorical_accuracy: 0.7400\n",
            "Epoch 22/10000\n",
            "19/19 [==============================] - 8s 421ms/step - loss: 0.6159 - categorical_accuracy: 0.8049 - val_loss: 0.5501 - val_categorical_accuracy: 0.6800\n",
            "Epoch 23/10000\n",
            "19/19 [==============================] - 8s 420ms/step - loss: 0.6754 - categorical_accuracy: 0.7187 - val_loss: 0.4756 - val_categorical_accuracy: 0.7000\n",
            "Epoch 24/10000\n",
            "19/19 [==============================] - 8s 414ms/step - loss: 0.5095 - categorical_accuracy: 0.7853 - val_loss: 0.6275 - val_categorical_accuracy: 0.6500\n",
            "Epoch 25/10000\n",
            "19/19 [==============================] - 8s 418ms/step - loss: 0.6659 - categorical_accuracy: 0.7169 - val_loss: 0.5331 - val_categorical_accuracy: 0.6900\n",
            "Epoch 26/10000\n",
            "19/19 [==============================] - 8s 415ms/step - loss: 0.6180 - categorical_accuracy: 0.7591 - val_loss: 0.5519 - val_categorical_accuracy: 0.6700\n",
            "Epoch 27/10000\n",
            "19/19 [==============================] - 8s 412ms/step - loss: 0.6846 - categorical_accuracy: 0.6699 - val_loss: 0.5106 - val_categorical_accuracy: 0.6900\n",
            "Epoch 28/10000\n",
            "19/19 [==============================] - 8s 427ms/step - loss: 0.7172 - categorical_accuracy: 0.7629 - val_loss: 0.5088 - val_categorical_accuracy: 0.6900\n",
            "Epoch 29/10000\n",
            "19/19 [==============================] - 8s 423ms/step - loss: 0.5464 - categorical_accuracy: 0.7363 - val_loss: 0.4717 - val_categorical_accuracy: 0.6900\n",
            "Epoch 30/10000\n",
            "19/19 [==============================] - 8s 423ms/step - loss: 0.6308 - categorical_accuracy: 0.7613 - val_loss: 0.4508 - val_categorical_accuracy: 0.6800\n",
            "Epoch 31/10000\n",
            "19/19 [==============================] - 8s 430ms/step - loss: 0.6110 - categorical_accuracy: 0.7834 - val_loss: 0.4964 - val_categorical_accuracy: 0.6900\n"
          ],
          "name": "stdout"
        },
        {
          "output_type": "execute_result",
          "data": {
            "text/plain": [
              "<tensorflow.python.keras.callbacks.History at 0x7fb06039cf60>"
            ]
          },
          "metadata": {
            "tags": []
          },
          "execution_count": 14
        }
      ]
    },
    {
      "cell_type": "code",
      "metadata": {
        "colab": {
          "base_uri": "https://localhost:8080/"
        },
        "id": "Lqgfbiw29f5I",
        "outputId": "d96f2290-fe3f-4704-f861-a563a4687468"
      },
      "source": [
        "def cls_report(path):\n",
        "    model = keras.models.load_model(path)\n",
        "    y_pred = np.empty((0, 3))\n",
        "    y_val = np.empty((0, 3))\n",
        "    for x,y in gen_val:\n",
        "        pred = model.predict(x)\n",
        "        y_pred = np.concatenate((y_pred, pred))\n",
        "        y_val = np.concatenate((y_val, y))\n",
        "    y_pred = np.argmax(y_pred, axis=-1)\n",
        "    y_val = np.argmax(y_val, axis=-1)\n",
        "\n",
        "    print(classification_report(y_val, y_pred))\n",
        "    print(confusion_matrix(y_val, y_pred))\n",
        "\n",
        "cls_report('cls_weight_model.h5')"
      ],
      "execution_count": 15,
      "outputs": [
        {
          "output_type": "stream",
          "text": [
            "              precision    recall  f1-score   support\n",
            "\n",
            "           0       0.98      1.00      0.99        50\n",
            "           1       0.54      0.54      0.54        28\n",
            "           2       0.43      0.41      0.42        22\n",
            "\n",
            "    accuracy                           0.74       100\n",
            "   macro avg       0.65      0.65      0.65       100\n",
            "weighted avg       0.73      0.74      0.74       100\n",
            "\n",
            "[[50  0  0]\n",
            " [ 1 15 12]\n",
            " [ 0 13  9]]\n"
          ],
          "name": "stdout"
        }
      ]
    },
    {
      "cell_type": "code",
      "metadata": {
        "id": "O3cCyIRyeEug"
      },
      "source": [
        ""
      ],
      "execution_count": null,
      "outputs": []
    },
    {
      "cell_type": "code",
      "metadata": {
        "id": "-_lwTx_xNsUj"
      },
      "source": [
        ""
      ],
      "execution_count": null,
      "outputs": []
    }
  ]
}
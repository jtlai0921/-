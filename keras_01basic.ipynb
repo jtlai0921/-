{
  "nbformat": 4,
  "nbformat_minor": 0,
  "metadata": {
    "colab": {
      "name": "keras-01basic.ipynb",
      "provenance": [],
      "collapsed_sections": [],
      "toc_visible": true,
      "include_colab_link": true
    },
    "kernelspec": {
      "name": "python3",
      "display_name": "Python 3"
    },
    "language_info": {
      "codemirror_mode": {
        "name": "ipython",
        "version": 3
      },
      "file_extension": ".py",
      "mimetype": "text/x-python",
      "name": "python",
      "nbconvert_exporter": "python",
      "pygments_lexer": "ipython3",
      "version": "3.6.4"
    },
    "accelerator": "GPU"
  },
  "cells": [
    {
      "cell_type": "markdown",
      "metadata": {
        "id": "view-in-github",
        "colab_type": "text"
      },
      "source": [
        "<a href=\"https://colab.research.google.com/github/jtlai0921/-/blob/master/keras_01basic.ipynb\" target=\"_parent\"><img src=\"https://colab.research.google.com/assets/colab-badge.svg\" alt=\"Open In Colab\"/></a>"
      ]
    },
    {
      "cell_type": "code",
      "metadata": {
        "id": "7JqIcnWvwMpc"
      },
      "source": [
        "import keras\n",
        "from keras.datasets import mnist\n",
        "from keras.models import Sequential, Model, load_model\n",
        "from keras.layers import Dense, Dropout, Flatten, Input, Activation\n",
        "import numpy as np\n",
        "import matplotlib.pyplot as plt\n",
        "\n",
        "num_classes = 10\n",
        "img_size = 28"
      ],
      "execution_count": null,
      "outputs": []
    },
    {
      "cell_type": "code",
      "metadata": {
        "id": "iNSLjdU5yt5X",
        "colab": {
          "base_uri": "https://localhost:8080/"
        },
        "outputId": "e496b2df-f272-40cf-ddfa-6a55128abca2"
      },
      "source": [
        "!nvidia-smi #GPU"
      ],
      "execution_count": null,
      "outputs": [
        {
          "output_type": "stream",
          "text": [
            "Thu Oct 29 11:55:19 2020       \n",
            "+-----------------------------------------------------------------------------+\n",
            "| NVIDIA-SMI 455.23.05    Driver Version: 418.67       CUDA Version: 10.1     |\n",
            "|-------------------------------+----------------------+----------------------+\n",
            "| GPU  Name        Persistence-M| Bus-Id        Disp.A | Volatile Uncorr. ECC |\n",
            "| Fan  Temp  Perf  Pwr:Usage/Cap|         Memory-Usage | GPU-Util  Compute M. |\n",
            "|                               |                      |               MIG M. |\n",
            "|===============================+======================+======================|\n",
            "|   0  Tesla T4            Off  | 00000000:00:04.0 Off |                    0 |\n",
            "| N/A   34C    P8    11W /  70W |      0MiB / 15079MiB |      0%      Default |\n",
            "|                               |                      |                 ERR! |\n",
            "+-------------------------------+----------------------+----------------------+\n",
            "                                                                               \n",
            "+-----------------------------------------------------------------------------+\n",
            "| Processes:                                                                  |\n",
            "|  GPU   GI   CI        PID   Type   Process name                  GPU Memory |\n",
            "|        ID   ID                                                   Usage      |\n",
            "|=============================================================================|\n",
            "|  No running processes found                                                 |\n",
            "+-----------------------------------------------------------------------------+\n"
          ],
          "name": "stdout"
        }
      ]
    },
    {
      "cell_type": "code",
      "metadata": {
        "id": "s0PDCZGkwMpi",
        "colab": {
          "base_uri": "https://localhost:8080/",
          "height": 298
        },
        "outputId": "64cfa282-22f5-4d9b-d29b-708049ecf55f"
      },
      "source": [
        "# Prepare Data\n",
        "(x_train, y_train), (x_test, y_test) = mnist.load_data()\n",
        "print(x_train.shape, x_test.shape, y_train.shape, y_test.shape)\n",
        "\n",
        "# Plot image and label\n",
        "idx = 5566\n",
        "plt.imshow(x_test[idx], cmap=plt.cm.gray)\n",
        "print(y_test[idx])"
      ],
      "execution_count": null,
      "outputs": [
        {
          "output_type": "stream",
          "text": [
            "(60000, 28, 28) (10000, 28, 28) (60000,) (10000,)\n",
            "1\n"
          ],
          "name": "stdout"
        },
        {
          "output_type": "display_data",
          "data": {
            "image/png": "[encoded data removed]",
            "text/plain": [
              "<Figure size 432x288 with 1 Axes>"
            ]
          },
          "metadata": {
            "tags": [],
            "needs_background": "light"
          }
        }
      ]
    },
    {
      "cell_type": "code",
      "metadata": {
        "id": "tKk-r97L0TUK",
        "colab": {
          "base_uri": "https://localhost:8080/"
        },
        "outputId": "3caeb771-877b-4bda-9aa6-8ec4c60e90b9"
      },
      "source": [
        "x_train[0]"
      ],
      "execution_count": null,
      "outputs": [
        {
          "output_type": "execute_result",
          "data": {
            "text/plain": [
              "array([[  0,   0,   0,   0,   0,   0,   0,   0,   0,   0,   0,   0,   0,\n",
              "          0,   0,   0,   0,   0,   0,   0,   0,   0,   0,   0,   0,   0,\n",
              "          0,   0],\n",
              "       [  0,   0,   0,   0,   0,   0,   0,   0,   0,   0,   0,   0,   0,\n",
              "          0,   0,   0,   0,   0,   0,   0,   0,   0,   0,   0,   0,   0,\n",
              "          0,   0],\n",
              "       [  0,   0,   0,   0,   0,   0,   0,   0,   0,   0,   0,   0,   0,\n",
              "          0,   0,   0,   0,   0,   0,   0,   0,   0,   0,   0,   0,   0,\n",
              "          0,   0],\n",
              "       [  0,   0,   0,   0,   0,   0,   0,   0,   0,   0,   0,   0,   0,\n",
              "          0,   0,   0,   0,   0,   0,   0,   0,   0,   0,   0,   0,   0,\n",
              "          0,   0],\n",
              "       [  0,   0,   0,   0,   0,   0,   0,   0,   0,   0,   0,   0,   0,\n",
              "          0,   0,   0,   0,   0,   0,   0,   0,   0,   0,   0,   0,   0,\n",
              "          0,   0],\n",
              "       [  0,   0,   0,   0,   0,   0,   0,   0,   0,   0,   0,   0,   3,\n",
              "         18,  18,  18, 126, 136, 175,  26, 166, 255, 247, 127,   0,   0,\n",
              "          0,   0],\n",
              "       [  0,   0,   0,   0,   0,   0,   0,   0,  30,  36,  94, 154, 170,\n",
              "        253, 253, 253, 253, 253, 225, 172, 253, 242, 195,  64,   0,   0,\n",
              "          0,   0],\n",
              "       [  0,   0,   0,   0,   0,   0,   0,  49, 238, 253, 253, 253, 253,\n",
              "        253, 253, 253, 253, 251,  93,  82,  82,  56,  39,   0,   0,   0,\n",
              "          0,   0],\n",
              "       [  0,   0,   0,   0,   0,   0,   0,  18, 219, 253, 253, 253, 253,\n",
              "        253, 198, 182, 247, 241,   0,   0,   0,   0,   0,   0,   0,   0,\n",
              "          0,   0],\n",
              "       [  0,   0,   0,   0,   0,   0,   0,   0,  80, 156, 107, 253, 253,\n",
              "        205,  11,   0,  43, 154,   0,   0,   0,   0,   0,   0,   0,   0,\n",
              "          0,   0],\n",
              "       [  0,   0,   0,   0,   0,   0,   0,   0,   0,  14,   1, 154, 253,\n",
              "         90,   0,   0,   0,   0,   0,   0,   0,   0,   0,   0,   0,   0,\n",
              "          0,   0],\n",
              "       [  0,   0,   0,   0,   0,   0,   0,   0,   0,   0,   0, 139, 253,\n",
              "        190,   2,   0,   0,   0,   0,   0,   0,   0,   0,   0,   0,   0,\n",
              "          0,   0],\n",
              "       [  0,   0,   0,   0,   0,   0,   0,   0,   0,   0,   0,  11, 190,\n",
              "        253,  70,   0,   0,   0,   0,   0,   0,   0,   0,   0,   0,   0,\n",
              "          0,   0],\n",
              "       [  0,   0,   0,   0,   0,   0,   0,   0,   0,   0,   0,   0,  35,\n",
              "        241, 225, 160, 108,   1,   0,   0,   0,   0,   0,   0,   0,   0,\n",
              "          0,   0],\n",
              "       [  0,   0,   0,   0,   0,   0,   0,   0,   0,   0,   0,   0,   0,\n",
              "         81, 240, 253, 253, 119,  25,   0,   0,   0,   0,   0,   0,   0,\n",
              "          0,   0],\n",
              "       [  0,   0,   0,   0,   0,   0,   0,   0,   0,   0,   0,   0,   0,\n",
              "          0,  45, 186, 253, 253, 150,  27,   0,   0,   0,   0,   0,   0,\n",
              "          0,   0],\n",
              "       [  0,   0,   0,   0,   0,   0,   0,   0,   0,   0,   0,   0,   0,\n",
              "          0,   0,  16,  93, 252, 253, 187,   0,   0,   0,   0,   0,   0,\n",
              "          0,   0],\n",
              "       [  0,   0,   0,   0,   0,   0,   0,   0,   0,   0,   0,   0,   0,\n",
              "          0,   0,   0,   0, 249, 253, 249,  64,   0,   0,   0,   0,   0,\n",
              "          0,   0],\n",
              "       [  0,   0,   0,   0,   0,   0,   0,   0,   0,   0,   0,   0,   0,\n",
              "          0,  46, 130, 183, 253, 253, 207,   2,   0,   0,   0,   0,   0,\n",
              "          0,   0],\n",
              "       [  0,   0,   0,   0,   0,   0,   0,   0,   0,   0,   0,   0,  39,\n",
              "        148, 229, 253, 253, 253, 250, 182,   0,   0,   0,   0,   0,   0,\n",
              "          0,   0],\n",
              "       [  0,   0,   0,   0,   0,   0,   0,   0,   0,   0,  24, 114, 221,\n",
              "        253, 253, 253, 253, 201,  78,   0,   0,   0,   0,   0,   0,   0,\n",
              "          0,   0],\n",
              "       [  0,   0,   0,   0,   0,   0,   0,   0,  23,  66, 213, 253, 253,\n",
              "        253, 253, 198,  81,   2,   0,   0,   0,   0,   0,   0,   0,   0,\n",
              "          0,   0],\n",
              "       [  0,   0,   0,   0,   0,   0,  18, 171, 219, 253, 253, 253, 253,\n",
              "        195,  80,   9,   0,   0,   0,   0,   0,   0,   0,   0,   0,   0,\n",
              "          0,   0],\n",
              "       [  0,   0,   0,   0,  55, 172, 226, 253, 253, 253, 253, 244, 133,\n",
              "         11,   0,   0,   0,   0,   0,   0,   0,   0,   0,   0,   0,   0,\n",
              "          0,   0],\n",
              "       [  0,   0,   0,   0, 136, 253, 253, 253, 212, 135, 132,  16,   0,\n",
              "          0,   0,   0,   0,   0,   0,   0,   0,   0,   0,   0,   0,   0,\n",
              "          0,   0],\n",
              "       [  0,   0,   0,   0,   0,   0,   0,   0,   0,   0,   0,   0,   0,\n",
              "          0,   0,   0,   0,   0,   0,   0,   0,   0,   0,   0,   0,   0,\n",
              "          0,   0],\n",
              "       [  0,   0,   0,   0,   0,   0,   0,   0,   0,   0,   0,   0,   0,\n",
              "          0,   0,   0,   0,   0,   0,   0,   0,   0,   0,   0,   0,   0,\n",
              "          0,   0],\n",
              "       [  0,   0,   0,   0,   0,   0,   0,   0,   0,   0,   0,   0,   0,\n",
              "          0,   0,   0,   0,   0,   0,   0,   0,   0,   0,   0,   0,   0,\n",
              "          0,   0]], dtype=uint8)"
            ]
          },
          "metadata": {
            "tags": []
          },
          "execution_count": 7
        }
      ]
    },
    {
      "cell_type": "code",
      "metadata": {
        "id": "4pQo30drjUyW",
        "colab": {
          "base_uri": "https://localhost:8080/"
        },
        "outputId": "5e56128c-d87a-4064-c71b-a1ad25789c76"
      },
      "source": [
        "x_train = x_train.reshape(x_train.shape[0], -1) # 60000, 28*28\n",
        "x_test = x_test.reshape(x_test.shape[0], -1) # 10000, 28*28\n",
        "\n",
        "# normalization 0~1\n",
        "x_train = x_train.astype('float32')\n",
        "x_test = x_test.astype('float32')\n",
        "x_train /= 255\n",
        "x_test /= 255\n",
        "\n",
        "# one hot encoding\n",
        "y_train = keras.utils.to_categorical(y_train, num_classes)\n",
        "y_test = keras.utils.to_categorical(y_test, num_classes)\n",
        "\n",
        "x_train.shape, x_test.shape, y_train.shape, y_test.shape"
      ],
      "execution_count": null,
      "outputs": [
        {
          "output_type": "execute_result",
          "data": {
            "text/plain": [
              "((60000, 784), (10000, 784), (60000, 10), (10000, 10))"
            ]
          },
          "metadata": {
            "tags": []
          },
          "execution_count": 9
        }
      ]
    },
    {
      "cell_type": "code",
      "metadata": {
        "id": "O46HyiqN1Ikc",
        "colab": {
          "base_uri": "https://localhost:8080/"
        },
        "outputId": "82eca0b2-2e23-41a8-9771-02bd03e2840e"
      },
      "source": [
        "y_train[3]"
      ],
      "execution_count": null,
      "outputs": [
        {
          "output_type": "execute_result",
          "data": {
            "text/plain": [
              "array([0., 1., 0., 0., 0., 0., 0., 0., 0., 0.], dtype=float32)"
            ]
          },
          "metadata": {
            "tags": []
          },
          "execution_count": 11
        }
      ]
    },
    {
      "cell_type": "code",
      "metadata": {
        "id": "NCeSgD2ec62v"
      },
      "source": [
        ""
      ],
      "execution_count": null,
      "outputs": []
    },
    {
      "cell_type": "code",
      "metadata": {
        "id": "twIJqpl-wMpl"
      },
      "source": [
        "# 1\n",
        "inputs = Input(shape=(img_size*img_size,))\n",
        "x = Dense(units=64, activation='relu')(inputs)\n",
        "x = Dense(128, activation=keras.activations.relu)(x)\n",
        "prediction = Dense(num_classes, activation='softmax')(x)\n",
        "model = Model(inputs=inputs, outputs=prediction)"
      ],
      "execution_count": null,
      "outputs": []
    },
    {
      "cell_type": "code",
      "metadata": {
        "id": "N3n1KLUdwMpn"
      },
      "source": [
        "# 2\n",
        "model = Sequential()\n",
        "model.add(Dense(units=64, activation='relu', input_shape=(img_size*img_size,)))\n",
        "model.add(Dense(units=128))\n",
        "model.add(Activation('relu'))\n",
        "model.add(Dense(units=128))\n",
        "model.add(Activation('relu'))\n",
        "model.add(Dense(num_classes, activation='softmax'))"
      ],
      "execution_count": null,
      "outputs": []
    },
    {
      "cell_type": "code",
      "metadata": {
        "id": "wivbMuaEwMpp",
        "colab": {
          "base_uri": "https://localhost:8080/"
        },
        "outputId": "54ca90e8-6e62-482c-9269-2b17d6c98ce8"
      },
      "source": [
        "model.summary()"
      ],
      "execution_count": null,
      "outputs": [
        {
          "output_type": "stream",
          "text": [
            "Model: \"functional_1\"\n",
            "_________________________________________________________________\n",
            "Layer (type)                 Output Shape              Param #   \n",
            "=================================================================\n",
            "input_1 (InputLayer)         [(None, 784)]             0         \n",
            "_________________________________________________________________\n",
            "dense (Dense)                (None, 64)                50240     \n",
            "_________________________________________________________________\n",
            "dense_1 (Dense)              (None, 128)               8320      \n",
            "_________________________________________________________________\n",
            "dense_2 (Dense)              (None, 10)                1290      \n",
            "=================================================================\n",
            "Total params: 59,850\n",
            "Trainable params: 59,850\n",
            "Non-trainable params: 0\n",
            "_________________________________________________________________\n"
          ],
          "name": "stdout"
        }
      ]
    },
    {
      "cell_type": "code",
      "metadata": {
        "id": "b64Ju7UnwMps"
      },
      "source": [
        "model.compile(loss=keras.losses.categorical_crossentropy,\n",
        "              optimizer=keras.optimizers.Adam(),\n",
        "              metrics=['accuracy', keras.losses.mse])"
      ],
      "execution_count": null,
      "outputs": []
    },
    {
      "cell_type": "code",
      "metadata": {
        "id": "EuIgYeCqwMpu",
        "colab": {
          "base_uri": "https://localhost:8080/"
        },
        "outputId": "d759b472-2865-4f63-d02c-d2c5777a39fa"
      },
      "source": [
        "logs = model.fit(x_train, y_train,\n",
        "                batch_size=128,\n",
        "                epochs=20,\n",
        "                verbose=1,\n",
        "                validation_data=(x_test, y_test))"
      ],
      "execution_count": null,
      "outputs": [
        {
          "output_type": "stream",
          "text": [
            "Epoch 1/20\n",
            "469/469 [==============================] - 2s 4ms/step - loss: 0.3717 - accuracy: 0.8942 - mean_squared_error: 0.0164 - val_loss: 0.1895 - val_accuracy: 0.9431 - val_mean_squared_error: 0.0086\n",
            "Epoch 2/20\n",
            "469/469 [==============================] - 2s 3ms/step - loss: 0.1530 - accuracy: 0.9549 - mean_squared_error: 0.0070 - val_loss: 0.1332 - val_accuracy: 0.9598 - val_mean_squared_error: 0.0061\n",
            "Epoch 3/20\n",
            "469/469 [==============================] - 2s 3ms/step - loss: 0.1114 - accuracy: 0.9663 - mean_squared_error: 0.0052 - val_loss: 0.1092 - val_accuracy: 0.9659 - val_mean_squared_error: 0.0051\n",
            "Epoch 4/20\n",
            "469/469 [==============================] - 2s 3ms/step - loss: 0.0878 - accuracy: 0.9736 - mean_squared_error: 0.0041 - val_loss: 0.1019 - val_accuracy: 0.9677 - val_mean_squared_error: 0.0047\n",
            "Epoch 5/20\n",
            "469/469 [==============================] - 2s 3ms/step - loss: 0.0711 - accuracy: 0.9787 - mean_squared_error: 0.0033 - val_loss: 0.0936 - val_accuracy: 0.9707 - val_mean_squared_error: 0.0044\n",
            "Epoch 6/20\n",
            "469/469 [==============================] - 1s 3ms/step - loss: 0.0620 - accuracy: 0.9803 - mean_squared_error: 0.0030 - val_loss: 0.0921 - val_accuracy: 0.9719 - val_mean_squared_error: 0.0042\n",
            "Epoch 7/20\n",
            "469/469 [==============================] - 2s 3ms/step - loss: 0.0517 - accuracy: 0.9841 - mean_squared_error: 0.0025 - val_loss: 0.0867 - val_accuracy: 0.9753 - val_mean_squared_error: 0.0039\n",
            "Epoch 8/20\n",
            "469/469 [==============================] - 2s 3ms/step - loss: 0.0444 - accuracy: 0.9863 - mean_squared_error: 0.0021 - val_loss: 0.0820 - val_accuracy: 0.9744 - val_mean_squared_error: 0.0038\n",
            "Epoch 9/20\n",
            "469/469 [==============================] - 2s 3ms/step - loss: 0.0379 - accuracy: 0.9882 - mean_squared_error: 0.0018 - val_loss: 0.0760 - val_accuracy: 0.9773 - val_mean_squared_error: 0.0035\n",
            "Epoch 10/20\n",
            "469/469 [==============================] - 2s 3ms/step - loss: 0.0324 - accuracy: 0.9899 - mean_squared_error: 0.0016 - val_loss: 0.0894 - val_accuracy: 0.9736 - val_mean_squared_error: 0.0040\n",
            "Epoch 11/20\n",
            "469/469 [==============================] - 2s 3ms/step - loss: 0.0299 - accuracy: 0.9908 - mean_squared_error: 0.0015 - val_loss: 0.1084 - val_accuracy: 0.9694 - val_mean_squared_error: 0.0047\n",
            "Epoch 12/20\n",
            "469/469 [==============================] - 2s 3ms/step - loss: 0.0249 - accuracy: 0.9922 - mean_squared_error: 0.0012 - val_loss: 0.0807 - val_accuracy: 0.9770 - val_mean_squared_error: 0.0036\n",
            "Epoch 13/20\n",
            "469/469 [==============================] - 2s 3ms/step - loss: 0.0205 - accuracy: 0.9939 - mean_squared_error: 9.7420e-04 - val_loss: 0.0817 - val_accuracy: 0.9777 - val_mean_squared_error: 0.0036\n",
            "Epoch 14/20\n",
            "469/469 [==============================] - 1s 3ms/step - loss: 0.0188 - accuracy: 0.9942 - mean_squared_error: 9.2354e-04 - val_loss: 0.0866 - val_accuracy: 0.9789 - val_mean_squared_error: 0.0035\n",
            "Epoch 15/20\n",
            "469/469 [==============================] - 2s 3ms/step - loss: 0.0168 - accuracy: 0.9948 - mean_squared_error: 8.2758e-04 - val_loss: 0.0937 - val_accuracy: 0.9756 - val_mean_squared_error: 0.0039\n",
            "Epoch 16/20\n",
            "469/469 [==============================] - 2s 3ms/step - loss: 0.0162 - accuracy: 0.9949 - mean_squared_error: 8.0582e-04 - val_loss: 0.0881 - val_accuracy: 0.9764 - val_mean_squared_error: 0.0037\n",
            "Epoch 17/20\n",
            "469/469 [==============================] - 2s 3ms/step - loss: 0.0146 - accuracy: 0.9952 - mean_squared_error: 7.4079e-04 - val_loss: 0.0891 - val_accuracy: 0.9768 - val_mean_squared_error: 0.0035\n",
            "Epoch 18/20\n",
            "469/469 [==============================] - 2s 3ms/step - loss: 0.0122 - accuracy: 0.9964 - mean_squared_error: 5.9075e-04 - val_loss: 0.0919 - val_accuracy: 0.9783 - val_mean_squared_error: 0.0036\n",
            "Epoch 19/20\n",
            "469/469 [==============================] - 2s 3ms/step - loss: 0.0090 - accuracy: 0.9972 - mean_squared_error: 4.3818e-04 - val_loss: 0.1164 - val_accuracy: 0.9716 - val_mean_squared_error: 0.0045\n",
            "Epoch 20/20\n",
            "469/469 [==============================] - 1s 3ms/step - loss: 0.0134 - accuracy: 0.9958 - mean_squared_error: 6.6533e-04 - val_loss: 0.0905 - val_accuracy: 0.9781 - val_mean_squared_error: 0.0035\n"
          ],
          "name": "stdout"
        }
      ]
    },
    {
      "cell_type": "code",
      "metadata": {
        "id": "oCwl5cTewMpx",
        "colab": {
          "base_uri": "https://localhost:8080/"
        },
        "outputId": "900d15be-24d3-4c0f-82c6-542bfa587a08"
      },
      "source": [
        "score = model.evaluate(x_test, y_test, verbose=0)\n",
        "print(f'test loss: {score[0]}, test acc: {score[1]}')\n",
        "score"
      ],
      "execution_count": null,
      "outputs": [
        {
          "output_type": "stream",
          "text": [
            "test loss: 0.09054161608219147, test acc: 0.9781000018119812\n"
          ],
          "name": "stdout"
        },
        {
          "output_type": "execute_result",
          "data": {
            "text/plain": [
              "[0.09054161608219147, 0.9781000018119812, 0.003471680451184511]"
            ]
          },
          "metadata": {
            "tags": []
          },
          "execution_count": 16
        }
      ]
    },
    {
      "cell_type": "code",
      "metadata": {
        "id": "U_JRuyYTwMpz",
        "colab": {
          "base_uri": "https://localhost:8080/"
        },
        "outputId": "fdae01bb-c27c-4083-a89b-563480975b5c"
      },
      "source": [
        "prediction = model.predict(x_test[:1])\n",
        "print(prediction)\n",
        "print(np.argmax(prediction, axis=-1))"
      ],
      "execution_count": null,
      "outputs": [
        {
          "output_type": "stream",
          "text": [
            "[[8.83679618e-09 4.32575220e-09 1.43872853e-07 2.15839668e-06\n",
            "  6.38142794e-12 3.42705309e-09 1.28154586e-14 9.99996781e-01\n",
            "  2.08649364e-09 9.24365111e-07]]\n",
            "[7]\n"
          ],
          "name": "stdout"
        }
      ]
    },
    {
      "cell_type": "code",
      "metadata": {
        "id": "89NwtdhbwMp2",
        "colab": {
          "base_uri": "https://localhost:8080/"
        },
        "outputId": "79066eac-6454-45dd-ad8b-9b8181e5df26"
      },
      "source": [
        "history = logs.history\n",
        "history"
      ],
      "execution_count": null,
      "outputs": [
        {
          "output_type": "execute_result",
          "data": {
            "text/plain": [
              "{'accuracy': [0.8941500186920166,\n",
              "  0.9549166560173035,\n",
              "  0.9662666916847229,\n",
              "  0.9736166596412659,\n",
              "  0.9786999821662903,\n",
              "  0.9803333282470703,\n",
              "  0.984083354473114,\n",
              "  0.986299991607666,\n",
              "  0.9882166385650635,\n",
              "  0.989883303642273,\n",
              "  0.9907500147819519,\n",
              "  0.9922333359718323,\n",
              "  0.9939000010490417,\n",
              "  0.9942333102226257,\n",
              "  0.9947999715805054,\n",
              "  0.9949333071708679,\n",
              "  0.9952333569526672,\n",
              "  0.9964333176612854,\n",
              "  0.9972000122070312,\n",
              "  0.9958333373069763],\n",
              " 'loss': [0.37170687317848206,\n",
              "  0.15296585857868195,\n",
              "  0.11140254884958267,\n",
              "  0.08780109137296677,\n",
              "  0.07109860330820084,\n",
              "  0.06195256486535072,\n",
              "  0.051733434200286865,\n",
              "  0.04440447688102722,\n",
              "  0.03790311515331268,\n",
              "  0.032372865825891495,\n",
              "  0.029866233468055725,\n",
              "  0.024876846000552177,\n",
              "  0.020515400916337967,\n",
              "  0.01877748966217041,\n",
              "  0.0167508777230978,\n",
              "  0.01620948128402233,\n",
              "  0.014577423222362995,\n",
              "  0.012196020223200321,\n",
              "  0.008985272608697414,\n",
              "  0.013403481803834438],\n",
              " 'mean_squared_error': [0.016364941373467445,\n",
              "  0.006958803161978722,\n",
              "  0.005178125109523535,\n",
              "  0.004101711791008711,\n",
              "  0.0033353660255670547,\n",
              "  0.0029995886143296957,\n",
              "  0.0024786063004285097,\n",
              "  0.0021374139469116926,\n",
              "  0.0018274668836966157,\n",
              "  0.0015547509538009763,\n",
              "  0.001466861111111939,\n",
              "  0.0012234672904014587,\n",
              "  0.0009741959511302412,\n",
              "  0.0009235384641215205,\n",
              "  0.00082757807103917,\n",
              "  0.0008058181265369058,\n",
              "  0.0007407886441797018,\n",
              "  0.0005907462909817696,\n",
              "  0.00043817979167215526,\n",
              "  0.0006653254386037588],\n",
              " 'val_accuracy': [0.9430999755859375,\n",
              "  0.9598000049591064,\n",
              "  0.9659000039100647,\n",
              "  0.9677000045776367,\n",
              "  0.9707000255584717,\n",
              "  0.9718999862670898,\n",
              "  0.9753000140190125,\n",
              "  0.974399983882904,\n",
              "  0.9772999882698059,\n",
              "  0.9735999703407288,\n",
              "  0.9693999886512756,\n",
              "  0.9769999980926514,\n",
              "  0.9776999950408936,\n",
              "  0.9789000153541565,\n",
              "  0.975600004196167,\n",
              "  0.9764000177383423,\n",
              "  0.9768000245094299,\n",
              "  0.9782999753952026,\n",
              "  0.9715999960899353,\n",
              "  0.9781000018119812],\n",
              " 'val_loss': [0.1895272135734558,\n",
              "  0.13319650292396545,\n",
              "  0.1092468649148941,\n",
              "  0.10191085934638977,\n",
              "  0.0935523733496666,\n",
              "  0.09213066101074219,\n",
              "  0.08667811006307602,\n",
              "  0.08200857788324356,\n",
              "  0.07598754018545151,\n",
              "  0.08938533067703247,\n",
              "  0.10837441682815552,\n",
              "  0.0806887224316597,\n",
              "  0.08165229856967926,\n",
              "  0.08663171529769897,\n",
              "  0.09368720650672913,\n",
              "  0.08811023831367493,\n",
              "  0.08905671536922455,\n",
              "  0.09192842990159988,\n",
              "  0.11643492430448532,\n",
              "  0.09054165333509445],\n",
              " 'val_mean_squared_error': [0.008634377270936966,\n",
              "  0.006099127233028412,\n",
              "  0.005125235766172409,\n",
              "  0.004699414130300283,\n",
              "  0.004415031522512436,\n",
              "  0.004238732159137726,\n",
              "  0.003917538560926914,\n",
              "  0.003844701685011387,\n",
              "  0.0034683647099882364,\n",
              "  0.0039791506715118885,\n",
              "  0.0047143371775746346,\n",
              "  0.0035930839367210865,\n",
              "  0.003614166984334588,\n",
              "  0.0035081496462225914,\n",
              "  0.003879119176417589,\n",
              "  0.003733699908480048,\n",
              "  0.0035121513064950705,\n",
              "  0.003587213810533285,\n",
              "  0.004522628616541624,\n",
              "  0.003471680451184511]}"
            ]
          },
          "metadata": {
            "tags": []
          },
          "execution_count": 18
        }
      ]
    },
    {
      "cell_type": "code",
      "metadata": {
        "id": "ZKDX0rwfwMp5",
        "colab": {
          "base_uri": "https://localhost:8080/",
          "height": 298
        },
        "outputId": "7868152a-d745-4d88-bbe1-63274e10ebd4"
      },
      "source": [
        "plt.plot(history['accuracy'])\n",
        "plt.plot(history['val_accuracy'])\n",
        "plt.legend(['accuracy', 'val_accuracy'])\n",
        "plt.title('accuracy')"
      ],
      "execution_count": null,
      "outputs": [
        {
          "output_type": "execute_result",
          "data": {
            "text/plain": [
              "Text(0.5, 1.0, 'accuracy')"
            ]
          },
          "metadata": {
            "tags": []
          },
          "execution_count": 19
        },
        {
          "output_type": "display_data",
          "data": {
            "image/png": "[encoded data removed]",
            "text/plain": [
              "<Figure size 432x288 with 1 Axes>"
            ]
          },
          "metadata": {
            "tags": [],
            "needs_background": "light"
          }
        }
      ]
    },
    {
      "cell_type": "code",
      "metadata": {
        "id": "jMyM477lwMp8",
        "colab": {
          "base_uri": "https://localhost:8080/",
          "height": 298
        },
        "outputId": "770c02ed-3b13-4ac5-fbf5-38cc94642816"
      },
      "source": [
        "plt.plot(history['loss'])\n",
        "plt.plot(history['val_loss'])\n",
        "plt.legend(['loss', 'val_loss'])\n",
        "plt.title('loss')"
      ],
      "execution_count": null,
      "outputs": [
        {
          "output_type": "execute_result",
          "data": {
            "text/plain": [
              "Text(0.5, 1.0, 'loss')"
            ]
          },
          "metadata": {
            "tags": []
          },
          "execution_count": 20
        },
        {
          "output_type": "display_data",
          "data": {
            "image/png": "[encoded data removed]",
            "text/plain": [
              "<Figure size 432x288 with 1 Axes>"
            ]
          },
          "metadata": {
            "tags": [],
            "needs_background": "light"
          }
        }
      ]
    },
    {
      "cell_type": "code",
      "metadata": {
        "id": "OcAftD_1jAwf",
        "colab": {
          "base_uri": "https://localhost:8080/"
        },
        "outputId": "c7316dbf-c7bf-49b6-e4cd-39db9d8f4b0d"
      },
      "source": [
        "from sklearn.metrics import classification_report, confusion_matrix\n",
        "y_true = np.argmax(y_test, axis=-1)\n",
        "y_pred = np.argmax(model.predict(x_test), axis=-1)\n",
        "print(y_true.shape, y_pred.shape)\n",
        "\n",
        "target_names = [str(i) for i in range(10)]\n",
        "print(classification_report(y_true, y_pred, target_names=target_names))\n",
        "print(confusion_matrix(y_true, y_pred)) # row: Truth, col: pred\n"
      ],
      "execution_count": null,
      "outputs": [
        {
          "output_type": "stream",
          "text": [
            "(10000,) (10000,)\n",
            "              precision    recall  f1-score   support\n",
            "\n",
            "           0       0.99      0.99      0.99       980\n",
            "           1       0.98      0.99      0.99      1135\n",
            "           2       0.98      0.97      0.98      1032\n",
            "           3       0.98      0.97      0.97      1010\n",
            "           4       0.97      0.99      0.98       982\n",
            "           5       0.98      0.97      0.98       892\n",
            "           6       0.98      0.98      0.98       958\n",
            "           7       0.98      0.98      0.98      1028\n",
            "           8       0.96      0.98      0.97       974\n",
            "           9       0.98      0.95      0.97      1009\n",
            "\n",
            "    accuracy                           0.98     10000\n",
            "   macro avg       0.98      0.98      0.98     10000\n",
            "weighted avg       0.98      0.98      0.98     10000\n",
            "\n",
            "[[ 968    1    1    1    1    3    3    1    1    0]\n",
            " [   0 1126    0    0    0    0    2    0    7    0]\n",
            " [   5    3 1004    6    1    1    1    3    8    0]\n",
            " [   0    2    5  982    0    7    1    2    6    5]\n",
            " [   1    0    4    0  970    0    3    1    1    2]\n",
            " [   1    0    0    7    1  868    6    0    6    3]\n",
            " [   3    3    0    1    3    3  941    0    4    0]\n",
            " [   0    6    8    2    2    0    0 1005    1    4]\n",
            " [   1    0    3    2    3    4    1    4  954    2]\n",
            " [   0    4    0    6   18    1    1    6   10  963]]\n"
          ],
          "name": "stdout"
        }
      ]
    },
    {
      "cell_type": "markdown",
      "metadata": {
        "id": "AUhawrWWkV3v"
      },
      "source": [
        "## Save Model"
      ]
    },
    {
      "cell_type": "code",
      "metadata": {
        "id": "hhJSot2HlZLv",
        "colab": {
          "base_uri": "https://localhost:8080/"
        },
        "outputId": "d23fcb7d-fe83-48a6-f5aa-b598435e6558"
      },
      "source": [
        "# mount Google Drive\n",
        "from google.colab import drive\n",
        "drive.mount('/content/drive')"
      ],
      "execution_count": null,
      "outputs": [
        {
          "output_type": "stream",
          "text": [
            "Mounted at /content/drive\n"
          ],
          "name": "stdout"
        }
      ]
    },
    {
      "cell_type": "code",
      "metadata": {
        "id": "0hzsJPLWwMp_",
        "colab": {
          "base_uri": "https://localhost:8080/"
        },
        "outputId": "66f1c4ab-ddc8-4d09-eb41-deda3cf12fdc"
      },
      "source": [
        "prediction = model.predict(x_test[:1])\n",
        "print(prediction)\n",
        "\n",
        "model.save('/content/drive/My Drive/my_model.h5')\n",
        "\n",
        "del model\n",
        "model = load_model('/content/drive/My Drive/my_model.h5')\n",
        "prediction = model.predict(x_test[:1])\n",
        "print(prediction)"
      ],
      "execution_count": null,
      "outputs": [
        {
          "output_type": "stream",
          "text": [
            "[[8.83679618e-09 4.32575220e-09 1.43872853e-07 2.15839668e-06\n",
            "  6.38142794e-12 3.42705309e-09 1.28154586e-14 9.99996781e-01\n",
            "  2.08649364e-09 9.24365111e-07]]\n",
            "[[8.83679618e-09 4.32575220e-09 1.43872853e-07 2.15839668e-06\n",
            "  6.38142794e-12 3.42705309e-09 1.28154586e-14 9.99996781e-01\n",
            "  2.08649364e-09 9.24365111e-07]]\n"
          ],
          "name": "stdout"
        }
      ]
    },
    {
      "cell_type": "code",
      "metadata": {
        "id": "RTvKn3Mfw-Iy"
      },
      "source": [
        "#model = load_model('/content/drive/My Drive/my_model.h5')\n",
        "# save and load weights only\n",
        "model.save_weights('/content/drive/My Drive/my_model_weights.h5')\n",
        "\n",
        "# reconstruct model before load weights\n",
        "model.load_weights('/content/drive/My Drive/my_model_weights.h5')"
      ],
      "execution_count": null,
      "outputs": []
    },
    {
      "cell_type": "code",
      "metadata": {
        "id": "QROmOXp_44RA"
      },
      "source": [
        ""
      ],
      "execution_count": null,
      "outputs": []
    }
  ]
}
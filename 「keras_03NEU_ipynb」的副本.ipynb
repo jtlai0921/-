{
  "nbformat": 4,
  "nbformat_minor": 0,
  "metadata": {
    "accelerator": "GPU",
    "colab": {
      "name": "「keras-03NEU.ipynb」的副本",
      "provenance": [],
      "collapsed_sections": [
        "ooMJAKutCd8K"
      ],
      "toc_visible": true,
      "include_colab_link": true
    },
    "kernelspec": {
      "name": "python3",
      "display_name": "Python 3"
    },
    "language_info": {
      "codemirror_mode": {
        "name": "ipython",
        "version": 3
      },
      "file_extension": ".py",
      "mimetype": "text/x-python",
      "name": "python",
      "nbconvert_exporter": "python",
      "pygments_lexer": "ipython3",
      "version": "3.7.4"
    },
    "widgets": {
      "application/vnd.jupyter.widget-state+json": {
        "f74669fcfd834956bcdbf15ef358f860": {
          "model_module": "@jupyter-widgets/controls",
          "model_name": "HBoxModel",
          "state": {
            "_view_name": "HBoxView",
            "_dom_classes": [],
            "_model_name": "HBoxModel",
            "_view_module": "@jupyter-widgets/controls",
            "_model_module_version": "1.5.0",
            "_view_count": null,
            "_view_module_version": "1.5.0",
            "box_style": "",
            "layout": "IPY_MODEL_0e044198bfba4490bdb4668fca7bac4f",
            "_model_module": "@jupyter-widgets/controls",
            "children": [
              "IPY_MODEL_76dd08ece7114de0aac08c9d043af50a",
              "IPY_MODEL_1b22c438a10d4fca8dabe1da60dabf0c"
            ]
          }
        },
        "0e044198bfba4490bdb4668fca7bac4f": {
          "model_module": "@jupyter-widgets/base",
          "model_name": "LayoutModel",
          "state": {
            "_view_name": "LayoutView",
            "grid_template_rows": null,
            "right": null,
            "justify_content": null,
            "_view_module": "@jupyter-widgets/base",
            "overflow": null,
            "_model_module_version": "1.2.0",
            "_view_count": null,
            "flex_flow": null,
            "width": null,
            "min_width": null,
            "border": null,
            "align_items": null,
            "bottom": null,
            "_model_module": "@jupyter-widgets/base",
            "top": null,
            "grid_column": null,
            "overflow_y": null,
            "overflow_x": null,
            "grid_auto_flow": null,
            "grid_area": null,
            "grid_template_columns": null,
            "flex": null,
            "_model_name": "LayoutModel",
            "justify_items": null,
            "grid_row": null,
            "max_height": null,
            "align_content": null,
            "visibility": null,
            "align_self": null,
            "height": null,
            "min_height": null,
            "padding": null,
            "grid_auto_rows": null,
            "grid_gap": null,
            "max_width": null,
            "order": null,
            "_view_module_version": "1.2.0",
            "grid_template_areas": null,
            "object_position": null,
            "object_fit": null,
            "grid_auto_columns": null,
            "margin": null,
            "display": null,
            "left": null
          }
        },
        "76dd08ece7114de0aac08c9d043af50a": {
          "model_module": "@jupyter-widgets/controls",
          "model_name": "FloatProgressModel",
          "state": {
            "_view_name": "ProgressView",
            "style": "IPY_MODEL_67a47f59dd404879bd3fcc654859ca00",
            "_dom_classes": [],
            "description": "100%",
            "_model_name": "FloatProgressModel",
            "bar_style": "success",
            "max": 10,
            "_view_module": "@jupyter-widgets/controls",
            "_model_module_version": "1.5.0",
            "value": 10,
            "_view_count": null,
            "_view_module_version": "1.5.0",
            "orientation": "horizontal",
            "min": 0,
            "description_tooltip": null,
            "_model_module": "@jupyter-widgets/controls",
            "layout": "IPY_MODEL_88d412ef9bfa462ab5b9712ca973d625"
          }
        },
        "1b22c438a10d4fca8dabe1da60dabf0c": {
          "model_module": "@jupyter-widgets/controls",
          "model_name": "HTMLModel",
          "state": {
            "_view_name": "HTMLView",
            "style": "IPY_MODEL_c6c9e25a774145079793339e73dc3836",
            "_dom_classes": [],
            "description": "",
            "_model_name": "HTMLModel",
            "placeholder": "​",
            "_view_module": "@jupyter-widgets/controls",
            "_model_module_version": "1.5.0",
            "value": " 10/10 [00:04&lt;00:00,  2.14it/s]",
            "_view_count": null,
            "_view_module_version": "1.5.0",
            "description_tooltip": null,
            "_model_module": "@jupyter-widgets/controls",
            "layout": "IPY_MODEL_f1f4cad22ebb4f16a6df95408aed9338"
          }
        },
        "67a47f59dd404879bd3fcc654859ca00": {
          "model_module": "@jupyter-widgets/controls",
          "model_name": "ProgressStyleModel",
          "state": {
            "_view_name": "StyleView",
            "_model_name": "ProgressStyleModel",
            "description_width": "initial",
            "_view_module": "@jupyter-widgets/base",
            "_model_module_version": "1.5.0",
            "_view_count": null,
            "_view_module_version": "1.2.0",
            "bar_color": null,
            "_model_module": "@jupyter-widgets/controls"
          }
        },
        "88d412ef9bfa462ab5b9712ca973d625": {
          "model_module": "@jupyter-widgets/base",
          "model_name": "LayoutModel",
          "state": {
            "_view_name": "LayoutView",
            "grid_template_rows": null,
            "right": null,
            "justify_content": null,
            "_view_module": "@jupyter-widgets/base",
            "overflow": null,
            "_model_module_version": "1.2.0",
            "_view_count": null,
            "flex_flow": null,
            "width": null,
            "min_width": null,
            "border": null,
            "align_items": null,
            "bottom": null,
            "_model_module": "@jupyter-widgets/base",
            "top": null,
            "grid_column": null,
            "overflow_y": null,
            "overflow_x": null,
            "grid_auto_flow": null,
            "grid_area": null,
            "grid_template_columns": null,
            "flex": null,
            "_model_name": "LayoutModel",
            "justify_items": null,
            "grid_row": null,
            "max_height": null,
            "align_content": null,
            "visibility": null,
            "align_self": null,
            "height": null,
            "min_height": null,
            "padding": null,
            "grid_auto_rows": null,
            "grid_gap": null,
            "max_width": null,
            "order": null,
            "_view_module_version": "1.2.0",
            "grid_template_areas": null,
            "object_position": null,
            "object_fit": null,
            "grid_auto_columns": null,
            "margin": null,
            "display": null,
            "left": null
          }
        },
        "c6c9e25a774145079793339e73dc3836": {
          "model_module": "@jupyter-widgets/controls",
          "model_name": "DescriptionStyleModel",
          "state": {
            "_view_name": "StyleView",
            "_model_name": "DescriptionStyleModel",
            "description_width": "",
            "_view_module": "@jupyter-widgets/base",
            "_model_module_version": "1.5.0",
            "_view_count": null,
            "_view_module_version": "1.2.0",
            "_model_module": "@jupyter-widgets/controls"
          }
        },
        "f1f4cad22ebb4f16a6df95408aed9338": {
          "model_module": "@jupyter-widgets/base",
          "model_name": "LayoutModel",
          "state": {
            "_view_name": "LayoutView",
            "grid_template_rows": null,
            "right": null,
            "justify_content": null,
            "_view_module": "@jupyter-widgets/base",
            "overflow": null,
            "_model_module_version": "1.2.0",
            "_view_count": null,
            "flex_flow": null,
            "width": null,
            "min_width": null,
            "border": null,
            "align_items": null,
            "bottom": null,
            "_model_module": "@jupyter-widgets/base",
            "top": null,
            "grid_column": null,
            "overflow_y": null,
            "overflow_x": null,
            "grid_auto_flow": null,
            "grid_area": null,
            "grid_template_columns": null,
            "flex": null,
            "_model_name": "LayoutModel",
            "justify_items": null,
            "grid_row": null,
            "max_height": null,
            "align_content": null,
            "visibility": null,
            "align_self": null,
            "height": null,
            "min_height": null,
            "padding": null,
            "grid_auto_rows": null,
            "grid_gap": null,
            "max_width": null,
            "order": null,
            "_view_module_version": "1.2.0",
            "grid_template_areas": null,
            "object_position": null,
            "object_fit": null,
            "grid_auto_columns": null,
            "margin": null,
            "display": null,
            "left": null
          }
        }
      }
    }
  },
  "cells": [
    {
      "cell_type": "markdown",
      "metadata": {
        "id": "view-in-github",
        "colab_type": "text"
      },
      "source": [
        "<a href=\"https://colab.research.google.com/github/jtlai0921/-/blob/master/%E3%80%8Ckeras_03NEU_ipynb%E3%80%8D%E7%9A%84%E5%89%AF%E6%9C%AC.ipynb\" target=\"_parent\"><img src=\"https://colab.research.google.com/assets/colab-badge.svg\" alt=\"Open In Colab\"/></a>"
      ]
    },
    {
      "cell_type": "code",
      "metadata": {
        "id": "7JqIcnWvwMpc"
      },
      "source": [
        "from tensorflow import keras\n",
        "from tensorflow.keras.models import Sequential, Model, load_model\n",
        "from tensorflow.keras.layers import Dense, Dropout, Flatten, Input, Conv2D, MaxPooling2D, Activation\n",
        "from tensorflow.keras.utils import to_categorical\n",
        "import numpy as np\n",
        "import matplotlib.pyplot as plt\n",
        "from glob import glob\n",
        "import cv2\n",
        "from tqdm.auto import tqdm\n",
        "from sklearn.model_selection import train_test_split"
      ],
      "execution_count": 1,
      "outputs": []
    },
    {
      "cell_type": "code",
      "metadata": {
        "id": "s0PDCZGkwMpi",
        "colab": {
          "base_uri": "https://localhost:8080/"
        },
        "outputId": "a6fa4f17-d878-493a-ac4a-a4cd16a67d56"
      },
      "source": [
        "# mount Google Drive\n",
        "from google.colab import drive\n",
        "drive.mount('/content/drive')"
      ],
      "execution_count": 2,
      "outputs": [
        {
          "output_type": "stream",
          "text": [
            "Mounted at /content/drive\n"
          ],
          "name": "stdout"
        }
      ]
    },
    {
      "cell_type": "code",
      "metadata": {
        "id": "-wTZ1af4oVN9"
      },
      "source": [
        "IMG_SIZE = 100\n",
        "class_map = {\n",
        "    'PS':0,\n",
        "    'Sc':1,\n",
        "    'RS':2,\n",
        "    'In':3,\n",
        "    'Cr':4,\n",
        "    'Pa':5\n",
        "}\n",
        "num_classes = len(class_map)"
      ],
      "execution_count": 3,
      "outputs": []
    },
    {
      "cell_type": "code",
      "metadata": {
        "id": "k5xjR1OPyeBJ",
        "colab": {
          "base_uri": "https://localhost:8080/"
        },
        "outputId": "ad9297f3-45b0-44d1-b28a-e20d83736a43"
      },
      "source": [
        "paths = glob(\"/content/drive/MyDrive/緯育AI瑕疵檢測/Day2/NEU_defect/*.bmp\") # get all .bmp image paths\n",
        "paths = np.random.choice(paths, 10) # demo for 300 images\n",
        "cls_list = [path.split('/')[-1].split('_')[0] for path in paths] # get all images' class label\n",
        "print(paths[:3])\n",
        "print(cls_list[:3])"
      ],
      "execution_count": 9,
      "outputs": [
        {
          "output_type": "stream",
          "text": [
            "['/content/drive/MyDrive/緯育AI瑕疵檢測/Day2/NEU_defect/Pa_241.bmp'\n",
            " '/content/drive/MyDrive/緯育AI瑕疵檢測/Day2/NEU_defect/Sc_175.bmp'\n",
            " '/content/drive/MyDrive/緯育AI瑕疵檢測/Day2/NEU_defect/RS_129.bmp']\n",
            "['Pa', 'Sc', 'RS']\n"
          ],
          "name": "stdout"
        }
      ]
    },
    {
      "cell_type": "code",
      "metadata": {
        "id": "xS0Sce5ltiK2",
        "colab": {
          "base_uri": "https://localhost:8080/"
        },
        "outputId": "4ded4d5b-5709-41de-acf1-3c10e1a07c38"
      },
      "source": [
        "classes, counts = np.unique(cls_list, return_counts=True) # classes distribution\n",
        "print(classes, counts)"
      ],
      "execution_count": 10,
      "outputs": [
        {
          "output_type": "stream",
          "text": [
            "['Cr' 'PS' 'Pa' 'RS' 'Sc'] [2 2 3 2 1]\n"
          ],
          "name": "stdout"
        }
      ]
    },
    {
      "cell_type": "code",
      "metadata": {
        "id": "Mj4dVKs2tlig",
        "colab": {
          "base_uri": "https://localhost:8080/",
          "height": 282
        },
        "outputId": "601755b9-4b80-4039-85db-d3a536ae2289"
      },
      "source": [
        "plt.bar(classes, height=counts)"
      ],
      "execution_count": 11,
      "outputs": [
        {
          "output_type": "execute_result",
          "data": {
            "text/plain": [
              "<BarContainer object of 5 artists>"
            ]
          },
          "metadata": {
            "tags": []
          },
          "execution_count": 11
        },
        {
          "output_type": "display_data",
          "data": {
            "image/png": "[encoded data removed]",
            "text/plain": [
              "<Figure size 432x288 with 1 Axes>"
            ]
          },
          "metadata": {
            "tags": [],
            "needs_background": "light"
          }
        }
      ]
    },
    {
      "cell_type": "code",
      "metadata": {
        "id": "cDe8e0xb7frY",
        "colab": {
          "base_uri": "https://localhost:8080/",
          "height": 554
        },
        "outputId": "e65893b7-5263-42a3-8f2a-8c13df7bc490"
      },
      "source": [
        "img = cv2.imread(paths[0]) # read image\n",
        "print(img.shape)\n",
        "plt.imshow(img) # show image\n",
        "plt.show()\n",
        "\n",
        "# resize image\n",
        "img = cv2.resize(img, (IMG_SIZE, IMG_SIZE))\n",
        "label = cls_list[0]\n",
        "\n",
        "print(label, img.shape)\n",
        "plt.imshow(img)\n",
        "plt.show()"
      ],
      "execution_count": 12,
      "outputs": [
        {
          "output_type": "stream",
          "text": [
            "(200, 200, 3)\n"
          ],
          "name": "stdout"
        },
        {
          "output_type": "display_data",
          "data": {
            "image/png": "[encoded data removed]",
            "text/plain": [
              "<Figure size 432x288 with 1 Axes>"
            ]
          },
          "metadata": {
            "tags": [],
            "needs_background": "light"
          }
        },
        {
          "output_type": "stream",
          "text": [
            "Pa (100, 100, 3)\n"
          ],
          "name": "stdout"
        },
        {
          "output_type": "display_data",
          "data": {
            "image/png": "[encoded data removed]",
            "text/plain": [
              "<Figure size 432x288 with 1 Axes>"
            ]
          },
          "metadata": {
            "tags": [],
            "needs_background": "light"
          }
        }
      ]
    },
    {
      "cell_type": "code",
      "metadata": {
        "id": "jaqMFuJx7Q2f"
      },
      "source": [
        ""
      ],
      "execution_count": 12,
      "outputs": []
    },
    {
      "cell_type": "markdown",
      "metadata": {
        "id": "U4cklnE-CZ1d"
      },
      "source": [
        "### Method 1: Read all images and labels"
      ]
    },
    {
      "cell_type": "code",
      "metadata": {
        "id": "VGfMco0WCVPC",
        "colab": {
          "base_uri": "https://localhost:8080/",
          "height": 66,
          "referenced_widgets": [
            "f74669fcfd834956bcdbf15ef358f860",
            "0e044198bfba4490bdb4668fca7bac4f",
            "76dd08ece7114de0aac08c9d043af50a",
            "1b22c438a10d4fca8dabe1da60dabf0c",
            "67a47f59dd404879bd3fcc654859ca00",
            "88d412ef9bfa462ab5b9712ca973d625",
            "c6c9e25a774145079793339e73dc3836",
            "f1f4cad22ebb4f16a6df95408aed9338"
          ]
        },
        "outputId": "95acaad3-0869-42fa-d410-91f8e9d7ff3c"
      },
      "source": [
        "X = np.zeros((len(paths), IMG_SIZE, IMG_SIZE, 3))\n",
        "y = np.zeros((len(paths), 1))\n",
        "for i, path in enumerate(tqdm(paths)):  # tqdm: progress bar\n",
        "    img = cv2.imread(path)[:,:,::-1]\n",
        "    img = cv2.resize(img, (IMG_SIZE, IMG_SIZE))\n",
        "    label = path.split('/')[-1].split('_')[0]\n",
        "    X[i] = img\n",
        "    y[i] = class_map[label]"
      ],
      "execution_count": 13,
      "outputs": [
        {
          "output_type": "display_data",
          "data": {
            "application/vnd.jupyter.widget-view+json": {
              "model_id": "f74669fcfd834956bcdbf15ef358f860",
              "version_minor": 0,
              "version_major": 2
            },
            "text/plain": [
              "HBox(children=(FloatProgress(value=0.0, max=10.0), HTML(value='')))"
            ]
          },
          "metadata": {
            "tags": []
          }
        },
        {
          "output_type": "stream",
          "text": [
            "\n"
          ],
          "name": "stdout"
        }
      ]
    },
    {
      "cell_type": "code",
      "metadata": {
        "id": "sIcXa0N2Vsm_",
        "colab": {
          "base_uri": "https://localhost:8080/"
        },
        "outputId": "4312d614-477c-4bb6-9509-504a6c65fa52"
      },
      "source": [
        "y[:5]"
      ],
      "execution_count": 14,
      "outputs": [
        {
          "output_type": "execute_result",
          "data": {
            "text/plain": [
              "array([[5.],\n",
              "       [1.],\n",
              "       [2.],\n",
              "       [5.],\n",
              "       [0.]])"
            ]
          },
          "metadata": {
            "tags": []
          },
          "execution_count": 14
        }
      ]
    },
    {
      "cell_type": "markdown",
      "metadata": {
        "id": "ooMJAKutCd8K"
      },
      "source": [
        "### Method 2: Read all images and labels from pickle file"
      ]
    },
    {
      "cell_type": "code",
      "metadata": {
        "id": "MGDNUnLGBFvc",
        "colab": {
          "base_uri": "https://localhost:8080/",
          "height": 230
        },
        "outputId": "5a1d3a0f-fdc0-4961-afe7-b7f4e8c761e6"
      },
      "source": [
        "import pickle\n",
        "# load variable from pickle file\n",
        "with open('/content/drive/MyDrive/緯育AI瑕疵檢測/Day2/NEU_defect/*.bmp', 'rb') as file:\n",
        "    X = pickle.load(file)\n",
        "with open('/content/drive/MyDrive/緯育AI瑕疵檢測/Day2/NEU_defect/*.bmp', 'rb') as file:\n",
        "    y = pickle.load(file)\n",
        "X.shape, y.shape"
      ],
      "execution_count": 17,
      "outputs": [
        {
          "output_type": "error",
          "ename": "FileNotFoundError",
          "evalue": "ignored",
          "traceback": [
            "\u001b[0;31m---------------------------------------------------------------------------\u001b[0m",
            "\u001b[0;31mFileNotFoundError\u001b[0m                         Traceback (most recent call last)",
            "\u001b[0;32m<ipython-input-17-20f920315898>\u001b[0m in \u001b[0;36m<module>\u001b[0;34m()\u001b[0m\n\u001b[1;32m      1\u001b[0m \u001b[0;32mimport\u001b[0m \u001b[0mpickle\u001b[0m\u001b[0;34m\u001b[0m\u001b[0;34m\u001b[0m\u001b[0m\n\u001b[1;32m      2\u001b[0m \u001b[0;31m# load variable from pickle file\u001b[0m\u001b[0;34m\u001b[0m\u001b[0;34m\u001b[0m\u001b[0;34m\u001b[0m\u001b[0m\n\u001b[0;32m----> 3\u001b[0;31m \u001b[0;32mwith\u001b[0m \u001b[0mopen\u001b[0m\u001b[0;34m(\u001b[0m\u001b[0;34m'/content/drive/MyDrive/緯育AI瑕疵檢測/Day2/NEU_defect/*.bmp'\u001b[0m\u001b[0;34m,\u001b[0m \u001b[0;34m'rb'\u001b[0m\u001b[0;34m)\u001b[0m \u001b[0;32mas\u001b[0m \u001b[0mfile\u001b[0m\u001b[0;34m:\u001b[0m\u001b[0;34m\u001b[0m\u001b[0;34m\u001b[0m\u001b[0m\n\u001b[0m\u001b[1;32m      4\u001b[0m     \u001b[0mX\u001b[0m \u001b[0;34m=\u001b[0m \u001b[0mpickle\u001b[0m\u001b[0;34m.\u001b[0m\u001b[0mload\u001b[0m\u001b[0;34m(\u001b[0m\u001b[0mfile\u001b[0m\u001b[0;34m)\u001b[0m\u001b[0;34m\u001b[0m\u001b[0;34m\u001b[0m\u001b[0m\n\u001b[1;32m      5\u001b[0m \u001b[0;32mwith\u001b[0m \u001b[0mopen\u001b[0m\u001b[0;34m(\u001b[0m\u001b[0;34m'/content/drive/MyDrive/緯育AI瑕疵檢測/Day2/NEU_defect/*.bmp'\u001b[0m\u001b[0;34m,\u001b[0m \u001b[0;34m'rb'\u001b[0m\u001b[0;34m)\u001b[0m \u001b[0;32mas\u001b[0m \u001b[0mfile\u001b[0m\u001b[0;34m:\u001b[0m\u001b[0;34m\u001b[0m\u001b[0;34m\u001b[0m\u001b[0m\n",
            "\u001b[0;31mFileNotFoundError\u001b[0m: [Errno 2] No such file or directory: '/content/drive/MyDrive/緯育AI瑕疵檢測/Day2/NEU_defect/*.bmp'"
          ]
        }
      ]
    },
    {
      "cell_type": "markdown",
      "metadata": {
        "id": "M77saJnMp3NO"
      },
      "source": [
        "### Data Preprovess"
      ]
    },
    {
      "cell_type": "code",
      "metadata": {
        "id": "YkUsOdkdOq6U",
        "colab": {
          "base_uri": "https://localhost:8080/"
        },
        "outputId": "db5e7282-550f-480c-d890-736946b35038"
      },
      "source": [
        "# normalization 0~1\n",
        "X = X / 255.\n",
        "# one-hot encoding\n",
        "y = to_categorical(y, num_classes=len(class_map)) # or to_categorical(y, num_classes=6)\n",
        "X.shape, y.shape"
      ],
      "execution_count": 18,
      "outputs": [
        {
          "output_type": "execute_result",
          "data": {
            "text/plain": [
              "((10, 100, 100, 3), (10, 6))"
            ]
          },
          "metadata": {
            "tags": []
          },
          "execution_count": 18
        }
      ]
    },
    {
      "cell_type": "code",
      "metadata": {
        "id": "ergqw6yGO_xN",
        "colab": {
          "base_uri": "https://localhost:8080/"
        },
        "outputId": "82bf3ba8-97c0-40d2-93f0-7abf10ba72c0"
      },
      "source": [
        "# Data Split\n",
        "X_train, X_test, y_train, y_test = train_test_split(X, y, test_size=0.2)\n",
        "X_train.shape, X_test.shape, y_train.shape, y_test.shape"
      ],
      "execution_count": 19,
      "outputs": [
        {
          "output_type": "execute_result",
          "data": {
            "text/plain": [
              "((8, 100, 100, 3), (2, 100, 100, 3), (8, 6), (2, 6))"
            ]
          },
          "metadata": {
            "tags": []
          },
          "execution_count": 19
        }
      ]
    },
    {
      "cell_type": "code",
      "metadata": {
        "id": "-u6ZimiSPZKA"
      },
      "source": [
        ""
      ],
      "execution_count": 19,
      "outputs": []
    },
    {
      "cell_type": "markdown",
      "metadata": {
        "id": "odhdRPCFDLaN"
      },
      "source": [
        "### Build Model"
      ]
    },
    {
      "cell_type": "code",
      "metadata": {
        "id": "twIJqpl-wMpl"
      },
      "source": [
        "# 1\n",
        "inputs = Input(shape=(IMG_SIZE, IMG_SIZE, 3))\n",
        "x = Conv2D(filters=16, kernel_size=(3, 3), activation='relu')(inputs)\n",
        "x = Conv2D(16, (3, 3), activation=keras.activations.relu)(x)\n",
        "x = MaxPooling2D(pool_size=(2, 2))(x)\n",
        "x = Conv2D(32, (3, 3), activation=keras.activations.relu)(x)\n",
        "x = Conv2D(32, (3, 3), activation=keras.activations.relu)(x)\n",
        "x = MaxPooling2D(pool_size=(2, 2))(x)\n",
        "x = Conv2D(32, (3, 3), activation=keras.activations.relu)(x)\n",
        "x = Conv2D(32, (3, 3), activation=keras.activations.relu)(x)\n",
        "x = MaxPooling2D(pool_size=(2, 2))(x)\n",
        "\n",
        "x = Flatten()(x)\n",
        "x = Dense(128, activation='relu')(x)\n",
        "prediction = Dense(num_classes, activation='softmax')(x)\n",
        "model = Model(inputs=inputs, outputs=prediction)"
      ],
      "execution_count": 20,
      "outputs": []
    },
    {
      "cell_type": "code",
      "metadata": {
        "id": "N3n1KLUdwMpn"
      },
      "source": [
        "# 2\n",
        "model = Sequential()\n",
        "model.add(Conv2D(32, (3, 3), activation='relu', input_shape=(IMG_SIZE, IMG_SIZE, 3), padding='same'))\n",
        "model.add(Conv2D(32, (3, 3), activation='relu'))\n",
        "model.add(Conv2D(32, (3, 3)))\n",
        "model.add(Activation('relu'))\n",
        "model.add(Conv2D(32, (3, 3), activation=keras.activations.relu))\n",
        "model.add(MaxPooling2D(pool_size=(2, 2)))\n",
        "model.add(Flatten())\n",
        "model.add(Dense(128, activation='relu'))\n",
        "model.add(Dense(num_classes, activation='softmax'))"
      ],
      "execution_count": 21,
      "outputs": []
    },
    {
      "cell_type": "code",
      "metadata": {
        "id": "wivbMuaEwMpp",
        "colab": {
          "base_uri": "https://localhost:8080/"
        },
        "outputId": "8db14b52-f611-4369-8c6e-bfe40d9683ee"
      },
      "source": [
        "model.summary()"
      ],
      "execution_count": 22,
      "outputs": [
        {
          "output_type": "stream",
          "text": [
            "Model: \"sequential\"\n",
            "_________________________________________________________________\n",
            "Layer (type)                 Output Shape              Param #   \n",
            "=================================================================\n",
            "conv2d_6 (Conv2D)            (None, 100, 100, 32)      896       \n",
            "_________________________________________________________________\n",
            "conv2d_7 (Conv2D)            (None, 98, 98, 32)        9248      \n",
            "_________________________________________________________________\n",
            "conv2d_8 (Conv2D)            (None, 96, 96, 32)        9248      \n",
            "_________________________________________________________________\n",
            "activation (Activation)      (None, 96, 96, 32)        0         \n",
            "_________________________________________________________________\n",
            "conv2d_9 (Conv2D)            (None, 94, 94, 32)        9248      \n",
            "_________________________________________________________________\n",
            "max_pooling2d_3 (MaxPooling2 (None, 47, 47, 32)        0         \n",
            "_________________________________________________________________\n",
            "flatten_1 (Flatten)          (None, 70688)             0         \n",
            "_________________________________________________________________\n",
            "dense_2 (Dense)              (None, 128)               9048192   \n",
            "_________________________________________________________________\n",
            "dense_3 (Dense)              (None, 6)                 774       \n",
            "=================================================================\n",
            "Total params: 9,077,606\n",
            "Trainable params: 9,077,606\n",
            "Non-trainable params: 0\n",
            "_________________________________________________________________\n"
          ],
          "name": "stdout"
        }
      ]
    },
    {
      "cell_type": "code",
      "metadata": {
        "id": "b64Ju7UnwMps"
      },
      "source": [
        "model.compile(loss=keras.losses.categorical_crossentropy,\n",
        "              optimizer=keras.optimizers.Adam(),\n",
        "              metrics=['accuracy'])"
      ],
      "execution_count": 23,
      "outputs": []
    },
    {
      "cell_type": "markdown",
      "metadata": {
        "id": "edlcz3TUDOem"
      },
      "source": [
        "### Training"
      ]
    },
    {
      "cell_type": "code",
      "metadata": {
        "id": "EuIgYeCqwMpu",
        "colab": {
          "base_uri": "https://localhost:8080/"
        },
        "outputId": "d68ee279-e415-47f3-a575-19b2843147ec"
      },
      "source": [
        "history = model.fit(X_train, y_train,\n",
        "                    batch_size=32,\n",
        "                    epochs=50,\n",
        "                    verbose=1,\n",
        "                    validation_data=(X_test, y_test))"
      ],
      "execution_count": 24,
      "outputs": [
        {
          "output_type": "stream",
          "text": [
            "Epoch 1/50\n",
            "1/1 [==============================] - 8s 8s/step - loss: 1.8322 - accuracy: 0.1250 - val_loss: 2.7518 - val_accuracy: 0.0000e+00\n",
            "Epoch 2/50\n",
            "1/1 [==============================] - 0s 46ms/step - loss: 1.5905 - accuracy: 0.2500 - val_loss: 2.4646 - val_accuracy: 0.0000e+00\n",
            "Epoch 3/50\n",
            "1/1 [==============================] - 0s 41ms/step - loss: 1.8142 - accuracy: 0.2500 - val_loss: 1.5145 - val_accuracy: 0.0000e+00\n",
            "Epoch 4/50\n",
            "1/1 [==============================] - 0s 41ms/step - loss: 1.4915 - accuracy: 0.5000 - val_loss: 1.6685 - val_accuracy: 0.0000e+00\n",
            "Epoch 5/50\n",
            "1/1 [==============================] - 0s 42ms/step - loss: 1.4226 - accuracy: 0.5000 - val_loss: 1.9768 - val_accuracy: 0.0000e+00\n",
            "Epoch 6/50\n",
            "1/1 [==============================] - 0s 40ms/step - loss: 1.2818 - accuracy: 0.3750 - val_loss: 2.2542 - val_accuracy: 0.0000e+00\n",
            "Epoch 7/50\n",
            "1/1 [==============================] - 0s 40ms/step - loss: 1.1605 - accuracy: 0.6250 - val_loss: 2.2842 - val_accuracy: 0.0000e+00\n",
            "Epoch 8/50\n",
            "1/1 [==============================] - 0s 41ms/step - loss: 1.0181 - accuracy: 0.6250 - val_loss: 2.4621 - val_accuracy: 0.0000e+00\n",
            "Epoch 9/50\n",
            "1/1 [==============================] - 0s 42ms/step - loss: 0.9211 - accuracy: 0.6250 - val_loss: 3.1252 - val_accuracy: 0.0000e+00\n",
            "Epoch 10/50\n",
            "1/1 [==============================] - 0s 39ms/step - loss: 0.9874 - accuracy: 0.5000 - val_loss: 2.0808 - val_accuracy: 0.0000e+00\n",
            "Epoch 11/50\n",
            "1/1 [==============================] - 0s 37ms/step - loss: 0.7104 - accuracy: 1.0000 - val_loss: 1.5719 - val_accuracy: 0.0000e+00\n",
            "Epoch 12/50\n",
            "1/1 [==============================] - 0s 38ms/step - loss: 0.7788 - accuracy: 0.8750 - val_loss: 2.8126 - val_accuracy: 0.0000e+00\n",
            "Epoch 13/50\n",
            "1/1 [==============================] - 0s 39ms/step - loss: 0.4305 - accuracy: 0.8750 - val_loss: 3.7954 - val_accuracy: 0.0000e+00\n",
            "Epoch 14/50\n",
            "1/1 [==============================] - 0s 38ms/step - loss: 0.3268 - accuracy: 0.8750 - val_loss: 1.8496 - val_accuracy: 0.0000e+00\n",
            "Epoch 15/50\n",
            "1/1 [==============================] - 0s 47ms/step - loss: 0.2825 - accuracy: 1.0000 - val_loss: 5.5265 - val_accuracy: 0.0000e+00\n",
            "Epoch 16/50\n",
            "1/1 [==============================] - 0s 42ms/step - loss: 0.2606 - accuracy: 1.0000 - val_loss: 4.6242 - val_accuracy: 0.0000e+00\n",
            "Epoch 17/50\n",
            "1/1 [==============================] - 0s 39ms/step - loss: 0.1557 - accuracy: 1.0000 - val_loss: 4.7647 - val_accuracy: 0.0000e+00\n",
            "Epoch 18/50\n",
            "1/1 [==============================] - 0s 39ms/step - loss: 0.1202 - accuracy: 1.0000 - val_loss: 5.8870 - val_accuracy: 0.0000e+00\n",
            "Epoch 19/50\n",
            "1/1 [==============================] - 0s 40ms/step - loss: 0.0419 - accuracy: 1.0000 - val_loss: 7.2787 - val_accuracy: 0.0000e+00\n",
            "Epoch 20/50\n",
            "1/1 [==============================] - 0s 38ms/step - loss: 0.1283 - accuracy: 1.0000 - val_loss: 3.2646 - val_accuracy: 0.0000e+00\n",
            "Epoch 21/50\n",
            "1/1 [==============================] - 0s 42ms/step - loss: 0.0210 - accuracy: 1.0000 - val_loss: 1.9346 - val_accuracy: 0.0000e+00\n",
            "Epoch 22/50\n",
            "1/1 [==============================] - 0s 39ms/step - loss: 0.2245 - accuracy: 0.8750 - val_loss: 10.8033 - val_accuracy: 0.0000e+00\n",
            "Epoch 23/50\n",
            "1/1 [==============================] - 0s 39ms/step - loss: 0.0405 - accuracy: 1.0000 - val_loss: 18.3626 - val_accuracy: 0.0000e+00\n",
            "Epoch 24/50\n",
            "1/1 [==============================] - 0s 39ms/step - loss: 1.4551 - accuracy: 0.5000 - val_loss: 8.7615 - val_accuracy: 0.0000e+00\n",
            "Epoch 25/50\n",
            "1/1 [==============================] - 0s 41ms/step - loss: 0.0075 - accuracy: 1.0000 - val_loss: 7.0185 - val_accuracy: 0.0000e+00\n",
            "Epoch 26/50\n",
            "1/1 [==============================] - 0s 40ms/step - loss: 1.1784 - accuracy: 0.7500 - val_loss: 3.9788 - val_accuracy: 0.5000\n",
            "Epoch 27/50\n",
            "1/1 [==============================] - 0s 40ms/step - loss: 0.1912 - accuracy: 0.8750 - val_loss: 2.7295 - val_accuracy: 0.5000\n",
            "Epoch 28/50\n",
            "1/1 [==============================] - 0s 40ms/step - loss: 0.0195 - accuracy: 1.0000 - val_loss: 4.0800 - val_accuracy: 0.0000e+00\n",
            "Epoch 29/50\n",
            "1/1 [==============================] - 0s 38ms/step - loss: 0.0163 - accuracy: 1.0000 - val_loss: 5.1076 - val_accuracy: 0.0000e+00\n",
            "Epoch 30/50\n",
            "1/1 [==============================] - 0s 38ms/step - loss: 0.0405 - accuracy: 1.0000 - val_loss: 5.2585 - val_accuracy: 0.0000e+00\n",
            "Epoch 31/50\n",
            "1/1 [==============================] - 0s 38ms/step - loss: 0.1107 - accuracy: 1.0000 - val_loss: 4.5952 - val_accuracy: 0.0000e+00\n",
            "Epoch 32/50\n",
            "1/1 [==============================] - 0s 38ms/step - loss: 0.0912 - accuracy: 1.0000 - val_loss: 3.6188 - val_accuracy: 0.0000e+00\n",
            "Epoch 33/50\n",
            "1/1 [==============================] - 0s 36ms/step - loss: 0.0375 - accuracy: 1.0000 - val_loss: 2.9238 - val_accuracy: 0.0000e+00\n",
            "Epoch 34/50\n",
            "1/1 [==============================] - 0s 38ms/step - loss: 0.0330 - accuracy: 1.0000 - val_loss: 2.8044 - val_accuracy: 0.0000e+00\n",
            "Epoch 35/50\n",
            "1/1 [==============================] - 0s 40ms/step - loss: 0.0586 - accuracy: 1.0000 - val_loss: 3.1355 - val_accuracy: 0.0000e+00\n",
            "Epoch 36/50\n",
            "1/1 [==============================] - 0s 40ms/step - loss: 0.0710 - accuracy: 1.0000 - val_loss: 3.3381 - val_accuracy: 0.0000e+00\n",
            "Epoch 37/50\n",
            "1/1 [==============================] - 0s 42ms/step - loss: 0.0350 - accuracy: 1.0000 - val_loss: 3.5848 - val_accuracy: 0.0000e+00\n",
            "Epoch 38/50\n",
            "1/1 [==============================] - 0s 47ms/step - loss: 0.0162 - accuracy: 1.0000 - val_loss: 3.8519 - val_accuracy: 0.0000e+00\n",
            "Epoch 39/50\n",
            "1/1 [==============================] - 0s 42ms/step - loss: 0.0106 - accuracy: 1.0000 - val_loss: 4.0648 - val_accuracy: 0.0000e+00\n",
            "Epoch 40/50\n",
            "1/1 [==============================] - 0s 44ms/step - loss: 0.0093 - accuracy: 1.0000 - val_loss: 4.1151 - val_accuracy: 0.0000e+00\n",
            "Epoch 41/50\n",
            "1/1 [==============================] - 0s 49ms/step - loss: 0.0098 - accuracy: 1.0000 - val_loss: 4.1401 - val_accuracy: 0.0000e+00\n",
            "Epoch 42/50\n",
            "1/1 [==============================] - 0s 44ms/step - loss: 0.0110 - accuracy: 1.0000 - val_loss: 4.2765 - val_accuracy: 0.0000e+00\n",
            "Epoch 43/50\n",
            "1/1 [==============================] - 0s 137ms/step - loss: 0.0110 - accuracy: 1.0000 - val_loss: 4.4306 - val_accuracy: 0.0000e+00\n",
            "Epoch 44/50\n",
            "1/1 [==============================] - 0s 40ms/step - loss: 0.0098 - accuracy: 1.0000 - val_loss: 4.4838 - val_accuracy: 0.0000e+00\n",
            "Epoch 45/50\n",
            "1/1 [==============================] - 0s 47ms/step - loss: 0.0076 - accuracy: 1.0000 - val_loss: 4.2965 - val_accuracy: 0.0000e+00\n",
            "Epoch 46/50\n",
            "1/1 [==============================] - 0s 41ms/step - loss: 0.0054 - accuracy: 1.0000 - val_loss: 3.9593 - val_accuracy: 0.0000e+00\n",
            "Epoch 47/50\n",
            "1/1 [==============================] - 0s 40ms/step - loss: 0.0042 - accuracy: 1.0000 - val_loss: 3.6960 - val_accuracy: 0.0000e+00\n",
            "Epoch 48/50\n",
            "1/1 [==============================] - 0s 41ms/step - loss: 0.0033 - accuracy: 1.0000 - val_loss: 3.6505 - val_accuracy: 0.0000e+00\n",
            "Epoch 49/50\n",
            "1/1 [==============================] - 0s 42ms/step - loss: 0.0025 - accuracy: 1.0000 - val_loss: 3.7356 - val_accuracy: 0.0000e+00\n",
            "Epoch 50/50\n",
            "1/1 [==============================] - 0s 41ms/step - loss: 0.0017 - accuracy: 1.0000 - val_loss: 3.9131 - val_accuracy: 0.0000e+00\n"
          ],
          "name": "stdout"
        }
      ]
    },
    {
      "cell_type": "code",
      "metadata": {
        "id": "Z8z7SxIMYnD7"
      },
      "source": [
        ""
      ],
      "execution_count": 24,
      "outputs": []
    },
    {
      "cell_type": "code",
      "metadata": {
        "id": "oCwl5cTewMpx",
        "colab": {
          "base_uri": "https://localhost:8080/"
        },
        "outputId": "da19e271-8847-4526-ca35-ac686692bda2"
      },
      "source": [
        "score = model.evaluate(X_test, y_test, verbose=0)\n",
        "print(f'test loss: {score[0]}, test acc: {score[1]}')\n",
        "score"
      ],
      "execution_count": 25,
      "outputs": [
        {
          "output_type": "stream",
          "text": [
            "test loss: 3.9130561351776123, test acc: 0.0\n"
          ],
          "name": "stdout"
        },
        {
          "output_type": "execute_result",
          "data": {
            "text/plain": [
              "[3.9130561351776123, 0.0]"
            ]
          },
          "metadata": {
            "tags": []
          },
          "execution_count": 25
        }
      ]
    },
    {
      "cell_type": "code",
      "metadata": {
        "id": "89NwtdhbwMp2",
        "colab": {
          "base_uri": "https://localhost:8080/"
        },
        "outputId": "7f993717-eb5b-447a-e640-1f903d589dc1"
      },
      "source": [
        "logs = history.history\n",
        "logs"
      ],
      "execution_count": 26,
      "outputs": [
        {
          "output_type": "execute_result",
          "data": {
            "text/plain": [
              "{'accuracy': [0.125,\n",
              "  0.25,\n",
              "  0.25,\n",
              "  0.5,\n",
              "  0.5,\n",
              "  0.375,\n",
              "  0.625,\n",
              "  0.625,\n",
              "  0.625,\n",
              "  0.5,\n",
              "  1.0,\n",
              "  0.875,\n",
              "  0.875,\n",
              "  0.875,\n",
              "  1.0,\n",
              "  1.0,\n",
              "  1.0,\n",
              "  1.0,\n",
              "  1.0,\n",
              "  1.0,\n",
              "  1.0,\n",
              "  0.875,\n",
              "  1.0,\n",
              "  0.5,\n",
              "  1.0,\n",
              "  0.75,\n",
              "  0.875,\n",
              "  1.0,\n",
              "  1.0,\n",
              "  1.0,\n",
              "  1.0,\n",
              "  1.0,\n",
              "  1.0,\n",
              "  1.0,\n",
              "  1.0,\n",
              "  1.0,\n",
              "  1.0,\n",
              "  1.0,\n",
              "  1.0,\n",
              "  1.0,\n",
              "  1.0,\n",
              "  1.0,\n",
              "  1.0,\n",
              "  1.0,\n",
              "  1.0,\n",
              "  1.0,\n",
              "  1.0,\n",
              "  1.0,\n",
              "  1.0,\n",
              "  1.0],\n",
              " 'loss': [1.832249641418457,\n",
              "  1.5904685258865356,\n",
              "  1.8142151832580566,\n",
              "  1.4914528131484985,\n",
              "  1.4226255416870117,\n",
              "  1.2818127870559692,\n",
              "  1.1604728698730469,\n",
              "  1.0180983543395996,\n",
              "  0.9211297631263733,\n",
              "  0.98735511302948,\n",
              "  0.7104489803314209,\n",
              "  0.7788001894950867,\n",
              "  0.4305296540260315,\n",
              "  0.32678091526031494,\n",
              "  0.2825453281402588,\n",
              "  0.2605569362640381,\n",
              "  0.15565994381904602,\n",
              "  0.12021197378635406,\n",
              "  0.04188333824276924,\n",
              "  0.12828075885772705,\n",
              "  0.02099880576133728,\n",
              "  0.22450044751167297,\n",
              "  0.040452033281326294,\n",
              "  1.455101728439331,\n",
              "  0.007522442378103733,\n",
              "  1.1783636808395386,\n",
              "  0.19115053117275238,\n",
              "  0.019484706223011017,\n",
              "  0.01629093661904335,\n",
              "  0.04045810177922249,\n",
              "  0.11073213815689087,\n",
              "  0.09123676270246506,\n",
              "  0.037465158849954605,\n",
              "  0.03299318999052048,\n",
              "  0.05863598734140396,\n",
              "  0.07100935280323029,\n",
              "  0.03504203259944916,\n",
              "  0.01617215946316719,\n",
              "  0.010642522014677525,\n",
              "  0.009325126186013222,\n",
              "  0.009786028414964676,\n",
              "  0.010959871113300323,\n",
              "  0.011047851294279099,\n",
              "  0.009820106439292431,\n",
              "  0.007612803019583225,\n",
              "  0.005440210457891226,\n",
              "  0.004160474985837936,\n",
              "  0.0033494913950562477,\n",
              "  0.002458936534821987,\n",
              "  0.001731210621073842],\n",
              " 'val_accuracy': [0.0,\n",
              "  0.0,\n",
              "  0.0,\n",
              "  0.0,\n",
              "  0.0,\n",
              "  0.0,\n",
              "  0.0,\n",
              "  0.0,\n",
              "  0.0,\n",
              "  0.0,\n",
              "  0.0,\n",
              "  0.0,\n",
              "  0.0,\n",
              "  0.0,\n",
              "  0.0,\n",
              "  0.0,\n",
              "  0.0,\n",
              "  0.0,\n",
              "  0.0,\n",
              "  0.0,\n",
              "  0.0,\n",
              "  0.0,\n",
              "  0.0,\n",
              "  0.0,\n",
              "  0.0,\n",
              "  0.5,\n",
              "  0.5,\n",
              "  0.0,\n",
              "  0.0,\n",
              "  0.0,\n",
              "  0.0,\n",
              "  0.0,\n",
              "  0.0,\n",
              "  0.0,\n",
              "  0.0,\n",
              "  0.0,\n",
              "  0.0,\n",
              "  0.0,\n",
              "  0.0,\n",
              "  0.0,\n",
              "  0.0,\n",
              "  0.0,\n",
              "  0.0,\n",
              "  0.0,\n",
              "  0.0,\n",
              "  0.0,\n",
              "  0.0,\n",
              "  0.0,\n",
              "  0.0,\n",
              "  0.0],\n",
              " 'val_loss': [2.7518467903137207,\n",
              "  2.46455717086792,\n",
              "  1.5144978761672974,\n",
              "  1.668457269668579,\n",
              "  1.9767612218856812,\n",
              "  2.254178285598755,\n",
              "  2.284186840057373,\n",
              "  2.4620919227600098,\n",
              "  3.125241994857788,\n",
              "  2.0807955265045166,\n",
              "  1.571873426437378,\n",
              "  2.8125832080841064,\n",
              "  3.7953524589538574,\n",
              "  1.849611759185791,\n",
              "  5.526474952697754,\n",
              "  4.624228000640869,\n",
              "  4.764682769775391,\n",
              "  5.887012004852295,\n",
              "  7.27872896194458,\n",
              "  3.264591693878174,\n",
              "  1.9346410036087036,\n",
              "  10.803319931030273,\n",
              "  18.362585067749023,\n",
              "  8.761529922485352,\n",
              "  7.0184807777404785,\n",
              "  3.9788267612457275,\n",
              "  2.729518175125122,\n",
              "  4.079971790313721,\n",
              "  5.107601642608643,\n",
              "  5.258540153503418,\n",
              "  4.595210075378418,\n",
              "  3.618844985961914,\n",
              "  2.92376708984375,\n",
              "  2.8043651580810547,\n",
              "  3.1355185508728027,\n",
              "  3.3380837440490723,\n",
              "  3.584827423095703,\n",
              "  3.8519468307495117,\n",
              "  4.064757823944092,\n",
              "  4.115141868591309,\n",
              "  4.14013671875,\n",
              "  4.276467323303223,\n",
              "  4.430617809295654,\n",
              "  4.483754634857178,\n",
              "  4.2964653968811035,\n",
              "  3.9593124389648438,\n",
              "  3.69602632522583,\n",
              "  3.650453805923462,\n",
              "  3.7356348037719727,\n",
              "  3.9130561351776123]}"
            ]
          },
          "metadata": {
            "tags": []
          },
          "execution_count": 26
        }
      ]
    },
    {
      "cell_type": "code",
      "metadata": {
        "id": "ZKDX0rwfwMp5",
        "colab": {
          "base_uri": "https://localhost:8080/",
          "height": 298
        },
        "outputId": "edb4febf-645e-4667-e864-667c828d2314"
      },
      "source": [
        "plt.plot(logs['accuracy'])\n",
        "plt.plot(logs['val_accuracy'])\n",
        "plt.title('accuracy')"
      ],
      "execution_count": 27,
      "outputs": [
        {
          "output_type": "execute_result",
          "data": {
            "text/plain": [
              "Text(0.5, 1.0, 'accuracy')"
            ]
          },
          "metadata": {
            "tags": []
          },
          "execution_count": 27
        },
        {
          "output_type": "display_data",
          "data": {
            "image/png": "[encoded data removed]",
            "text/plain": [
              "<Figure size 432x288 with 1 Axes>"
            ]
          },
          "metadata": {
            "tags": [],
            "needs_background": "light"
          }
        }
      ]
    },
    {
      "cell_type": "code",
      "metadata": {
        "id": "jMyM477lwMp8",
        "colab": {
          "base_uri": "https://localhost:8080/",
          "height": 298
        },
        "outputId": "7e3a5d8c-c9fc-4902-8d87-8c5355db8e8d"
      },
      "source": [
        "plt.plot(logs['loss'])\n",
        "plt.plot(logs['val_loss'])\n",
        "plt.title('loss')"
      ],
      "execution_count": 28,
      "outputs": [
        {
          "output_type": "execute_result",
          "data": {
            "text/plain": [
              "Text(0.5, 1.0, 'loss')"
            ]
          },
          "metadata": {
            "tags": []
          },
          "execution_count": 28
        },
        {
          "output_type": "display_data",
          "data": {
            "image/png": "[encoded data removed]",
            "text/plain": [
              "<Figure size 432x288 with 1 Axes>"
            ]
          },
          "metadata": {
            "tags": [],
            "needs_background": "light"
          }
        }
      ]
    },
    {
      "cell_type": "code",
      "metadata": {
        "id": "U_JRuyYTwMpz",
        "colab": {
          "base_uri": "https://localhost:8080/",
          "height": 331
        },
        "outputId": "79c9b2aa-6343-4361-ab9f-153229239eda"
      },
      "source": [
        "prediction = model.predict(X_test[2:3]) # batch\n",
        "print(prediction)\n",
        "print(np.argmax(prediction))\n"
      ],
      "execution_count": 30,
      "outputs": [
        {
          "output_type": "error",
          "ename": "ValueError",
          "evalue": "ignored",
          "traceback": [
            "\u001b[0;31m---------------------------------------------------------------------------\u001b[0m",
            "\u001b[0;31mValueError\u001b[0m                                Traceback (most recent call last)",
            "\u001b[0;32m<ipython-input-30-2230e0c4fbdc>\u001b[0m in \u001b[0;36m<module>\u001b[0;34m()\u001b[0m\n\u001b[0;32m----> 1\u001b[0;31m \u001b[0mprediction\u001b[0m \u001b[0;34m=\u001b[0m \u001b[0mmodel\u001b[0m\u001b[0;34m.\u001b[0m\u001b[0mpredict\u001b[0m\u001b[0;34m(\u001b[0m\u001b[0mX_test\u001b[0m\u001b[0;34m[\u001b[0m\u001b[0;36m2\u001b[0m\u001b[0;34m:\u001b[0m\u001b[0;36m3\u001b[0m\u001b[0;34m]\u001b[0m\u001b[0;34m)\u001b[0m \u001b[0;31m# batch\u001b[0m\u001b[0;34m\u001b[0m\u001b[0;34m\u001b[0m\u001b[0m\n\u001b[0m\u001b[1;32m      2\u001b[0m \u001b[0mprint\u001b[0m\u001b[0;34m(\u001b[0m\u001b[0mprediction\u001b[0m\u001b[0;34m)\u001b[0m\u001b[0;34m\u001b[0m\u001b[0;34m\u001b[0m\u001b[0m\n\u001b[1;32m      3\u001b[0m \u001b[0mprint\u001b[0m\u001b[0;34m(\u001b[0m\u001b[0mnp\u001b[0m\u001b[0;34m.\u001b[0m\u001b[0margmax\u001b[0m\u001b[0;34m(\u001b[0m\u001b[0mprediction\u001b[0m\u001b[0;34m)\u001b[0m\u001b[0;34m)\u001b[0m\u001b[0;34m\u001b[0m\u001b[0;34m\u001b[0m\u001b[0m\n",
            "\u001b[0;32m/usr/local/lib/python3.6/dist-packages/tensorflow/python/keras/engine/training.py\u001b[0m in \u001b[0;36mpredict\u001b[0;34m(self, x, batch_size, verbose, steps, callbacks, max_queue_size, workers, use_multiprocessing)\u001b[0m\n\u001b[1;32m   1642\u001b[0m             \u001b[0mcallbacks\u001b[0m\u001b[0;34m.\u001b[0m\u001b[0mon_predict_batch_end\u001b[0m\u001b[0;34m(\u001b[0m\u001b[0mend_step\u001b[0m\u001b[0;34m,\u001b[0m \u001b[0;34m{\u001b[0m\u001b[0;34m'outputs'\u001b[0m\u001b[0;34m:\u001b[0m \u001b[0mbatch_outputs\u001b[0m\u001b[0;34m}\u001b[0m\u001b[0;34m)\u001b[0m\u001b[0;34m\u001b[0m\u001b[0;34m\u001b[0m\u001b[0m\n\u001b[1;32m   1643\u001b[0m       \u001b[0;32mif\u001b[0m \u001b[0mbatch_outputs\u001b[0m \u001b[0;32mis\u001b[0m \u001b[0;32mNone\u001b[0m\u001b[0;34m:\u001b[0m\u001b[0;34m\u001b[0m\u001b[0;34m\u001b[0m\u001b[0m\n\u001b[0;32m-> 1644\u001b[0;31m         \u001b[0;32mraise\u001b[0m \u001b[0mValueError\u001b[0m\u001b[0;34m(\u001b[0m\u001b[0;34m'Expect x to be a non-empty array or dataset.'\u001b[0m\u001b[0;34m)\u001b[0m\u001b[0;34m\u001b[0m\u001b[0;34m\u001b[0m\u001b[0m\n\u001b[0m\u001b[1;32m   1645\u001b[0m       \u001b[0mcallbacks\u001b[0m\u001b[0;34m.\u001b[0m\u001b[0mon_predict_end\u001b[0m\u001b[0;34m(\u001b[0m\u001b[0;34m)\u001b[0m\u001b[0;34m\u001b[0m\u001b[0;34m\u001b[0m\u001b[0m\n\u001b[1;32m   1646\u001b[0m     \u001b[0mall_outputs\u001b[0m \u001b[0;34m=\u001b[0m \u001b[0mnest\u001b[0m\u001b[0;34m.\u001b[0m\u001b[0mmap_structure_up_to\u001b[0m\u001b[0;34m(\u001b[0m\u001b[0mbatch_outputs\u001b[0m\u001b[0;34m,\u001b[0m \u001b[0mconcat\u001b[0m\u001b[0;34m,\u001b[0m \u001b[0moutputs\u001b[0m\u001b[0;34m)\u001b[0m\u001b[0;34m\u001b[0m\u001b[0;34m\u001b[0m\u001b[0m\n",
            "\u001b[0;31mValueError\u001b[0m: Expect x to be a non-empty array or dataset."
          ]
        }
      ]
    },
    {
      "cell_type": "code",
      "metadata": {
        "id": "2TSFG2nKdqOQ",
        "colab": {
          "base_uri": "https://localhost:8080/"
        },
        "outputId": "7e753649-97d5-4356-94dd-6b8f25fc14e1"
      },
      "source": [
        "# confusion matrix\n",
        "preds = model.predict(X_test)\n",
        "preds = np.argmax(preds, axis=-1)\n",
        "preds.shape"
      ],
      "execution_count": 31,
      "outputs": [
        {
          "output_type": "execute_result",
          "data": {
            "text/plain": [
              "(2,)"
            ]
          },
          "metadata": {
            "tags": []
          },
          "execution_count": 31
        }
      ]
    },
    {
      "cell_type": "code",
      "metadata": {
        "id": "RRzUor4MeCEX",
        "colab": {
          "base_uri": "https://localhost:8080/"
        },
        "outputId": "cee00df2-cb40-43ee-d684-fb6bafc8d2c4"
      },
      "source": [
        "from sklearn.metrics import confusion_matrix, classification_report\n",
        "y_true = np.argmax(y_test, axis=-1)\n",
        "print(confusion_matrix(y_true, preds))\n",
        "print(classification_report(y_true, preds))\n",
        "# row: y_true, col: y_pred"
      ],
      "execution_count": 32,
      "outputs": [
        {
          "output_type": "stream",
          "text": [
            "[[0 0 0]\n",
            " [1 0 0]\n",
            " [1 0 0]]\n",
            "              precision    recall  f1-score   support\n",
            "\n",
            "           0       0.00      0.00      0.00       0.0\n",
            "           2       0.00      0.00      0.00       1.0\n",
            "           5       0.00      0.00      0.00       1.0\n",
            "\n",
            "    accuracy                           0.00       2.0\n",
            "   macro avg       0.00      0.00      0.00       2.0\n",
            "weighted avg       0.00      0.00      0.00       2.0\n",
            "\n"
          ],
          "name": "stdout"
        },
        {
          "output_type": "stream",
          "text": [
            "/usr/local/lib/python3.6/dist-packages/sklearn/metrics/_classification.py:1272: UndefinedMetricWarning: Precision and F-score are ill-defined and being set to 0.0 in labels with no predicted samples. Use `zero_division` parameter to control this behavior.\n",
            "  _warn_prf(average, modifier, msg_start, len(result))\n",
            "/usr/local/lib/python3.6/dist-packages/sklearn/metrics/_classification.py:1272: UndefinedMetricWarning: Recall and F-score are ill-defined and being set to 0.0 in labels with no true samples. Use `zero_division` parameter to control this behavior.\n",
            "  _warn_prf(average, modifier, msg_start, len(result))\n"
          ],
          "name": "stderr"
        }
      ]
    },
    {
      "cell_type": "code",
      "metadata": {
        "id": "8JK3wajlC4w0"
      },
      "source": [
        "#TODO : 3->1"
      ],
      "execution_count": 33,
      "outputs": []
    },
    {
      "cell_type": "code",
      "metadata": {
        "id": "0hzsJPLWwMp_"
      },
      "source": [
        "model.save('/content/drive/My Drive/my_model.h5')\n",
        "del model\n",
        "model2 = load_model('/content/drive/My Drive/my_model.h5')"
      ],
      "execution_count": 34,
      "outputs": []
    },
    {
      "cell_type": "code",
      "metadata": {
        "id": "RTvKn3Mfw-Iy"
      },
      "source": [
        "# save and load weights\n",
        "model2.save_weights('/content/drive/My Drive/my_model_weights.h5')\n",
        "\n",
        "model2.load_weights('/content/drive/My Drive/my_model_weights.h5')"
      ],
      "execution_count": 35,
      "outputs": []
    },
    {
      "cell_type": "code",
      "metadata": {
        "id": "j4cadIhtrDub"
      },
      "source": [
        ""
      ],
      "execution_count": 35,
      "outputs": []
    }
  ]
}
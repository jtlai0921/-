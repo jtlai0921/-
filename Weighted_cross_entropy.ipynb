{
  "nbformat": 4,
  "nbformat_minor": 0,
  "metadata": {
    "colab": {
      "name": "Weighted cross entropy.ipynb",
      "provenance": [],
      "collapsed_sections": [
        "pLuQ4rruA7M9"
      ],
      "include_colab_link": true
    },
    "kernelspec": {
      "name": "python3",
      "display_name": "Python 3"
    }
  },
  "cells": [
    {
      "cell_type": "markdown",
      "metadata": {
        "id": "view-in-github",
        "colab_type": "text"
      },
      "source": [
        "<a href=\"https://colab.research.google.com/github/jtlai0921/-/blob/master/Weighted_cross_entropy.ipynb\" target=\"_parent\"><img src=\"https://colab.research.google.com/assets/colab-badge.svg\" alt=\"Open In Colab\"/></a>"
      ]
    },
    {
      "cell_type": "code",
      "metadata": {
        "id": "wl2b5iTg6EMF"
      },
      "source": [
        "import numpy as np\n",
        "import tensorflow as tf\n",
        "from tensorflow import keras\n",
        "import keras.backend as K"
      ],
      "execution_count": 1,
      "outputs": []
    },
    {
      "cell_type": "markdown",
      "metadata": {
        "id": "z6haw0db_HfG"
      },
      "source": [
        "## Binary Crossentropy\n",
        "\n",
        "![HlYNr.png](data:image/png;base64,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)"
      ]
    },
    {
      "cell_type": "code",
      "metadata": {
        "colab": {
          "base_uri": "https://localhost:8080/"
        },
        "id": "00b9ZzvDpeDe",
        "outputId": "b4b3551f-1164-4131-bf92-cde466ea4c5a"
      },
      "source": [
        "# make data\n",
        "size = 2\n",
        "prediction = np.random.uniform(low=0, high=1, size=(size))\n",
        "target = np.random.randint(low=0, high=2, size=(size)).astype(float)\n",
        "\n",
        "prediction, target\n",
        "print('pred: \\n', prediction)\n",
        "print('target: \\n', target)"
      ],
      "execution_count": 2,
      "outputs": [
        {
          "output_type": "stream",
          "text": [
            "pred: \n",
            " [0.79895544 0.87413148]\n",
            "target: \n",
            " [1. 0.]\n"
          ],
          "name": "stdout"
        }
      ]
    },
    {
      "cell_type": "code",
      "metadata": {
        "colab": {
          "base_uri": "https://localhost:8080/"
        },
        "id": "KL7DKTwb6YMy",
        "outputId": "3cb24d2e-32ac-4d64-e65a-8665604ea8eb"
      },
      "source": [
        "# Binary Crossentropy from Keras\n",
        "binary_loss = keras.losses.binary_crossentropy(target, prediction)\n",
        "binary_loss"
      ],
      "execution_count": 3,
      "outputs": [
        {
          "output_type": "execute_result",
          "data": {
            "text/plain": [
              "<tf.Tensor: shape=(), dtype=float64, numpy=1.1484832907436702>"
            ]
          },
          "metadata": {
            "tags": []
          },
          "execution_count": 3
        }
      ]
    },
    {
      "cell_type": "code",
      "metadata": {
        "colab": {
          "base_uri": "https://localhost:8080/"
        },
        "id": "enJgf9kH7MLg",
        "outputId": "69e92fc0-a72d-4a43-f9f5-6288b72571bb"
      },
      "source": [
        "# Binary Crossentropy from Scratch\n",
        "def binary_crossentropy(y_target, y_pred):\n",
        "    loss = y_target * tf.math.log(y_pred + K.epsilon())\n",
        "    loss += (1-y_target) * tf.math.log(1 - y_pred + K.epsilon())\n",
        "    return tf.math.reduce_mean(-loss) \n",
        "\n",
        "binary_crossentropy(target, prediction)"
      ],
      "execution_count": 4,
      "outputs": [
        {
          "output_type": "execute_result",
          "data": {
            "text/plain": [
              "<tf.Tensor: shape=(), dtype=float64, numpy=1.1484832907436702>"
            ]
          },
          "metadata": {
            "tags": []
          },
          "execution_count": 4
        }
      ]
    },
    {
      "cell_type": "code",
      "metadata": {
        "colab": {
          "base_uri": "https://localhost:8080/"
        },
        "id": "A2pvC-IN8nyP",
        "outputId": "6e6d8929-bee9-481d-eca9-039a27f8b1f2"
      },
      "source": [
        "# Weighted Binary Crossentropy\n",
        "def binary_crossentropy_weight(y_target, y_pred):\n",
        "    positive_weight = 2\n",
        "    negative_weight = 1\n",
        "    loss = y_target * tf.math.log(y_pred + K.epsilon()) * positive_weight\n",
        "    loss += (1-y_target) * tf.math.log(1 - y_pred + K.epsilon()) * negative_weight\n",
        "    return tf.math.reduce_mean(-loss) \n",
        "\n",
        "binary_crossentropy_weight(target, prediction)"
      ],
      "execution_count": 5,
      "outputs": [
        {
          "output_type": "execute_result",
          "data": {
            "text/plain": [
              "<tf.Tensor: shape=(), dtype=float64, numpy=1.2607082780648196>"
            ]
          },
          "metadata": {
            "tags": []
          },
          "execution_count": 5
        }
      ]
    },
    {
      "cell_type": "code",
      "metadata": {
        "colab": {
          "base_uri": "https://localhost:8080/"
        },
        "id": "4zR7mNfHlu9J",
        "outputId": "bbb9d6ca-2d49-4207-af9e-eab88e2cb448"
      },
      "source": [
        "# create model\n",
        "model = keras.models.Sequential([\n",
        "    keras.layers.Input((32,32,3)),\n",
        "    keras.layers.Conv2D(16, 3),\n",
        "    keras.layers.GlobalAveragePooling2D(),\n",
        "    keras.layers.Dense(1, activation='sigmoid')\n",
        "])\n",
        "model.summary()"
      ],
      "execution_count": 6,
      "outputs": [
        {
          "output_type": "stream",
          "text": [
            "Model: \"sequential\"\n",
            "_________________________________________________________________\n",
            "Layer (type)                 Output Shape              Param #   \n",
            "=================================================================\n",
            "conv2d (Conv2D)              (None, 30, 30, 16)        448       \n",
            "_________________________________________________________________\n",
            "global_average_pooling2d (Gl (None, 16)                0         \n",
            "_________________________________________________________________\n",
            "dense (Dense)                (None, 1)                 17        \n",
            "=================================================================\n",
            "Total params: 465\n",
            "Trainable params: 465\n",
            "Non-trainable params: 0\n",
            "_________________________________________________________________\n"
          ],
          "name": "stdout"
        }
      ]
    },
    {
      "cell_type": "code",
      "metadata": {
        "id": "ZOfsNZYzmQgX"
      },
      "source": [
        "# use customized loss function\n",
        "model.compile(optimizer='adam', loss=binary_crossentropy_weight)"
      ],
      "execution_count": 7,
      "outputs": []
    },
    {
      "cell_type": "markdown",
      "metadata": {
        "id": "pLuQ4rruA7M9"
      },
      "source": [
        "## Categorical Crossentropy\n",
        "\n",
        "![cce.png](data:image/png;base64,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)"
      ]
    },
    {
      "cell_type": "code",
      "metadata": {
        "colab": {
          "base_uri": "https://localhost:8080/"
        },
        "id": "-Nb6jaT4FN-o",
        "outputId": "1743f3b9-90e4-48ad-f41a-02a55ae0bf7c"
      },
      "source": [
        "# make data\n",
        "size = 2\n",
        "prediction = np.random.uniform(low=0, high=1, size=(size, 3))\n",
        "prediction = prediction / np.sum(prediction, axis=-1, keepdims=True)\n",
        "target = np.random.randint(0, high=3, size=(size))\n",
        "target = keras.utils.to_categorical(target, num_classes=3).astype(float)\n",
        "\n",
        "print('pred: \\n', prediction)\n",
        "print('target: \\n', target)"
      ],
      "execution_count": 8,
      "outputs": [
        {
          "output_type": "stream",
          "text": [
            "pred: \n",
            " [[0.55752377 0.28008242 0.16239381]\n",
            " [0.07576319 0.51691558 0.40732123]]\n",
            "target: \n",
            " [[0. 0. 1.]\n",
            " [0. 1. 0.]]\n"
          ],
          "name": "stdout"
        }
      ]
    },
    {
      "cell_type": "code",
      "metadata": {
        "colab": {
          "base_uri": "https://localhost:8080/"
        },
        "id": "U4Zce-2WIA2B",
        "outputId": "33dac883-972a-43c8-c75b-91060964a096"
      },
      "source": [
        "# Categorical Crossentropy from Keras\n",
        "categorical_loss = keras.losses.categorical_crossentropy(target, prediction)\n",
        "categorical_loss"
      ],
      "execution_count": 9,
      "outputs": [
        {
          "output_type": "execute_result",
          "data": {
            "text/plain": [
              "<tf.Tensor: shape=(2,), dtype=float64, numpy=array([1.81773098, 0.6598757 ])>"
            ]
          },
          "metadata": {
            "tags": []
          },
          "execution_count": 9
        }
      ]
    },
    {
      "cell_type": "code",
      "metadata": {
        "colab": {
          "base_uri": "https://localhost:8080/"
        },
        "id": "VZdQ_RI7IN32",
        "outputId": "5378db1e-c65a-4d31-b7ff-f9e5ab60fcb5"
      },
      "source": [
        "# Categorical Crossentropy from Scratch\n",
        "def categorical_crossentropy(y_target, y_pred):\n",
        "    y_pred = tf.clip_by_value(y_pred, K.epsilon(), 1. - K.epsilon())\n",
        "    loss = y_target * tf.math.log(y_pred)\n",
        "    loss = tf.reduce_sum(loss, axis=-1)\n",
        "    return -loss\n",
        "\n",
        "categorical_crossentropy(target, prediction)"
      ],
      "execution_count": 10,
      "outputs": [
        {
          "output_type": "execute_result",
          "data": {
            "text/plain": [
              "<tf.Tensor: shape=(2,), dtype=float64, numpy=array([1.81773098, 0.6598757 ])>"
            ]
          },
          "metadata": {
            "tags": []
          },
          "execution_count": 10
        }
      ]
    },
    {
      "cell_type": "code",
      "metadata": {
        "colab": {
          "base_uri": "https://localhost:8080/"
        },
        "id": "UBH64ER_IXk0",
        "outputId": "db0bca21-1832-45e8-b15d-806435affffa"
      },
      "source": [
        "# Weighted Categorical Crossentropy for 3 classes\n",
        "def categorical_crossentropy_weight(y_target, y_pred):\n",
        "    class_weight = [5., 0.5, 0.5]\n",
        "    y_pred = tf.clip_by_value(y_pred, K.epsilon(), 1. - K.epsilon())\n",
        "    loss = y_target * tf.math.log(y_pred) * class_weight\n",
        "    loss = tf.reduce_sum(loss, axis=-1)\n",
        "    return -loss\n",
        "\n",
        "categorical_crossentropy_weight(target, prediction)"
      ],
      "execution_count": 11,
      "outputs": [
        {
          "output_type": "execute_result",
          "data": {
            "text/plain": [
              "<tf.Tensor: shape=(2,), dtype=float64, numpy=array([0.90886549, 0.32993785])>"
            ]
          },
          "metadata": {
            "tags": []
          },
          "execution_count": 11
        }
      ]
    },
    {
      "cell_type": "code",
      "metadata": {
        "id": "PpLlgJlgJ-Ot",
        "colab": {
          "base_uri": "https://localhost:8080/"
        },
        "outputId": "f1a657c9-0acc-4b53-fee7-0935664611d8"
      },
      "source": [
        "# create model\n",
        "model = keras.models.Sequential([\n",
        "    keras.layers.Input((32,32,3)),\n",
        "    keras.layers.Conv2D(16, 3),\n",
        "    keras.layers.GlobalAveragePooling2D(),\n",
        "    keras.layers.Dense(3, activation='softmax')\n",
        "])\n",
        "model.summary()"
      ],
      "execution_count": 12,
      "outputs": [
        {
          "output_type": "stream",
          "text": [
            "Model: \"sequential_1\"\n",
            "_________________________________________________________________\n",
            "Layer (type)                 Output Shape              Param #   \n",
            "=================================================================\n",
            "conv2d_1 (Conv2D)            (None, 30, 30, 16)        448       \n",
            "_________________________________________________________________\n",
            "global_average_pooling2d_1 ( (None, 16)                0         \n",
            "_________________________________________________________________\n",
            "dense_1 (Dense)              (None, 3)                 51        \n",
            "=================================================================\n",
            "Total params: 499\n",
            "Trainable params: 499\n",
            "Non-trainable params: 0\n",
            "_________________________________________________________________\n"
          ],
          "name": "stdout"
        }
      ]
    },
    {
      "cell_type": "code",
      "metadata": {
        "id": "aKji6-H9mnoP"
      },
      "source": [
        "# use customized loss function\n",
        "model.compile(optimizer='adam', loss=categorical_crossentropy_weight)"
      ],
      "execution_count": 13,
      "outputs": []
    },
    {
      "cell_type": "code",
      "metadata": {
        "id": "U-pvofPWms3P"
      },
      "source": [
        ""
      ],
      "execution_count": 13,
      "outputs": []
    }
  ]
}
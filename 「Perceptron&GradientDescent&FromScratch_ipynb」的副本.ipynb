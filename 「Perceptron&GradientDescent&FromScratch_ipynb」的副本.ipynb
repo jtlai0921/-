{
  "nbformat": 4,
  "nbformat_minor": 0,
  "metadata": {
    "kernelspec": {
      "display_name": "Python 3",
      "language": "python",
      "name": "python3"
    },
    "language_info": {
      "codemirror_mode": {
        "name": "ipython",
        "version": 3
      },
      "file_extension": ".py",
      "mimetype": "text/x-python",
      "name": "python",
      "nbconvert_exporter": "python",
      "pygments_lexer": "ipython3",
      "version": "3.6.4"
    },
    "colab": {
      "name": "「Perceptron&GradientDescent&FromScratch.ipynb」的副本",
      "provenance": [],
      "include_colab_link": true
    }
  },
  "cells": [
    {
      "cell_type": "markdown",
      "metadata": {
        "id": "view-in-github",
        "colab_type": "text"
      },
      "source": [
        "<a href=\"https://colab.research.google.com/github/jtlai0921/-/blob/master/%E3%80%8CPerceptron%26GradientDescent%26FromScratch_ipynb%E3%80%8D%E7%9A%84%E5%89%AF%E6%9C%AC.ipynb\" target=\"_parent\"><img src=\"https://colab.research.google.com/assets/colab-badge.svg\" alt=\"Open In Colab\"/></a>"
      ]
    },
    {
      "cell_type": "code",
      "metadata": {
        "id": "pch1cWg1Z84c"
      },
      "source": [
        "from sklearn.datasets import load_iris\n",
        "import pandas as pd\n",
        "import matplotlib.pyplot as plt\n",
        "import numpy as np"
      ],
      "execution_count": 1,
      "outputs": []
    },
    {
      "cell_type": "code",
      "metadata": {
        "id": "u4tm3vSYZ84f",
        "colab": {
          "base_uri": "https://localhost:8080/"
        },
        "outputId": "0f9bdc16-f710-4a9f-82f7-fa917af3f9eb"
      },
      "source": [
        "iris = load_iris()\n",
        "iris.keys()"
      ],
      "execution_count": 2,
      "outputs": [
        {
          "output_type": "execute_result",
          "data": {
            "text/plain": [
              "dict_keys(['data', 'target', 'target_names', 'DESCR', 'feature_names', 'filename'])"
            ]
          },
          "metadata": {
            "tags": []
          },
          "execution_count": 2
        }
      ]
    },
    {
      "cell_type": "code",
      "metadata": {
        "id": "mC-aKeJCZ84i",
        "colab": {
          "base_uri": "https://localhost:8080/"
        },
        "outputId": "c3237f18-bc2f-415b-c128-dc0f62e971dd"
      },
      "source": [
        "iris.feature_names"
      ],
      "execution_count": 3,
      "outputs": [
        {
          "output_type": "execute_result",
          "data": {
            "text/plain": [
              "['sepal length (cm)',\n",
              " 'sepal width (cm)',\n",
              " 'petal length (cm)',\n",
              " 'petal width (cm)']"
            ]
          },
          "metadata": {
            "tags": []
          },
          "execution_count": 3
        }
      ]
    },
    {
      "cell_type": "code",
      "metadata": {
        "id": "D7bnZVcRZ84l",
        "colab": {
          "base_uri": "https://localhost:8080/"
        },
        "outputId": "815ecdf9-1f19-4cd1-e441-8cc64d7bb71f"
      },
      "source": [
        "iris.target_names"
      ],
      "execution_count": 4,
      "outputs": [
        {
          "output_type": "execute_result",
          "data": {
            "text/plain": [
              "array(['setosa', 'versicolor', 'virginica'], dtype='<U10')"
            ]
          },
          "metadata": {
            "tags": []
          },
          "execution_count": 4
        }
      ]
    },
    {
      "cell_type": "code",
      "metadata": {
        "id": "gdNxLEuMZ84o",
        "colab": {
          "base_uri": "https://localhost:8080/"
        },
        "outputId": "e19b8dcc-fed9-4b2c-a97d-3b1859777c96"
      },
      "source": [
        "print(iris.DESCR)"
      ],
      "execution_count": 5,
      "outputs": [
        {
          "output_type": "stream",
          "text": [
            ".. _iris_dataset:\n",
            "\n",
            "Iris plants dataset\n",
            "--------------------\n",
            "\n",
            "**Data Set Characteristics:**\n",
            "\n",
            "    :Number of Instances: 150 (50 in each of three classes)\n",
            "    :Number of Attributes: 4 numeric, predictive attributes and the class\n",
            "    :Attribute Information:\n",
            "        - sepal length in cm\n",
            "        - sepal width in cm\n",
            "        - petal length in cm\n",
            "        - petal width in cm\n",
            "        - class:\n",
            "                - Iris-Setosa\n",
            "                - Iris-Versicolour\n",
            "                - Iris-Virginica\n",
            "                \n",
            "    :Summary Statistics:\n",
            "\n",
            "    ============== ==== ==== ======= ===== ====================\n",
            "                    Min  Max   Mean    SD   Class Correlation\n",
            "    ============== ==== ==== ======= ===== ====================\n",
            "    sepal length:   4.3  7.9   5.84   0.83    0.7826\n",
            "    sepal width:    2.0  4.4   3.05   0.43   -0.4194\n",
            "    petal length:   1.0  6.9   3.76   1.76    0.9490  (high!)\n",
            "    petal width:    0.1  2.5   1.20   0.76    0.9565  (high!)\n",
            "    ============== ==== ==== ======= ===== ====================\n",
            "\n",
            "    :Missing Attribute Values: None\n",
            "    :Class Distribution: 33.3% for each of 3 classes.\n",
            "    :Creator: R.A. Fisher\n",
            "    :Donor: Michael Marshall (MARSHALL%PLU@io.arc.nasa.gov)\n",
            "    :Date: July, 1988\n",
            "\n",
            "The famous Iris database, first used by Sir R.A. Fisher. The dataset is taken\n",
            "from Fisher's paper. Note that it's the same as in R, but not as in the UCI\n",
            "Machine Learning Repository, which has two wrong data points.\n",
            "\n",
            "This is perhaps the best known database to be found in the\n",
            "pattern recognition literature.  Fisher's paper is a classic in the field and\n",
            "is referenced frequently to this day.  (See Duda & Hart, for example.)  The\n",
            "data set contains 3 classes of 50 instances each, where each class refers to a\n",
            "type of iris plant.  One class is linearly separable from the other 2; the\n",
            "latter are NOT linearly separable from each other.\n",
            "\n",
            ".. topic:: References\n",
            "\n",
            "   - Fisher, R.A. \"The use of multiple measurements in taxonomic problems\"\n",
            "     Annual Eugenics, 7, Part II, 179-188 (1936); also in \"Contributions to\n",
            "     Mathematical Statistics\" (John Wiley, NY, 1950).\n",
            "   - Duda, R.O., & Hart, P.E. (1973) Pattern Classification and Scene Analysis.\n",
            "     (Q327.D83) John Wiley & Sons.  ISBN 0-471-22361-1.  See page 218.\n",
            "   - Dasarathy, B.V. (1980) \"Nosing Around the Neighborhood: A New System\n",
            "     Structure and Classification Rule for Recognition in Partially Exposed\n",
            "     Environments\".  IEEE Transactions on Pattern Analysis and Machine\n",
            "     Intelligence, Vol. PAMI-2, No. 1, 67-71.\n",
            "   - Gates, G.W. (1972) \"The Reduced Nearest Neighbor Rule\".  IEEE Transactions\n",
            "     on Information Theory, May 1972, 431-433.\n",
            "   - See also: 1988 MLC Proceedings, 54-64.  Cheeseman et al\"s AUTOCLASS II\n",
            "     conceptual clustering system finds 3 classes in the data.\n",
            "   - Many, many more ...\n"
          ],
          "name": "stdout"
        }
      ]
    },
    {
      "cell_type": "code",
      "metadata": {
        "scrolled": true,
        "id": "bzJSCtNNZ84q",
        "colab": {
          "base_uri": "https://localhost:8080/"
        },
        "outputId": "83b6618e-17eb-4b93-bf90-ce40584d241f"
      },
      "source": [
        "print(iris.data.shape)\n",
        "iris.data"
      ],
      "execution_count": 6,
      "outputs": [
        {
          "output_type": "stream",
          "text": [
            "(150, 4)\n"
          ],
          "name": "stdout"
        },
        {
          "output_type": "execute_result",
          "data": {
            "text/plain": [
              "array([[5.1, 3.5, 1.4, 0.2],\n",
              "       [4.9, 3. , 1.4, 0.2],\n",
              "       [4.7, 3.2, 1.3, 0.2],\n",
              "       [4.6, 3.1, 1.5, 0.2],\n",
              "       [5. , 3.6, 1.4, 0.2],\n",
              "       [5.4, 3.9, 1.7, 0.4],\n",
              "       [4.6, 3.4, 1.4, 0.3],\n",
              "       [5. , 3.4, 1.5, 0.2],\n",
              "       [4.4, 2.9, 1.4, 0.2],\n",
              "       [4.9, 3.1, 1.5, 0.1],\n",
              "       [5.4, 3.7, 1.5, 0.2],\n",
              "       [4.8, 3.4, 1.6, 0.2],\n",
              "       [4.8, 3. , 1.4, 0.1],\n",
              "       [4.3, 3. , 1.1, 0.1],\n",
              "       [5.8, 4. , 1.2, 0.2],\n",
              "       [5.7, 4.4, 1.5, 0.4],\n",
              "       [5.4, 3.9, 1.3, 0.4],\n",
              "       [5.1, 3.5, 1.4, 0.3],\n",
              "       [5.7, 3.8, 1.7, 0.3],\n",
              "       [5.1, 3.8, 1.5, 0.3],\n",
              "       [5.4, 3.4, 1.7, 0.2],\n",
              "       [5.1, 3.7, 1.5, 0.4],\n",
              "       [4.6, 3.6, 1. , 0.2],\n",
              "       [5.1, 3.3, 1.7, 0.5],\n",
              "       [4.8, 3.4, 1.9, 0.2],\n",
              "       [5. , 3. , 1.6, 0.2],\n",
              "       [5. , 3.4, 1.6, 0.4],\n",
              "       [5.2, 3.5, 1.5, 0.2],\n",
              "       [5.2, 3.4, 1.4, 0.2],\n",
              "       [4.7, 3.2, 1.6, 0.2],\n",
              "       [4.8, 3.1, 1.6, 0.2],\n",
              "       [5.4, 3.4, 1.5, 0.4],\n",
              "       [5.2, 4.1, 1.5, 0.1],\n",
              "       [5.5, 4.2, 1.4, 0.2],\n",
              "       [4.9, 3.1, 1.5, 0.2],\n",
              "       [5. , 3.2, 1.2, 0.2],\n",
              "       [5.5, 3.5, 1.3, 0.2],\n",
              "       [4.9, 3.6, 1.4, 0.1],\n",
              "       [4.4, 3. , 1.3, 0.2],\n",
              "       [5.1, 3.4, 1.5, 0.2],\n",
              "       [5. , 3.5, 1.3, 0.3],\n",
              "       [4.5, 2.3, 1.3, 0.3],\n",
              "       [4.4, 3.2, 1.3, 0.2],\n",
              "       [5. , 3.5, 1.6, 0.6],\n",
              "       [5.1, 3.8, 1.9, 0.4],\n",
              "       [4.8, 3. , 1.4, 0.3],\n",
              "       [5.1, 3.8, 1.6, 0.2],\n",
              "       [4.6, 3.2, 1.4, 0.2],\n",
              "       [5.3, 3.7, 1.5, 0.2],\n",
              "       [5. , 3.3, 1.4, 0.2],\n",
              "       [7. , 3.2, 4.7, 1.4],\n",
              "       [6.4, 3.2, 4.5, 1.5],\n",
              "       [6.9, 3.1, 4.9, 1.5],\n",
              "       [5.5, 2.3, 4. , 1.3],\n",
              "       [6.5, 2.8, 4.6, 1.5],\n",
              "       [5.7, 2.8, 4.5, 1.3],\n",
              "       [6.3, 3.3, 4.7, 1.6],\n",
              "       [4.9, 2.4, 3.3, 1. ],\n",
              "       [6.6, 2.9, 4.6, 1.3],\n",
              "       [5.2, 2.7, 3.9, 1.4],\n",
              "       [5. , 2. , 3.5, 1. ],\n",
              "       [5.9, 3. , 4.2, 1.5],\n",
              "       [6. , 2.2, 4. , 1. ],\n",
              "       [6.1, 2.9, 4.7, 1.4],\n",
              "       [5.6, 2.9, 3.6, 1.3],\n",
              "       [6.7, 3.1, 4.4, 1.4],\n",
              "       [5.6, 3. , 4.5, 1.5],\n",
              "       [5.8, 2.7, 4.1, 1. ],\n",
              "       [6.2, 2.2, 4.5, 1.5],\n",
              "       [5.6, 2.5, 3.9, 1.1],\n",
              "       [5.9, 3.2, 4.8, 1.8],\n",
              "       [6.1, 2.8, 4. , 1.3],\n",
              "       [6.3, 2.5, 4.9, 1.5],\n",
              "       [6.1, 2.8, 4.7, 1.2],\n",
              "       [6.4, 2.9, 4.3, 1.3],\n",
              "       [6.6, 3. , 4.4, 1.4],\n",
              "       [6.8, 2.8, 4.8, 1.4],\n",
              "       [6.7, 3. , 5. , 1.7],\n",
              "       [6. , 2.9, 4.5, 1.5],\n",
              "       [5.7, 2.6, 3.5, 1. ],\n",
              "       [5.5, 2.4, 3.8, 1.1],\n",
              "       [5.5, 2.4, 3.7, 1. ],\n",
              "       [5.8, 2.7, 3.9, 1.2],\n",
              "       [6. , 2.7, 5.1, 1.6],\n",
              "       [5.4, 3. , 4.5, 1.5],\n",
              "       [6. , 3.4, 4.5, 1.6],\n",
              "       [6.7, 3.1, 4.7, 1.5],\n",
              "       [6.3, 2.3, 4.4, 1.3],\n",
              "       [5.6, 3. , 4.1, 1.3],\n",
              "       [5.5, 2.5, 4. , 1.3],\n",
              "       [5.5, 2.6, 4.4, 1.2],\n",
              "       [6.1, 3. , 4.6, 1.4],\n",
              "       [5.8, 2.6, 4. , 1.2],\n",
              "       [5. , 2.3, 3.3, 1. ],\n",
              "       [5.6, 2.7, 4.2, 1.3],\n",
              "       [5.7, 3. , 4.2, 1.2],\n",
              "       [5.7, 2.9, 4.2, 1.3],\n",
              "       [6.2, 2.9, 4.3, 1.3],\n",
              "       [5.1, 2.5, 3. , 1.1],\n",
              "       [5.7, 2.8, 4.1, 1.3],\n",
              "       [6.3, 3.3, 6. , 2.5],\n",
              "       [5.8, 2.7, 5.1, 1.9],\n",
              "       [7.1, 3. , 5.9, 2.1],\n",
              "       [6.3, 2.9, 5.6, 1.8],\n",
              "       [6.5, 3. , 5.8, 2.2],\n",
              "       [7.6, 3. , 6.6, 2.1],\n",
              "       [4.9, 2.5, 4.5, 1.7],\n",
              "       [7.3, 2.9, 6.3, 1.8],\n",
              "       [6.7, 2.5, 5.8, 1.8],\n",
              "       [7.2, 3.6, 6.1, 2.5],\n",
              "       [6.5, 3.2, 5.1, 2. ],\n",
              "       [6.4, 2.7, 5.3, 1.9],\n",
              "       [6.8, 3. , 5.5, 2.1],\n",
              "       [5.7, 2.5, 5. , 2. ],\n",
              "       [5.8, 2.8, 5.1, 2.4],\n",
              "       [6.4, 3.2, 5.3, 2.3],\n",
              "       [6.5, 3. , 5.5, 1.8],\n",
              "       [7.7, 3.8, 6.7, 2.2],\n",
              "       [7.7, 2.6, 6.9, 2.3],\n",
              "       [6. , 2.2, 5. , 1.5],\n",
              "       [6.9, 3.2, 5.7, 2.3],\n",
              "       [5.6, 2.8, 4.9, 2. ],\n",
              "       [7.7, 2.8, 6.7, 2. ],\n",
              "       [6.3, 2.7, 4.9, 1.8],\n",
              "       [6.7, 3.3, 5.7, 2.1],\n",
              "       [7.2, 3.2, 6. , 1.8],\n",
              "       [6.2, 2.8, 4.8, 1.8],\n",
              "       [6.1, 3. , 4.9, 1.8],\n",
              "       [6.4, 2.8, 5.6, 2.1],\n",
              "       [7.2, 3. , 5.8, 1.6],\n",
              "       [7.4, 2.8, 6.1, 1.9],\n",
              "       [7.9, 3.8, 6.4, 2. ],\n",
              "       [6.4, 2.8, 5.6, 2.2],\n",
              "       [6.3, 2.8, 5.1, 1.5],\n",
              "       [6.1, 2.6, 5.6, 1.4],\n",
              "       [7.7, 3. , 6.1, 2.3],\n",
              "       [6.3, 3.4, 5.6, 2.4],\n",
              "       [6.4, 3.1, 5.5, 1.8],\n",
              "       [6. , 3. , 4.8, 1.8],\n",
              "       [6.9, 3.1, 5.4, 2.1],\n",
              "       [6.7, 3.1, 5.6, 2.4],\n",
              "       [6.9, 3.1, 5.1, 2.3],\n",
              "       [5.8, 2.7, 5.1, 1.9],\n",
              "       [6.8, 3.2, 5.9, 2.3],\n",
              "       [6.7, 3.3, 5.7, 2.5],\n",
              "       [6.7, 3. , 5.2, 2.3],\n",
              "       [6.3, 2.5, 5. , 1.9],\n",
              "       [6.5, 3. , 5.2, 2. ],\n",
              "       [6.2, 3.4, 5.4, 2.3],\n",
              "       [5.9, 3. , 5.1, 1.8]])"
            ]
          },
          "metadata": {
            "tags": []
          },
          "execution_count": 6
        }
      ]
    },
    {
      "cell_type": "code",
      "metadata": {
        "id": "lfu37iAtZ84s",
        "colab": {
          "base_uri": "https://localhost:8080/"
        },
        "outputId": "347b4419-c5b5-4eef-acc2-44bb3f0a050f"
      },
      "source": [
        "print(iris.target.shape)\n",
        "print(iris.target)"
      ],
      "execution_count": 7,
      "outputs": [
        {
          "output_type": "stream",
          "text": [
            "(150,)\n",
            "[0 0 0 0 0 0 0 0 0 0 0 0 0 0 0 0 0 0 0 0 0 0 0 0 0 0 0 0 0 0 0 0 0 0 0 0 0\n",
            " 0 0 0 0 0 0 0 0 0 0 0 0 0 1 1 1 1 1 1 1 1 1 1 1 1 1 1 1 1 1 1 1 1 1 1 1 1\n",
            " 1 1 1 1 1 1 1 1 1 1 1 1 1 1 1 1 1 1 1 1 1 1 1 1 1 1 2 2 2 2 2 2 2 2 2 2 2\n",
            " 2 2 2 2 2 2 2 2 2 2 2 2 2 2 2 2 2 2 2 2 2 2 2 2 2 2 2 2 2 2 2 2 2 2 2 2 2\n",
            " 2 2]\n"
          ],
          "name": "stdout"
        }
      ]
    },
    {
      "cell_type": "code",
      "metadata": {
        "id": "L6D31EpSZ84u",
        "colab": {
          "base_uri": "https://localhost:8080/",
          "height": 204
        },
        "outputId": "c87e58f0-05eb-4c12-d99d-de88caa4ff1a"
      },
      "source": [
        "df = pd.DataFrame(iris.data, columns=['sepal_length', 'sepal_width', 'petal_length', 'petal_width'])\n",
        "df['species'] = iris.target\n",
        "df.head()"
      ],
      "execution_count": 8,
      "outputs": [
        {
          "output_type": "execute_result",
          "data": {
            "text/html": [
              "<div>\n",
              "<style scoped>\n",
              "    .dataframe tbody tr th:only-of-type {\n",
              "        vertical-align: middle;\n",
              "    }\n",
              "\n",
              "    .dataframe tbody tr th {\n",
              "        vertical-align: top;\n",
              "    }\n",
              "\n",
              "    .dataframe thead th {\n",
              "        text-align: right;\n",
              "    }\n",
              "</style>\n",
              "<table border=\"1\" class=\"dataframe\">\n",
              "  <thead>\n",
              "    <tr style=\"text-align: right;\">\n",
              "      <th></th>\n",
              "      <th>sepal_length</th>\n",
              "      <th>sepal_width</th>\n",
              "      <th>petal_length</th>\n",
              "      <th>petal_width</th>\n",
              "      <th>species</th>\n",
              "    </tr>\n",
              "  </thead>\n",
              "  <tbody>\n",
              "    <tr>\n",
              "      <th>0</th>\n",
              "      <td>5.1</td>\n",
              "      <td>3.5</td>\n",
              "      <td>1.4</td>\n",
              "      <td>0.2</td>\n",
              "      <td>0</td>\n",
              "    </tr>\n",
              "    <tr>\n",
              "      <th>1</th>\n",
              "      <td>4.9</td>\n",
              "      <td>3.0</td>\n",
              "      <td>1.4</td>\n",
              "      <td>0.2</td>\n",
              "      <td>0</td>\n",
              "    </tr>\n",
              "    <tr>\n",
              "      <th>2</th>\n",
              "      <td>4.7</td>\n",
              "      <td>3.2</td>\n",
              "      <td>1.3</td>\n",
              "      <td>0.2</td>\n",
              "      <td>0</td>\n",
              "    </tr>\n",
              "    <tr>\n",
              "      <th>3</th>\n",
              "      <td>4.6</td>\n",
              "      <td>3.1</td>\n",
              "      <td>1.5</td>\n",
              "      <td>0.2</td>\n",
              "      <td>0</td>\n",
              "    </tr>\n",
              "    <tr>\n",
              "      <th>4</th>\n",
              "      <td>5.0</td>\n",
              "      <td>3.6</td>\n",
              "      <td>1.4</td>\n",
              "      <td>0.2</td>\n",
              "      <td>0</td>\n",
              "    </tr>\n",
              "  </tbody>\n",
              "</table>\n",
              "</div>"
            ],
            "text/plain": [
              "   sepal_length  sepal_width  petal_length  petal_width  species\n",
              "0           5.1          3.5           1.4          0.2        0\n",
              "1           4.9          3.0           1.4          0.2        0\n",
              "2           4.7          3.2           1.3          0.2        0\n",
              "3           4.6          3.1           1.5          0.2        0\n",
              "4           5.0          3.6           1.4          0.2        0"
            ]
          },
          "metadata": {
            "tags": []
          },
          "execution_count": 8
        }
      ]
    },
    {
      "cell_type": "code",
      "metadata": {
        "scrolled": false,
        "id": "sb19K2RpZ84w",
        "colab": {
          "base_uri": "https://localhost:8080/",
          "height": 283
        },
        "outputId": "9faf2d2e-64e9-435e-a284-cf5db0dfecc3"
      },
      "source": [
        "df_0 = df[df['species'] == 2] # setosa\n",
        "df_1 = df[df['species'] == 1] # versicolour\n",
        "plt.scatter(df_0.petal_width, df_0.sepal_length)\n",
        "plt.scatter(df_1.petal_width, df_1.sepal_length)"
      ],
      "execution_count": 9,
      "outputs": [
        {
          "output_type": "execute_result",
          "data": {
            "text/plain": [
              "<matplotlib.collections.PathCollection at 0x7faa9e92ec88>"
            ]
          },
          "metadata": {
            "tags": []
          },
          "execution_count": 9
        },
        {
          "output_type": "display_data",
          "data": {
            "image/png": "[encoded data removed]",
            "text/plain": [
              "<Figure size 432x288 with 1 Axes>"
            ]
          },
          "metadata": {
            "tags": [],
            "needs_background": "light"
          }
        }
      ]
    },
    {
      "cell_type": "markdown",
      "metadata": {
        "id": "CPYWkqbQZ84y"
      },
      "source": [
        "### 練習時間\n",
        "\n",
        "### 畫圖\n",
        "1. setosa, virginica 的 petal_length, sepal_length散佈圖\n",
        "2. setosa, virginica 的 petal_length, petal_width 散佈圖\n",
        "3. 三種花的 petal_length, petal_width 散佈圖"
      ]
    },
    {
      "cell_type": "code",
      "metadata": {
        "id": "fLHBZSY-Z84z"
      },
      "source": [
        "# 練習\n",
        "# setosa:0, versicolour:1, virginica:2 "
      ],
      "execution_count": 10,
      "outputs": []
    },
    {
      "cell_type": "markdown",
      "metadata": {
        "id": "wxlrLyPnZ841"
      },
      "source": [
        "## Perceptron 感知器"
      ]
    },
    {
      "cell_type": "code",
      "metadata": {
        "id": "uaL6KQWuZ842"
      },
      "source": [
        "import numpy as np\n",
        "\n",
        "class Perceptron():\n",
        "    \"\"\"\n",
        "    learning_rate(學習率) : float (0.0 ~ 1.0)\n",
        "    n_iter (迭代數) : int\n",
        "    \"\"\"\n",
        "    def __init__(self, learning_rate=0.01, n_iter=10):\n",
        "        self.learning_rate = learning_rate\n",
        "        self.n_iter = n_iter\n",
        "        self.w_ = np.random.rand(1 + X.shape[1]) # 權重 [w0, w1, w2...]\n",
        "        \n",
        "    def predict(self, X):\n",
        "        # 預測輸入值 (1, -1)\n",
        "        net_input = np.dot(X, self.w_[1:]) + self.w_[0]\n",
        "        return np.where(net_input >= 0.0, 1, -1)\n",
        "    \n",
        "    def fit(self, X, y):\n",
        "        \"\"\"        \n",
        "        用訓練集資料X訓練預測y\n",
        "        X : shape = [資料筆數, 特徵數]\n",
        "        y : shape = [資料筆數]\n",
        "        \"\"\"\n",
        "        self.errors_ = [] # 分類錯誤數紀錄\n",
        "\n",
        "        for _ in range(self.n_iter):\n",
        "            errors = 0\n",
        "            for xi, target in zip(X, y):\n",
        "                update = self.learning_rate * (target - self.predict(xi))\n",
        "                self.w_[1:] += update * xi\n",
        "                self.w_[0] += update\n",
        "                if update != 0.0:\n",
        "                    errors += 1\n",
        "#                 errors += int(update != 0.0)\n",
        "            self.errors_.append(errors)"
      ],
      "execution_count": 11,
      "outputs": []
    },
    {
      "cell_type": "code",
      "metadata": {
        "id": "1w7qr28uZ843",
        "colab": {
          "base_uri": "https://localhost:8080/",
          "height": 282
        },
        "outputId": "006cae01-5ca2-4b8d-9879-1fd775689221"
      },
      "source": [
        "# prepare data\n",
        "df_data = df[(df.species == 2) | (df.species == 1)].sample(frac=1)\n",
        "X = df_data[['petal_width', 'sepal_length']].values\n",
        "y = np.where(df_data.species.values == 1, -1, 1)\n",
        "\n",
        "# train model\n",
        "ppn = Perceptron(learning_rate=0.01, n_iter=200)\n",
        "ppn.fit(X, y)\n",
        "\n",
        "# draw error logs\n",
        "plt.plot(range(1, len(ppn.errors_) + 1), ppn.errors_, marker='o')\n",
        "plt.xlabel('Epochs')\n",
        "plt.ylabel('Number of updates')\n",
        "plt.show()"
      ],
      "execution_count": 12,
      "outputs": [
        {
          "output_type": "display_data",
          "data": {
            "image/png": "[encoded data removed]",
            "text/plain": [
              "<Figure size 432x288 with 1 Axes>"
            ]
          },
          "metadata": {
            "tags": [],
            "needs_background": "light"
          }
        }
      ]
    },
    {
      "cell_type": "code",
      "metadata": {
        "id": "-ssEz2RGZ845"
      },
      "source": [
        "def plot_decision_regions(X, y, classifier, resolution=0.02):\n",
        "    x1_min, x1_max = X[:, 0].min() - 1, X[:, 0].max() + 1\n",
        "    x2_min, x2_max = X[:, 1].min() - 1, X[:, 1].max() + 1\n",
        "    xx1, xx2 = np.meshgrid(np.arange(x1_min, x1_max, resolution),\n",
        "                           np.arange(x2_min, x2_max, resolution))\n",
        "    Z = classifier.predict(np.array([xx1.ravel(), xx2.ravel()]).T)\n",
        "    Z = Z.reshape(xx1.shape)\n",
        "    plt.contourf(xx1, xx2, Z, alpha=0.4)\n",
        "    plt.xlim(xx1.min(), xx1.max())\n",
        "    plt.ylim(xx2.min(), xx2.max())\n",
        "\n",
        "    # plot class samples\n",
        "    for idx, cl in enumerate(np.unique(y)):\n",
        "        plt.scatter(x=X[y == cl, 0], y=X[y == cl, 1],\n",
        "                    alpha=0.8, \n",
        "                    edgecolor='black',\n",
        "                    label=cl)"
      ],
      "execution_count": 13,
      "outputs": []
    },
    {
      "cell_type": "code",
      "metadata": {
        "id": "Y4KnrT4OZ847",
        "colab": {
          "base_uri": "https://localhost:8080/",
          "height": 265
        },
        "outputId": "36233f06-6086-43f2-def9-62c99b9f43b4"
      },
      "source": [
        "plot_decision_regions(X, y, classifier=ppn)"
      ],
      "execution_count": 14,
      "outputs": [
        {
          "output_type": "display_data",
          "data": {
            "image/png": "[encoded data removed]",
            "text/plain": [
              "<Figure size 432x288 with 1 Axes>"
            ]
          },
          "metadata": {
            "tags": [],
            "needs_background": "light"
          }
        }
      ]
    },
    {
      "cell_type": "markdown",
      "metadata": {
        "id": "5iFgCRNbZ849"
      },
      "source": [
        "### 練習時間\n",
        "觀察不同的訓練資料與參數訓練的模型結果如何\n",
        "1. 使用不同的品種訓練(species = 0, 1, 2)\n",
        "2. 使用不同的特徵\n",
        "3. 調整learning_rate (每次調整10的倍數)"
      ]
    },
    {
      "cell_type": "markdown",
      "metadata": {
        "id": "l0VhkarLZ84-"
      },
      "source": [
        "### 練習時間: Activation function\n",
        "試著將step function, sigmoid, relu 畫在同一張圖 (<-5x<5)"
      ]
    },
    {
      "cell_type": "code",
      "metadata": {
        "id": "tu06aiE0Z84_",
        "colab": {
          "base_uri": "https://localhost:8080/",
          "height": 628
        },
        "outputId": "d5444513-4434-4e8d-8c86-829e17974831"
      },
      "source": [
        "import numpy as np\n",
        "import matplotlib.pyplot as plt\n",
        "\n",
        "def step_function(x):\n",
        "    # type here\n",
        "    return\n",
        "def sigmoid(x):\n",
        "    # type here\n",
        "    return\n",
        "def relu(x):\n",
        "    # type here\n",
        "    return\n",
        "\n",
        "x = np.arange(-5, 5, 0.1)\n",
        "plt.plot(x,step_function(x))\n",
        "plt.plot(x,sigmoid(x))\n",
        "plt.plot(x,relu(x))\n",
        "plt.show()"
      ],
      "execution_count": 16,
      "outputs": [
        {
          "output_type": "error",
          "ename": "ValueError",
          "evalue": "ignored",
          "traceback": [
            "\u001b[0;31m---------------------------------------------------------------------------\u001b[0m",
            "\u001b[0;31mValueError\u001b[0m                                Traceback (most recent call last)",
            "\u001b[0;32m<ipython-input-16-3feae0b91f45>\u001b[0m in \u001b[0;36m<module>\u001b[0;34m()\u001b[0m\n\u001b[1;32m     13\u001b[0m \u001b[0;34m\u001b[0m\u001b[0m\n\u001b[1;32m     14\u001b[0m \u001b[0mx\u001b[0m \u001b[0;34m=\u001b[0m \u001b[0mnp\u001b[0m\u001b[0;34m.\u001b[0m\u001b[0marange\u001b[0m\u001b[0;34m(\u001b[0m\u001b[0;34m-\u001b[0m\u001b[0;36m5\u001b[0m\u001b[0;34m,\u001b[0m \u001b[0;36m5\u001b[0m\u001b[0;34m,\u001b[0m \u001b[0;36m0.1\u001b[0m\u001b[0;34m)\u001b[0m\u001b[0;34m\u001b[0m\u001b[0;34m\u001b[0m\u001b[0m\n\u001b[0;32m---> 15\u001b[0;31m \u001b[0mplt\u001b[0m\u001b[0;34m.\u001b[0m\u001b[0mplot\u001b[0m\u001b[0;34m(\u001b[0m\u001b[0mx\u001b[0m\u001b[0;34m,\u001b[0m\u001b[0mstep_function\u001b[0m\u001b[0;34m(\u001b[0m\u001b[0mx\u001b[0m\u001b[0;34m)\u001b[0m\u001b[0;34m)\u001b[0m\u001b[0;34m\u001b[0m\u001b[0;34m\u001b[0m\u001b[0m\n\u001b[0m\u001b[1;32m     16\u001b[0m \u001b[0mplt\u001b[0m\u001b[0;34m.\u001b[0m\u001b[0mplot\u001b[0m\u001b[0;34m(\u001b[0m\u001b[0mx\u001b[0m\u001b[0;34m,\u001b[0m\u001b[0msigmoid\u001b[0m\u001b[0;34m(\u001b[0m\u001b[0mx\u001b[0m\u001b[0;34m)\u001b[0m\u001b[0;34m)\u001b[0m\u001b[0;34m\u001b[0m\u001b[0;34m\u001b[0m\u001b[0m\n\u001b[1;32m     17\u001b[0m \u001b[0mplt\u001b[0m\u001b[0;34m.\u001b[0m\u001b[0mplot\u001b[0m\u001b[0;34m(\u001b[0m\u001b[0mx\u001b[0m\u001b[0;34m,\u001b[0m\u001b[0mrelu\u001b[0m\u001b[0;34m(\u001b[0m\u001b[0mx\u001b[0m\u001b[0;34m)\u001b[0m\u001b[0;34m)\u001b[0m\u001b[0;34m\u001b[0m\u001b[0;34m\u001b[0m\u001b[0m\n",
            "\u001b[0;32m/usr/local/lib/python3.6/dist-packages/matplotlib/pyplot.py\u001b[0m in \u001b[0;36mplot\u001b[0;34m(scalex, scaley, data, *args, **kwargs)\u001b[0m\n\u001b[1;32m   2761\u001b[0m     return gca().plot(\n\u001b[1;32m   2762\u001b[0m         *args, scalex=scalex, scaley=scaley, **({\"data\": data} if data\n\u001b[0;32m-> 2763\u001b[0;31m         is not None else {}), **kwargs)\n\u001b[0m\u001b[1;32m   2764\u001b[0m \u001b[0;34m\u001b[0m\u001b[0m\n\u001b[1;32m   2765\u001b[0m \u001b[0;34m\u001b[0m\u001b[0m\n",
            "\u001b[0;32m/usr/local/lib/python3.6/dist-packages/matplotlib/axes/_axes.py\u001b[0m in \u001b[0;36mplot\u001b[0;34m(self, scalex, scaley, data, *args, **kwargs)\u001b[0m\n\u001b[1;32m   1645\u001b[0m         \"\"\"\n\u001b[1;32m   1646\u001b[0m         \u001b[0mkwargs\u001b[0m \u001b[0;34m=\u001b[0m \u001b[0mcbook\u001b[0m\u001b[0;34m.\u001b[0m\u001b[0mnormalize_kwargs\u001b[0m\u001b[0;34m(\u001b[0m\u001b[0mkwargs\u001b[0m\u001b[0;34m,\u001b[0m \u001b[0mmlines\u001b[0m\u001b[0;34m.\u001b[0m\u001b[0mLine2D\u001b[0m\u001b[0;34m)\u001b[0m\u001b[0;34m\u001b[0m\u001b[0;34m\u001b[0m\u001b[0m\n\u001b[0;32m-> 1647\u001b[0;31m         \u001b[0mlines\u001b[0m \u001b[0;34m=\u001b[0m \u001b[0;34m[\u001b[0m\u001b[0;34m*\u001b[0m\u001b[0mself\u001b[0m\u001b[0;34m.\u001b[0m\u001b[0m_get_lines\u001b[0m\u001b[0;34m(\u001b[0m\u001b[0;34m*\u001b[0m\u001b[0margs\u001b[0m\u001b[0;34m,\u001b[0m \u001b[0mdata\u001b[0m\u001b[0;34m=\u001b[0m\u001b[0mdata\u001b[0m\u001b[0;34m,\u001b[0m \u001b[0;34m**\u001b[0m\u001b[0mkwargs\u001b[0m\u001b[0;34m)\u001b[0m\u001b[0;34m]\u001b[0m\u001b[0;34m\u001b[0m\u001b[0;34m\u001b[0m\u001b[0m\n\u001b[0m\u001b[1;32m   1648\u001b[0m         \u001b[0;32mfor\u001b[0m \u001b[0mline\u001b[0m \u001b[0;32min\u001b[0m \u001b[0mlines\u001b[0m\u001b[0;34m:\u001b[0m\u001b[0;34m\u001b[0m\u001b[0;34m\u001b[0m\u001b[0m\n\u001b[1;32m   1649\u001b[0m             \u001b[0mself\u001b[0m\u001b[0;34m.\u001b[0m\u001b[0madd_line\u001b[0m\u001b[0;34m(\u001b[0m\u001b[0mline\u001b[0m\u001b[0;34m)\u001b[0m\u001b[0;34m\u001b[0m\u001b[0;34m\u001b[0m\u001b[0m\n",
            "\u001b[0;32m/usr/local/lib/python3.6/dist-packages/matplotlib/axes/_base.py\u001b[0m in \u001b[0;36m__call__\u001b[0;34m(self, *args, **kwargs)\u001b[0m\n\u001b[1;32m    214\u001b[0m                 \u001b[0mthis\u001b[0m \u001b[0;34m+=\u001b[0m \u001b[0margs\u001b[0m\u001b[0;34m[\u001b[0m\u001b[0;36m0\u001b[0m\u001b[0;34m]\u001b[0m\u001b[0;34m,\u001b[0m\u001b[0;34m\u001b[0m\u001b[0;34m\u001b[0m\u001b[0m\n\u001b[1;32m    215\u001b[0m                 \u001b[0margs\u001b[0m \u001b[0;34m=\u001b[0m \u001b[0margs\u001b[0m\u001b[0;34m[\u001b[0m\u001b[0;36m1\u001b[0m\u001b[0;34m:\u001b[0m\u001b[0;34m]\u001b[0m\u001b[0;34m\u001b[0m\u001b[0;34m\u001b[0m\u001b[0m\n\u001b[0;32m--> 216\u001b[0;31m             \u001b[0;32myield\u001b[0m \u001b[0;32mfrom\u001b[0m \u001b[0mself\u001b[0m\u001b[0;34m.\u001b[0m\u001b[0m_plot_args\u001b[0m\u001b[0;34m(\u001b[0m\u001b[0mthis\u001b[0m\u001b[0;34m,\u001b[0m \u001b[0mkwargs\u001b[0m\u001b[0;34m)\u001b[0m\u001b[0;34m\u001b[0m\u001b[0;34m\u001b[0m\u001b[0m\n\u001b[0m\u001b[1;32m    217\u001b[0m \u001b[0;34m\u001b[0m\u001b[0m\n\u001b[1;32m    218\u001b[0m     \u001b[0;32mdef\u001b[0m \u001b[0mget_next_color\u001b[0m\u001b[0;34m(\u001b[0m\u001b[0mself\u001b[0m\u001b[0;34m)\u001b[0m\u001b[0;34m:\u001b[0m\u001b[0;34m\u001b[0m\u001b[0;34m\u001b[0m\u001b[0m\n",
            "\u001b[0;32m/usr/local/lib/python3.6/dist-packages/matplotlib/axes/_base.py\u001b[0m in \u001b[0;36m_plot_args\u001b[0;34m(self, tup, kwargs)\u001b[0m\n\u001b[1;32m    320\u001b[0m         \u001b[0;31m# element array of None which causes problems downstream.\u001b[0m\u001b[0;34m\u001b[0m\u001b[0;34m\u001b[0m\u001b[0;34m\u001b[0m\u001b[0m\n\u001b[1;32m    321\u001b[0m         \u001b[0;32mif\u001b[0m \u001b[0many\u001b[0m\u001b[0;34m(\u001b[0m\u001b[0mv\u001b[0m \u001b[0;32mis\u001b[0m \u001b[0;32mNone\u001b[0m \u001b[0;32mfor\u001b[0m \u001b[0mv\u001b[0m \u001b[0;32min\u001b[0m \u001b[0mtup\u001b[0m\u001b[0;34m)\u001b[0m\u001b[0;34m:\u001b[0m\u001b[0;34m\u001b[0m\u001b[0;34m\u001b[0m\u001b[0m\n\u001b[0;32m--> 322\u001b[0;31m             \u001b[0;32mraise\u001b[0m \u001b[0mValueError\u001b[0m\u001b[0;34m(\u001b[0m\u001b[0;34m\"x, y, and format string must not be None\"\u001b[0m\u001b[0;34m)\u001b[0m\u001b[0;34m\u001b[0m\u001b[0;34m\u001b[0m\u001b[0m\n\u001b[0m\u001b[1;32m    323\u001b[0m \u001b[0;34m\u001b[0m\u001b[0m\n\u001b[1;32m    324\u001b[0m         \u001b[0mkw\u001b[0m \u001b[0;34m=\u001b[0m \u001b[0;34m{\u001b[0m\u001b[0;34m}\u001b[0m\u001b[0;34m\u001b[0m\u001b[0;34m\u001b[0m\u001b[0m\n",
            "\u001b[0;31mValueError\u001b[0m: x, y, and format string must not be None"
          ]
        },
        {
          "output_type": "display_data",
          "data": {
            "image/png": "[encoded data removed]",
            "text/plain": [
              "<Figure size 432x288 with 1 Axes>"
            ]
          },
          "metadata": {
            "tags": [],
            "needs_background": "light"
          }
        }
      ]
    },
    {
      "cell_type": "markdown",
      "metadata": {
        "id": "KEZIBL-RZ85V"
      },
      "source": [
        "## Gradient Descent 梯度下降\n",
        "### 微分公式：$ \\frac{df(x)}{dx} =\\lim\\limits_{h\\to 0} \\frac{(f(x+h) - f(x-h))}{2h} $\n",
        "### 梯度下降 : $ x = {x} - \\eta\\frac{df}{dx} $\n",
        "### 函數1 : $ {f(x)} = {x^2} + 2x + 1 $"
      ]
    },
    {
      "cell_type": "code",
      "metadata": {
        "scrolled": true,
        "id": "ZKhUSgQfZ85V",
        "colab": {
          "base_uri": "https://localhost:8080/",
          "height": 282
        },
        "outputId": "c602b7ee-27de-4b96-cf5c-1fc64d9aeaaf"
      },
      "source": [
        "import matplotlib.pyplot as plt\n",
        "def f(x):\n",
        "    return x**2 + 2*x + 1\n",
        "\n",
        "def derivative(x):\n",
        "    h = 1e-4\n",
        "    f_h1 = f(x+h)\n",
        "    f_h2 = f(x-h)\n",
        "    return (f_h1 - f_h2) / (2*h)\n",
        "\n",
        "log = []\n",
        "x = -3\n",
        "learning_rate = 0.1\n",
        "for i in range(20):\n",
        "    gradient = derivative(x)\n",
        "    x -= (learning_rate * gradient)\n",
        "    log.append(x)\n",
        "plt.plot(range(len(log)),log)\n",
        "plt.show()\n",
        "print(x)"
      ],
      "execution_count": 17,
      "outputs": [
        {
          "output_type": "display_data",
          "data": {
            "image/png": "[encoded data removed]",
            "text/plain": [
              "<Figure size 432x288 with 1 Axes>"
            ]
          },
          "metadata": {
            "tags": [],
            "needs_background": "light"
          }
        },
        {
          "output_type": "stream",
          "text": [
            "-1.0230584300920915\n"
          ],
          "name": "stdout"
        }
      ]
    },
    {
      "cell_type": "markdown",
      "metadata": {
        "id": "BIYtcBIpZ85d"
      },
      "source": [
        "## 手刻神經網路"
      ]
    },
    {
      "cell_type": "code",
      "metadata": {
        "id": "8BYFqGhBZ85e"
      },
      "source": [
        "import numpy as np\n",
        "import matplotlib.pyplot as plt\n",
        "class FCNN:\n",
        "\n",
        "    def __init__(self, input_size, hidden_size, output_size):\n",
        "        # weight initialization: 權重初始化\n",
        "        self.params = {}\n",
        "        self.params['W1'] = np.random.randn(input_size, hidden_size)\n",
        "        self.params['b1'] = np.zeros(hidden_size)\n",
        "        self.params['W2'] = np.random.randn(hidden_size, output_size)\n",
        "        self.params['b2'] = np.zeros(output_size)\n",
        "\n",
        "    def predict(self, x):\n",
        "        def sigmoid(x):\n",
        "            return 1 / (1 + np.exp(-x))\n",
        "        def softmax(x):\n",
        "            if x.ndim == 2:\n",
        "                x = x.T\n",
        "                x = x - np.max(x, axis=0)\n",
        "                y = np.exp(x) / np.sum(np.exp(x), axis=0)\n",
        "                return y.T \n",
        "            x = x - np.max(x)\n",
        "            return np.exp(x) / np.sum(np.exp(x))\n",
        "        \n",
        "        \n",
        "        W1, W2 = self.params['W1'], self.params['W2']\n",
        "        b1, b2 = self.params['b1'], self.params['b2']\n",
        "    \n",
        "        a1 = np.dot(x, W1) + b1\n",
        "        z1 = sigmoid(a1)\n",
        "        a2 = np.dot(z1, W2) + b2\n",
        "        y = softmax(a2)\n",
        "        \n",
        "        return y\n",
        "        \n",
        "    # x: input, t: target\n",
        "    def loss(self, x, t):\n",
        "        def cross_entropy_error(y, t):\n",
        "            if y.ndim == 1:\n",
        "                t = t.reshape(1, t.size)\n",
        "                y = y.reshape(1, y.size)\n",
        "            if t.size == y.size:\n",
        "                t = t.argmax(axis=1)\n",
        "            batch_size = y.shape[0]\n",
        "            return -np.sum(np.log(y[np.arange(batch_size), t] + 1e-7)) / batch_size\n",
        "        \n",
        "        return cross_entropy_error(self.predict(x), t)\n",
        "    \n",
        "    def accuracy(self, x, t):\n",
        "        y = self.predict(x)\n",
        "        y = np.argmax(y, axis=1)\n",
        "        t = np.argmax(t, axis=1)\n",
        "        \n",
        "        accuracy = np.sum(y == t) / float(x.shape[0])\n",
        "        return accuracy\n",
        "        \n",
        "    # x: input, t: target\n",
        "    def compute_gradient(self, x, t):\n",
        "        loss_W = lambda W: self.loss(x, t)\n",
        "        grads = {}\n",
        "        grads['W1'] = self.numerical_gradient(loss_W, self.params['W1'])\n",
        "        grads['b1'] = self.numerical_gradient(loss_W, self.params['b1'])\n",
        "        grads['W2'] = self.numerical_gradient(loss_W, self.params['W2'])\n",
        "        grads['b2'] = self.numerical_gradient(loss_W, self.params['b2'])\n",
        "        \n",
        "        return grads\n",
        "    def numerical_gradient(self, f, x):\n",
        "        h = 1e-4\n",
        "        grad = np.zeros_like(x)\n",
        "\n",
        "        it = np.nditer(x, flags=['multi_index'], op_flags=['readwrite'])\n",
        "        while not it.finished:\n",
        "            idx = it.multi_index\n",
        "            tmp_val = x[idx]\n",
        "            x[idx] = float(tmp_val) + h\n",
        "            fxh1 = f(x) # f(x+h)\n",
        "\n",
        "            x[idx] = tmp_val - h \n",
        "            fxh2 = f(x) # f(x-h)\n",
        "            grad[idx] = (fxh1 - fxh2) / (2*h)\n",
        "\n",
        "            x[idx] = tmp_val\n",
        "            it.iternext()   \n",
        "\n",
        "        return grad"
      ],
      "execution_count": 18,
      "outputs": []
    },
    {
      "cell_type": "code",
      "metadata": {
        "id": "rmedR9CIZ85f"
      },
      "source": [
        "nn = FCNN(input_size=4, hidden_size=2, output_size=3)"
      ],
      "execution_count": 19,
      "outputs": []
    },
    {
      "cell_type": "code",
      "metadata": {
        "id": "F55vpZGsZ85h",
        "colab": {
          "base_uri": "https://localhost:8080/"
        },
        "outputId": "d203c549-8296-48f8-eb23-2397e3556790"
      },
      "source": [
        "for key in nn.params:\n",
        "    print(key, nn.params[key].shape)"
      ],
      "execution_count": 20,
      "outputs": [
        {
          "output_type": "stream",
          "text": [
            "W1 (4, 2)\n",
            "b1 (2,)\n",
            "W2 (2, 3)\n",
            "b2 (3,)\n"
          ],
          "name": "stdout"
        }
      ]
    },
    {
      "cell_type": "code",
      "metadata": {
        "id": "tEDUBtMmZ85i"
      },
      "source": [
        "from sklearn.datasets import load_iris\n",
        "\n",
        "def one_hot_encoding(x):\n",
        "    from sklearn.preprocessing import OneHotEncoder\n",
        "    enc = OneHotEncoder()\n",
        "    enc.fit(x)\n",
        "    return enc.transform(x).toarray()\n",
        "iris = load_iris()\n",
        "x = iris.data\n",
        "y = iris.target.reshape(-1,1)\n",
        "y = one_hot_encoding(y)"
      ],
      "execution_count": 21,
      "outputs": []
    },
    {
      "cell_type": "code",
      "metadata": {
        "id": "zgATjMdiZ85k",
        "colab": {
          "base_uri": "https://localhost:8080/"
        },
        "outputId": "e354a59b-ea96-4409-c41e-90756c70561e"
      },
      "source": [
        "from sklearn.model_selection import train_test_split\n",
        "x_train, x_val, y_train, y_val = train_test_split(x, y, test_size=0.3)\n",
        "x_train.shape, x_val.shape, y_train.shape, y_val.shape"
      ],
      "execution_count": 22,
      "outputs": [
        {
          "output_type": "execute_result",
          "data": {
            "text/plain": [
              "((105, 4), (45, 4), (105, 3), (45, 3))"
            ]
          },
          "metadata": {
            "tags": []
          },
          "execution_count": 22
        }
      ]
    },
    {
      "cell_type": "code",
      "metadata": {
        "id": "vu4yh7nYZ85m",
        "colab": {
          "base_uri": "https://localhost:8080/"
        },
        "outputId": "efbd70c6-ed39-4bbb-9bf5-cf8c22a6d5e8"
      },
      "source": [
        "train_loss = []\n",
        "train_acc = []\n",
        "val_acc = []\n",
        "\n",
        "iterations = 10000\n",
        "learning_rate = 0.01\n",
        "train_size = x_train.shape[0]\n",
        "batch_size = 8\n",
        "iter_per_epoch = max(train_size/batch_size, 1)\n",
        "\n",
        "for i in range(iterations):\n",
        "    # 取樣 batch\n",
        "    batch_mask = np.random.choice(train_size, batch_size)\n",
        "    x_batch = x_train[batch_mask]\n",
        "    y_batch = y_train[batch_mask]\n",
        "    \n",
        "    # 計算梯度\n",
        "    grad = nn.compute_gradient(x_batch, y_batch)\n",
        "    \n",
        "    # 更新權重\n",
        "    for key in ('W1', 'b1', 'W2', 'b2'):\n",
        "        nn.params[key] -= learning_rate * grad[key]\n",
        "        \n",
        "    # 記錄訓練loss\n",
        "    loss = nn.loss(x_batch, y_batch)\n",
        "    train_loss.append(loss)\n",
        "    \n",
        "    # 每個iteration 紀錄訓練與驗證準確率\n",
        "    if i % iter_per_epoch == 0:\n",
        "        train_acc.append(nn.accuracy(x_train, y_train))\n",
        "        val_acc.append(nn.accuracy(x_val, y_val))\n",
        "        print(f'iter: {i} train acc: {train_acc[-1]}, val_acc: {val_acc[-1]} \\n')"
      ],
      "execution_count": 23,
      "outputs": [
        {
          "output_type": "stream",
          "text": [
            "iter: 0 train acc: 0.3142857142857143, val_acc: 0.3333333333333333 \n",
            "\n",
            "iter: 105 train acc: 0.3142857142857143, val_acc: 0.3333333333333333 \n",
            "\n",
            "iter: 210 train acc: 0.3142857142857143, val_acc: 0.3111111111111111 \n",
            "\n",
            "iter: 315 train acc: 0.6095238095238096, val_acc: 0.5777777777777777 \n",
            "\n",
            "iter: 420 train acc: 0.6761904761904762, val_acc: 0.6444444444444445 \n",
            "\n",
            "iter: 525 train acc: 0.6761904761904762, val_acc: 0.6444444444444445 \n",
            "\n",
            "iter: 630 train acc: 0.6761904761904762, val_acc: 0.6444444444444445 \n",
            "\n",
            "iter: 735 train acc: 0.6571428571428571, val_acc: 0.6666666666666666 \n",
            "\n",
            "iter: 840 train acc: 0.6761904761904762, val_acc: 0.6444444444444445 \n",
            "\n",
            "iter: 945 train acc: 0.6761904761904762, val_acc: 0.6444444444444445 \n",
            "\n",
            "iter: 1050 train acc: 0.6761904761904762, val_acc: 0.6444444444444445 \n",
            "\n",
            "iter: 1155 train acc: 0.638095238095238, val_acc: 0.6444444444444445 \n",
            "\n",
            "iter: 1260 train acc: 0.5047619047619047, val_acc: 0.4888888888888889 \n",
            "\n",
            "iter: 1365 train acc: 0.6761904761904762, val_acc: 0.6444444444444445 \n",
            "\n",
            "iter: 1470 train acc: 0.6761904761904762, val_acc: 0.6444444444444445 \n",
            "\n",
            "iter: 1575 train acc: 0.6761904761904762, val_acc: 0.6444444444444445 \n",
            "\n",
            "iter: 1680 train acc: 0.6761904761904762, val_acc: 0.6444444444444445 \n",
            "\n",
            "iter: 1785 train acc: 0.6761904761904762, val_acc: 0.6444444444444445 \n",
            "\n",
            "iter: 1890 train acc: 0.6761904761904762, val_acc: 0.6444444444444445 \n",
            "\n",
            "iter: 1995 train acc: 0.6761904761904762, val_acc: 0.6444444444444445 \n",
            "\n",
            "iter: 2100 train acc: 0.6761904761904762, val_acc: 0.6444444444444445 \n",
            "\n",
            "iter: 2205 train acc: 0.6761904761904762, val_acc: 0.6444444444444445 \n",
            "\n",
            "iter: 2310 train acc: 0.6761904761904762, val_acc: 0.6444444444444445 \n",
            "\n",
            "iter: 2415 train acc: 0.6666666666666666, val_acc: 0.6666666666666666 \n",
            "\n",
            "iter: 2520 train acc: 0.6666666666666666, val_acc: 0.6666666666666666 \n",
            "\n",
            "iter: 2625 train acc: 0.6666666666666666, val_acc: 0.6666666666666666 \n",
            "\n",
            "iter: 2730 train acc: 0.6761904761904762, val_acc: 0.6444444444444445 \n",
            "\n",
            "iter: 2835 train acc: 0.6761904761904762, val_acc: 0.6444444444444445 \n",
            "\n",
            "iter: 2940 train acc: 0.6761904761904762, val_acc: 0.6444444444444445 \n",
            "\n",
            "iter: 3045 train acc: 0.6761904761904762, val_acc: 0.6444444444444445 \n",
            "\n",
            "iter: 3150 train acc: 0.6761904761904762, val_acc: 0.6444444444444445 \n",
            "\n",
            "iter: 3255 train acc: 0.6761904761904762, val_acc: 0.6444444444444445 \n",
            "\n",
            "iter: 3360 train acc: 0.6857142857142857, val_acc: 0.6444444444444445 \n",
            "\n",
            "iter: 3465 train acc: 0.6761904761904762, val_acc: 0.6444444444444445 \n",
            "\n",
            "iter: 3570 train acc: 0.6761904761904762, val_acc: 0.6444444444444445 \n",
            "\n",
            "iter: 3675 train acc: 0.7238095238095238, val_acc: 0.7111111111111111 \n",
            "\n",
            "iter: 3780 train acc: 0.6857142857142857, val_acc: 0.6444444444444445 \n",
            "\n",
            "iter: 3885 train acc: 0.819047619047619, val_acc: 0.8444444444444444 \n",
            "\n",
            "iter: 3990 train acc: 0.6857142857142857, val_acc: 0.6444444444444445 \n",
            "\n",
            "iter: 4095 train acc: 0.6857142857142857, val_acc: 0.6444444444444445 \n",
            "\n",
            "iter: 4200 train acc: 0.6761904761904762, val_acc: 0.6444444444444445 \n",
            "\n",
            "iter: 4305 train acc: 0.6761904761904762, val_acc: 0.6444444444444445 \n",
            "\n",
            "iter: 4410 train acc: 0.6857142857142857, val_acc: 0.6444444444444445 \n",
            "\n",
            "iter: 4515 train acc: 0.6761904761904762, val_acc: 0.6444444444444445 \n",
            "\n",
            "iter: 4620 train acc: 0.6761904761904762, val_acc: 0.6444444444444445 \n",
            "\n",
            "iter: 4725 train acc: 0.6857142857142857, val_acc: 0.6888888888888889 \n",
            "\n",
            "iter: 4830 train acc: 0.6761904761904762, val_acc: 0.6444444444444445 \n",
            "\n",
            "iter: 4935 train acc: 0.6761904761904762, val_acc: 0.6444444444444445 \n",
            "\n",
            "iter: 5040 train acc: 0.6761904761904762, val_acc: 0.6444444444444445 \n",
            "\n",
            "iter: 5145 train acc: 0.6761904761904762, val_acc: 0.6444444444444445 \n",
            "\n",
            "iter: 5250 train acc: 0.6666666666666666, val_acc: 0.6666666666666666 \n",
            "\n",
            "iter: 5355 train acc: 0.6761904761904762, val_acc: 0.6444444444444445 \n",
            "\n",
            "iter: 5460 train acc: 0.6761904761904762, val_acc: 0.6444444444444445 \n",
            "\n",
            "iter: 5565 train acc: 0.7333333333333333, val_acc: 0.7333333333333333 \n",
            "\n",
            "iter: 5670 train acc: 0.6761904761904762, val_acc: 0.6444444444444445 \n",
            "\n",
            "iter: 5775 train acc: 0.6761904761904762, val_acc: 0.6444444444444445 \n",
            "\n",
            "iter: 5880 train acc: 0.6761904761904762, val_acc: 0.6444444444444445 \n",
            "\n",
            "iter: 5985 train acc: 0.6761904761904762, val_acc: 0.6444444444444445 \n",
            "\n",
            "iter: 6090 train acc: 0.6761904761904762, val_acc: 0.6444444444444445 \n",
            "\n",
            "iter: 6195 train acc: 0.6857142857142857, val_acc: 0.6444444444444445 \n",
            "\n",
            "iter: 6300 train acc: 0.6857142857142857, val_acc: 0.6666666666666666 \n",
            "\n",
            "iter: 6405 train acc: 0.6761904761904762, val_acc: 0.6444444444444445 \n",
            "\n",
            "iter: 6510 train acc: 0.6761904761904762, val_acc: 0.6444444444444445 \n",
            "\n",
            "iter: 6615 train acc: 0.7238095238095238, val_acc: 0.7333333333333333 \n",
            "\n",
            "iter: 6720 train acc: 0.6761904761904762, val_acc: 0.6444444444444445 \n",
            "\n",
            "iter: 6825 train acc: 0.6761904761904762, val_acc: 0.6444444444444445 \n",
            "\n",
            "iter: 6930 train acc: 0.6761904761904762, val_acc: 0.6444444444444445 \n",
            "\n",
            "iter: 7035 train acc: 0.6761904761904762, val_acc: 0.6444444444444445 \n",
            "\n",
            "iter: 7140 train acc: 0.6761904761904762, val_acc: 0.6444444444444445 \n",
            "\n",
            "iter: 7245 train acc: 0.6761904761904762, val_acc: 0.6444444444444445 \n",
            "\n",
            "iter: 7350 train acc: 0.6761904761904762, val_acc: 0.6444444444444445 \n",
            "\n",
            "iter: 7455 train acc: 0.6857142857142857, val_acc: 0.6444444444444445 \n",
            "\n",
            "iter: 7560 train acc: 0.6761904761904762, val_acc: 0.6444444444444445 \n",
            "\n",
            "iter: 7665 train acc: 0.6761904761904762, val_acc: 0.6444444444444445 \n",
            "\n",
            "iter: 7770 train acc: 0.6857142857142857, val_acc: 0.6666666666666666 \n",
            "\n",
            "iter: 7875 train acc: 0.6857142857142857, val_acc: 0.6888888888888889 \n",
            "\n",
            "iter: 7980 train acc: 0.6857142857142857, val_acc: 0.6444444444444445 \n",
            "\n",
            "iter: 8085 train acc: 0.6761904761904762, val_acc: 0.6444444444444445 \n",
            "\n",
            "iter: 8190 train acc: 0.6857142857142857, val_acc: 0.6444444444444445 \n",
            "\n",
            "iter: 8295 train acc: 0.6666666666666666, val_acc: 0.6666666666666666 \n",
            "\n",
            "iter: 8400 train acc: 0.6761904761904762, val_acc: 0.6444444444444445 \n",
            "\n",
            "iter: 8505 train acc: 0.6761904761904762, val_acc: 0.6444444444444445 \n",
            "\n",
            "iter: 8610 train acc: 0.6761904761904762, val_acc: 0.6444444444444445 \n",
            "\n",
            "iter: 8715 train acc: 0.6857142857142857, val_acc: 0.6444444444444445 \n",
            "\n",
            "iter: 8820 train acc: 0.6857142857142857, val_acc: 0.7111111111111111 \n",
            "\n",
            "iter: 8925 train acc: 0.6952380952380952, val_acc: 0.7111111111111111 \n",
            "\n",
            "iter: 9030 train acc: 0.6952380952380952, val_acc: 0.7111111111111111 \n",
            "\n",
            "iter: 9135 train acc: 0.6761904761904762, val_acc: 0.6444444444444445 \n",
            "\n",
            "iter: 9240 train acc: 0.7238095238095238, val_acc: 0.7333333333333333 \n",
            "\n",
            "iter: 9345 train acc: 0.6857142857142857, val_acc: 0.6666666666666666 \n",
            "\n",
            "iter: 9450 train acc: 0.6857142857142857, val_acc: 0.6444444444444445 \n",
            "\n",
            "iter: 9555 train acc: 0.6857142857142857, val_acc: 0.6444444444444445 \n",
            "\n",
            "iter: 9660 train acc: 0.6857142857142857, val_acc: 0.6444444444444445 \n",
            "\n",
            "iter: 9765 train acc: 0.6952380952380952, val_acc: 0.7111111111111111 \n",
            "\n",
            "iter: 9870 train acc: 0.6857142857142857, val_acc: 0.6666666666666666 \n",
            "\n",
            "iter: 9975 train acc: 0.6857142857142857, val_acc: 0.6666666666666666 \n",
            "\n"
          ],
          "name": "stdout"
        }
      ]
    },
    {
      "cell_type": "code",
      "metadata": {
        "id": "b-rX_dnLZ85n",
        "colab": {
          "base_uri": "https://localhost:8080/",
          "height": 282
        },
        "outputId": "709c492b-7a26-4c4a-a0d1-3fcb4aeb8f65"
      },
      "source": [
        "plt.plot(train_loss)"
      ],
      "execution_count": 24,
      "outputs": [
        {
          "output_type": "execute_result",
          "data": {
            "text/plain": [
              "[<matplotlib.lines.Line2D at 0x7faa951eda90>]"
            ]
          },
          "metadata": {
            "tags": []
          },
          "execution_count": 24
        },
        {
          "output_type": "display_data",
          "data": {
            "image/png": "[encoded data removed]",
            "text/plain": [
              "<Figure size 432x288 with 1 Axes>"
            ]
          },
          "metadata": {
            "tags": [],
            "needs_background": "light"
          }
        }
      ]
    },
    {
      "cell_type": "code",
      "metadata": {
        "id": "70Vr8zKvZ85p",
        "colab": {
          "base_uri": "https://localhost:8080/",
          "height": 282
        },
        "outputId": "8fabb3db-a7a9-4240-aed9-950fb2af4b02"
      },
      "source": [
        "plt.plot(train_acc)\n",
        "plt.plot(val_acc)"
      ],
      "execution_count": 25,
      "outputs": [
        {
          "output_type": "execute_result",
          "data": {
            "text/plain": [
              "[<matplotlib.lines.Line2D at 0x7faa951edfd0>]"
            ]
          },
          "metadata": {
            "tags": []
          },
          "execution_count": 25
        },
        {
          "output_type": "display_data",
          "data": {
            "image/png": "[encoded data removed]",
            "text/plain": [
              "<Figure size 432x288 with 1 Axes>"
            ]
          },
          "metadata": {
            "tags": [],
            "needs_background": "light"
          }
        }
      ]
    },
    {
      "cell_type": "markdown",
      "metadata": {
        "id": "3g61_-thZ85q"
      },
      "source": [
        "## 練習\n",
        "1. 試著將 FCNN改成2, 3層 hidden layers的神經網路\n",
        "2. 使用 sklearn.datasets 的 load digits 資料集配上今天所學，訓練一個手寫數字辨識的神經網路"
      ]
    },
    {
      "cell_type": "code",
      "metadata": {
        "id": "KWkSF5FDZ85r"
      },
      "source": [
        "from sklearn.datasets import load_digits\n",
        "digits = load_digits()"
      ],
      "execution_count": 26,
      "outputs": []
    },
    {
      "cell_type": "code",
      "metadata": {
        "id": "Ky5jBqfHZ85t",
        "colab": {
          "base_uri": "https://localhost:8080/",
          "height": 377
        },
        "outputId": "0439db1a-4dd6-4683-8749-f1bd94f9b2c6"
      },
      "source": [
        "index = np.random.randint(0,len(digits.data))\n",
        "print(digits.target[index])\n",
        "print(digits.data[index])\n",
        "plt.gray()\n",
        "plt.matshow(digits.images[index])\n",
        "plt.show()"
      ],
      "execution_count": 27,
      "outputs": [
        {
          "output_type": "stream",
          "text": [
            "7\n",
            "[ 0.  0.  6. 16. 13. 12. 14.  1.  0.  0. 14.  4.  4. 15.  4.  0.  0.  1.\n",
            "  7.  0. 10.  7.  0.  0.  0.  0.  0.  2. 13.  1.  0.  0.  0.  2.  9. 14.\n",
            " 16. 12.  0.  0.  0.  4.  6. 15.  2.  4.  1.  0.  0.  0.  6.  7.  0.  0.\n",
            "  0.  0.  0.  0. 10.  4.  0.  0.  0.  0.]\n"
          ],
          "name": "stdout"
        },
        {
          "output_type": "display_data",
          "data": {
            "text/plain": [
              "<Figure size 432x288 with 0 Axes>"
            ]
          },
          "metadata": {
            "tags": []
          }
        },
        {
          "output_type": "display_data",
          "data": {
            "image/png": "[encoded data removed]",
            "text/plain": [
              "<Figure size 288x288 with 1 Axes>"
            ]
          },
          "metadata": {
            "tags": [],
            "needs_background": "light"
          }
        }
      ]
    },
    {
      "cell_type": "code",
      "metadata": {
        "id": "ok2AkNMYZ85v"
      },
      "source": [
        ""
      ],
      "execution_count": 27,
      "outputs": []
    }
  ]
}